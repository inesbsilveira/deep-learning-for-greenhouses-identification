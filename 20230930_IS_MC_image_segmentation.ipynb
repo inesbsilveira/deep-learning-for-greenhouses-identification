{
  "nbformat": 4,
  "nbformat_minor": 0,
  "metadata": {
    "colab": {
      "provenance": [],
      "toc_visible": true,
      "authorship_tag": "ABX9TyObf2ep2Qqu07uW9tO5OKKj",
      "include_colab_link": true
    },
    "kernelspec": {
      "name": "python3",
      "display_name": "Python 3"
    },
    "language_info": {
      "name": "python"
    }
  },
  "cells": [
    {
      "cell_type": "markdown",
      "metadata": {
        "id": "view-in-github",
        "colab_type": "text"
      },
      "source": [
        "<a href=\"https://colab.research.google.com/github/inesbsilveira/estufas/blob/main/20230930_IS_MC_image_segmentation.ipynb\" target=\"_parent\"><img src=\"https://colab.research.google.com/assets/colab-badge.svg\" alt=\"Open In Colab\"/></a>"
      ]
    },
    {
      "cell_type": "markdown",
      "source": [
        "# **Imports, parameters and variables**"
      ],
      "metadata": {
        "id": "2JwOqe_75_P2"
      }
    },
    {
      "cell_type": "code",
      "execution_count": 7,
      "metadata": {
        "id": "OduyU9nw0P7o",
        "outputId": "bf370e64-b448-4361-8426-d7789e8ceb8b",
        "colab": {
          "base_uri": "https://localhost:8080/"
        }
      },
      "outputs": [
        {
          "output_type": "stream",
          "name": "stdout",
          "text": [
            "Requirement already satisfied: rasterio in /usr/local/lib/python3.10/dist-packages (1.3.8.post2)\n",
            "Requirement already satisfied: affine in /usr/local/lib/python3.10/dist-packages (from rasterio) (2.4.0)\n",
            "Requirement already satisfied: attrs in /usr/local/lib/python3.10/dist-packages (from rasterio) (23.1.0)\n",
            "Requirement already satisfied: certifi in /usr/local/lib/python3.10/dist-packages (from rasterio) (2023.7.22)\n",
            "Requirement already satisfied: click>=4.0 in /usr/local/lib/python3.10/dist-packages (from rasterio) (8.1.7)\n",
            "Requirement already satisfied: cligj>=0.5 in /usr/local/lib/python3.10/dist-packages (from rasterio) (0.7.2)\n",
            "Requirement already satisfied: numpy in /usr/local/lib/python3.10/dist-packages (from rasterio) (1.23.5)\n",
            "Requirement already satisfied: snuggs>=1.4.1 in /usr/local/lib/python3.10/dist-packages (from rasterio) (1.4.7)\n",
            "Requirement already satisfied: click-plugins in /usr/local/lib/python3.10/dist-packages (from rasterio) (1.1.1)\n",
            "Requirement already satisfied: setuptools in /usr/local/lib/python3.10/dist-packages (from rasterio) (67.7.2)\n",
            "Requirement already satisfied: pyparsing>=2.1.6 in /usr/local/lib/python3.10/dist-packages (from snuggs>=1.4.1->rasterio) (3.1.1)\n"
          ]
        }
      ],
      "source": [
        "!pip install rasterio"
      ]
    },
    {
      "cell_type": "code",
      "source": [
        "import rasterio\n",
        "from rasterio.windows import Window\n",
        "import os\n",
        "import shutil\n",
        "import numpy as np\n",
        "from PIL import Image\n",
        "from fastai.vision.all import *\n",
        "from sklearn.metrics import classification_report, roc_auc_score, precision_score, confusion_matrix, ConfusionMatrixDisplay\n",
        "from sklearn.model_selection import KFold\n",
        "import matplotlib.pyplot as plt\n",
        "import tifffile as tiff\n",
        "import matplotlib.image as mpimg\n",
        "from rasterio.windows import from_bounds\n",
        "import ee"
      ],
      "metadata": {
        "id": "sakoF1ln0VTZ"
      },
      "execution_count": 8,
      "outputs": []
    },
    {
      "cell_type": "code",
      "source": [
        "# Trigger the authentication flow.\n",
        "ee.Authenticate()\n",
        "\n",
        "# Initialize the library.\n",
        "ee.Initialize()"
      ],
      "metadata": {
        "id": "byOdId0M76W0",
        "outputId": "3938fc19-35b3-45b7-958b-496c9ddb1bfe",
        "colab": {
          "base_uri": "https://localhost:8080/"
        }
      },
      "execution_count": 9,
      "outputs": [
        {
          "output_type": "stream",
          "name": "stdout",
          "text": [
            "To authorize access needed by Earth Engine, open the following URL in a web browser and follow the instructions. If the web browser does not start automatically, please manually browse the URL below.\n",
            "\n",
            "    https://code.earthengine.google.com/client-auth?scopes=https%3A//www.googleapis.com/auth/earthengine%20https%3A//www.googleapis.com/auth/devstorage.full_control&request_id=NlC-IEBmNr94A20S9vQO_X0A3t78V7qBMhSv-adCoJQ&tc=Pl_nkU4xChS8yh2OCvvSJf3tdgspk8iWOHum8RgK1X4&cc=GVt7Wvc0Vn_OVpOKWqOeuauiUbhdqfR19R43mv3zfiY\n",
            "\n",
            "The authorization workflow will generate a code, which you should paste in the box below.\n",
            "Enter verification code: 4/1AfJohXmiR0MobVMWxdhoelSZ-vSp7f0Zi0Niu9pTI2D3nM9e9oxhDtdIvyc\n",
            "\n",
            "Successfully saved authorization token.\n"
          ]
        }
      ]
    },
    {
      "cell_type": "code",
      "source": [
        "from google.colab import drive\n",
        "drive.mount('/content/drive')"
      ],
      "metadata": {
        "colab": {
          "base_uri": "https://localhost:8080/"
        },
        "id": "0tUNND6M0YhP",
        "outputId": "d0741e43-8b3e-4e81-c8a5-07ac20560cec"
      },
      "execution_count": 10,
      "outputs": [
        {
          "output_type": "stream",
          "name": "stdout",
          "text": [
            "Drive already mounted at /content/drive; to attempt to forcibly remount, call drive.mount(\"/content/drive\", force_remount=True).\n"
          ]
        }
      ]
    },
    {
      "cell_type": "code",
      "source": [
        "user='I' # escolher 'M' ou 'I'\n",
        "N_epochs=2\n",
        "target_names = ['not greenhouse', 'greenhouse']\n",
        "Nrows,Ncols = 20, 8 # número de blocos a usar 20*8=160\n",
        "model_name = 'model_2epochs.pkl'\n",
        "new_model_name = 'model_2epochs.pkl'\n",
        "train_model = True"
      ],
      "metadata": {
        "id": "o6ETvT3E2anV"
      },
      "execution_count": 11,
      "outputs": []
    },
    {
      "cell_type": "code",
      "source": [
        "# Specify the directory path\n",
        "if user=='M':\n",
        "  directory = '/content/drive/MyDrive/inv_proj/S2change_DGT/Estufas_Alentejo'\n",
        "else:\n",
        "  directory = '/content/drive/MyDrive/Estufas'\n",
        "\n",
        "path=Path(directory)\n",
        "image_folder_name = \"images\"\n",
        "label_folder_name = \"labels\"\n",
        "predicted_folder_name = \"predicted\"\n",
        "image_folder = os.path.join(directory, image_folder_name)\n",
        "os.makedirs(image_folder, exist_ok=True)\n",
        "label_folder = os.path.join(directory, label_folder_name)\n",
        "os.makedirs(label_folder, exist_ok=True)\n",
        "predicted_folder = os.path.join(directory, predicted_folder_name)\n",
        "os.makedirs(predicted_folder, exist_ok=True)"
      ],
      "metadata": {
        "id": "N8XRKFTv0eMr"
      },
      "execution_count": 12,
      "outputs": []
    },
    {
      "cell_type": "markdown",
      "source": [
        "# **Functions**"
      ],
      "metadata": {
        "id": "7WgSqKAD6T3k"
      }
    },
    {
      "cell_type": "markdown",
      "source": [
        "## Retrieve Images from Google Earth Engine"
      ],
      "metadata": {
        "id": "y4aow4nxC7RQ"
      }
    },
    {
      "cell_type": "code",
      "source": [
        "# Function to extract images from google earth engine\n",
        "\n",
        "\"\"\"\n",
        "Inputs:\n",
        "- extent = (lonmin, lonmax, latmin, latmax)\n",
        "- start_date and end_date = 'YYY-MM-DD'\n",
        "- band_name = 'B2', 'B3', 'B4' or 'B8'\n",
        "- folder_name = 'folder_name' is where the tiff file is stored\n",
        "Output: tiff file saved in folder_name\n",
        "\"\"\"\n",
        "\n",
        "def gee_images (extent, start_date, end_date, band_name, folder_name):\n",
        "\n",
        "    if not os.path.exists(folder_name):\n",
        "        os.mkdir(folder_name)\n",
        "\n",
        "    # Define the extent\n",
        "    lonmin, lonmax, latmin, latmax = extent\n",
        "\n",
        "    region = ee.Geometry.Polygon(\n",
        "        [[\n",
        "            [lonmin, latmin],\n",
        "            [lonmax, latmin],\n",
        "            [lonmax, latmax],\n",
        "            [lonmin, latmax]\n",
        "        ]])\n",
        "\n",
        "    # Define the Sentinel-2 image collection and filter it by date and region\n",
        "    sentinel2 = ee.ImageCollection('COPERNICUS/S2') \\\n",
        "        .filterBounds(region) \\\n",
        "        .filterDate(start_date, end_date)  # Change the date range as needed\n",
        "\n",
        "    # Define a function to mask clouds using the QA60 band\n",
        "    def maskClouds(image):\n",
        "        cloudBitMask = 1 << 10\n",
        "        cirrusBitMask = 1 << 11\n",
        "        qa60 = image.select(['QA60'])\n",
        "        cloudMask = qa60.bitwiseAnd(cloudBitMask).eq(0) \\\n",
        "            .And(qa60.bitwiseAnd(cirrusBitMask).eq(0))\n",
        "        return image.updateMask(cloudMask)\n",
        "\n",
        "    # Map the maskClouds function over the image collection\n",
        "    sentinel2 = sentinel2.map(maskClouds)\n",
        "\n",
        "    # Define a function to add a band containing the date of the image\n",
        "    def addDate(image):\n",
        "        return image.addBands(image.metadata('system:time_start'))\n",
        "\n",
        "    # Map the addDate function over the image collection\n",
        "    sentinel2 = sentinel2.map(addDate)\n",
        "\n",
        "    # Export each image to Google Drive\n",
        "    image_list = sentinel2.toList(sentinel2.size())\n",
        "    for i in range(0, sentinel2.size().getInfo()):\n",
        "        image = ee.Image(image_list.get(i))\n",
        "        date = ee.Date(image.get('system:time_start')).format('YYYY-MM-dd')\n",
        "        task = ee.batch.Export.image.toDrive(\n",
        "            image=image.select([band_name]),\n",
        "            description='Sentinel2_' + band_name + '_' + date.getInfo(),\n",
        "            folder= folder_name,\n",
        "            region=region,\n",
        "            scale=10  # Change the scale as needed\n",
        "        )\n",
        "        task.start()"
      ],
      "metadata": {
        "id": "EnPeEOI3C6xN"
      },
      "execution_count": 42,
      "outputs": []
    },
    {
      "cell_type": "markdown",
      "source": [
        "## Clip and saturate tiff files"
      ],
      "metadata": {
        "id": "k8u0oJfn6d22"
      }
    },
    {
      "cell_type": "code",
      "source": [
        "# clip tiff file by extent (xmin, ymin, xmax, ymax)\n",
        "def clip_tiff_by_extent(input_file, output_file, extent):\n",
        "    # Open the input GeoTIFF file\n",
        "    with rasterio.open(input_file) as src:\n",
        "        # Create a window representing the desired extent\n",
        "        window = from_bounds(*extent, transform=src.transform)\n",
        "\n",
        "        # Read the data within the window\n",
        "        clipped_data = src.read(window=window)\n",
        "\n",
        "        # Update the transform to reflect the new window\n",
        "        new_transform = src.window_transform(window)\n",
        "\n",
        "        # Create a new GeoTIFF file with the clipped data\n",
        "        with rasterio.open(\n",
        "            output_file,\n",
        "            'w',\n",
        "            driver='GTiff',\n",
        "            width=window.width,\n",
        "            height=window.height,\n",
        "            count=src.count,\n",
        "            dtype=clipped_data.dtype,\n",
        "            crs=src.crs,\n",
        "            transform=new_transform\n",
        "        ) as dst:\n",
        "            dst.write(clipped_data)"
      ],
      "metadata": {
        "id": "5HBhF93ank-M"
      },
      "execution_count": 14,
      "outputs": []
    },
    {
      "cell_type": "code",
      "source": [
        "#saturate array considering bigmin and bigmax values. output is an array\n",
        "def recalculate_array(arr, bigmin, bigmax):\n",
        "    # Saturate values below bigmin to bigmin and above bigmax to bigmax\n",
        "    saturated_arr = np.clip(arr, bigmin, bigmax)\n",
        "    return saturated_arr"
      ],
      "metadata": {
        "id": "TJ3Re9ZNrnQn"
      },
      "execution_count": 15,
      "outputs": []
    },
    {
      "cell_type": "code",
      "source": [
        "#Calculate bigmin and bigmax and saturated tif file accordingly\n",
        "def satu_tiff(input_file, output_file):\n",
        "    with rasterio.open(input_file) as src:\n",
        "        # Get the number of bands in the input GeoTIFF\n",
        "        num_bands = src.count\n",
        "\n",
        "        # Initialize an empty list to store the saturated bands\n",
        "        saturated_bands = []\n",
        "\n",
        "        for band_idx in range(1, num_bands + 1):\n",
        "            # Read the band into a NumPy array\n",
        "            band = src.read(band_idx)\n",
        "\n",
        "            # Calculate bigmin and bigmax for the current band based on percentiles or other criteria\n",
        "            bigmin = np.percentile(band, 1)  # 1st percentile\n",
        "            bigmax = np.percentile(band, 99)  # 99th percentile\n",
        "\n",
        "            # Recalculate the array values for the current band\n",
        "            saturated_band = recalculate_array(band, bigmin, bigmax)\n",
        "\n",
        "            # Append the saturated band to the list\n",
        "            saturated_bands.append(saturated_band)\n",
        "\n",
        "        # Create a new GeoTIFF file with the saturated bands\n",
        "        with rasterio.open(\n",
        "            output_file,\n",
        "            'w',\n",
        "            driver='GTiff',\n",
        "            width=src.width,\n",
        "            height=src.height,\n",
        "            count=num_bands,\n",
        "            dtype=saturated_bands[0].dtype,\n",
        "            crs=src.crs,\n",
        "            transform=src.transform\n",
        "        ) as dst:\n",
        "            for band_idx, band in enumerate(saturated_bands, start=1):\n",
        "                dst.write(band, band_idx)"
      ],
      "metadata": {
        "id": "Wsf1zIHoqpl1"
      },
      "execution_count": 16,
      "outputs": []
    },
    {
      "cell_type": "markdown",
      "source": [
        "## Calculate indexes - NDVI, RPGI, albedo"
      ],
      "metadata": {
        "id": "mEnGanR48nGY"
      }
    },
    {
      "cell_type": "code",
      "source": [
        "# Calculate NDVI using the Red band and NIR band. Output is a 1 band tiff file\n",
        "def calculate_ndvi(red_file, nir_file, output_file):\n",
        "    # Open the Red, Green, NIR, and Blue band GeoTIFF files\n",
        "    with rasterio.open(red_file) as red_src, rasterio.open(nir_file) as nir_src:\n",
        "\n",
        "        # Read the Red and NIR bands\n",
        "        red_band = red_src.read(1)\n",
        "        nir_band = nir_src.read(1)\n",
        "\n",
        "        # Calculate NDVI\n",
        "        with np.errstate(divide='ignore', invalid='ignore'):\n",
        "            # Ignore division by zero and invalid (e.g., NaN) results\n",
        "            ndvi = np.where(\n",
        "                (nir_band + red_band) == 0,\n",
        "                0.0,  # Set NDVI to 0 where the denominator is 0\n",
        "                (nir_band - red_band) / (nir_band + red_band)\n",
        "            )\n",
        "\n",
        "        # Create a new GeoTIFF file with the NDVI band\n",
        "        with rasterio.open(\n",
        "            output_file,\n",
        "            'w',\n",
        "            driver='GTiff',\n",
        "            width=red_src.width,\n",
        "            height=red_src.height,\n",
        "            count=1,\n",
        "            dtype=ndvi.dtype,\n",
        "            crs=red_src.crs,\n",
        "            transform=red_src.transform\n",
        "        ) as dst:\n",
        "            dst.write(ndvi, 1)"
      ],
      "metadata": {
        "id": "vrq7BaOX-zYL"
      },
      "execution_count": 17,
      "outputs": []
    },
    {
      "cell_type": "code",
      "source": [
        "# Calculate RPGI using Blue band, green band and NIR band. Output is a 1 band tiff file\n",
        "def calculate_rpgi(blue_file, green_file, nir_file, output_file):\n",
        "    # Open the Red, Green, NIR, and Blue band GeoTIFF files\n",
        "    with rasterio.open(blue_file) as blue_src, rasterio.open(nir_file) as nir_src, rasterio.open(green_file) as green_src:\n",
        "\n",
        "        # Read the Blue, Green, and NIR bands\n",
        "        blue_band = blue_src.read(1)\n",
        "        green_band = green_src.read(1)\n",
        "        nir_band = nir_src.read(1)\n",
        "\n",
        "        # Calculate RPGI\n",
        "        with np.errstate(divide='ignore', invalid='ignore'):\n",
        "            rpgi = (blue_band) / (1 - np.mean(blue_band + green_band + nir_band))\n",
        "\n",
        "        # Create a new GeoTIFF file with the NDVI band\n",
        "        with rasterio.open(\n",
        "            output_file,\n",
        "            'w',\n",
        "            driver='GTiff',\n",
        "            width=blue_src.width,\n",
        "            height=blue_src.height,\n",
        "            count=1,\n",
        "            dtype=rpgi.dtype,\n",
        "            crs=blue_src.crs,\n",
        "            transform=blue_src.transform\n",
        "        ) as dst:\n",
        "            dst.write(rpgi, 1)"
      ],
      "metadata": {
        "id": "3AOe-V5wSzZ2"
      },
      "execution_count": 18,
      "outputs": []
    },
    {
      "cell_type": "code",
      "source": [
        "# Calculate albedo using blue band, green band and red band. the output is a 3 bands tiff file\n",
        "def calculate_albedo(blue_file, green_file, red_file, output_file):\n",
        "    # Open the Red, Green, NIR, and Blue band GeoTIFF files\n",
        "    with rasterio.open(blue_file) as blue_src, rasterio.open(red_file) as red_src, rasterio.open(green_file) as green_src:\n",
        "\n",
        "        # Read the Red, Green and Blue bands\n",
        "        blue_band = blue_src.read(1)\n",
        "        green_band = green_src.read(1)\n",
        "        red_band = red_src.read(1)\n",
        "\n",
        "        # Calculate albedo\n",
        "        albedo = blue_band + green_band + red_band\n",
        "\n",
        "        # Create a new GeoTIFF file with the NDVI band\n",
        "        with rasterio.open(\n",
        "            output_file,\n",
        "            'w',\n",
        "            driver='GTiff',\n",
        "            width=blue_src.width,\n",
        "            height=blue_src.height,\n",
        "            count=1,\n",
        "            dtype=albedo.dtype,\n",
        "            crs=blue_src.crs,\n",
        "            transform=blue_src.transform\n",
        "        ) as dst:\n",
        "            dst.write(albedo, 1)"
      ],
      "metadata": {
        "id": "b3LQ30-dX9OQ"
      },
      "execution_count": 19,
      "outputs": []
    },
    {
      "cell_type": "code",
      "source": [
        "# Put together all the indexes. the output is a tiff file with 3 bands\n",
        "def calculate_ndvi_rpgi_albedo(ndvi_file, rpgi_file, albedo_file, output_file):\n",
        "    # Open the Red, Green, NIR, and Blue band GeoTIFF files\n",
        "    with rasterio.open(ndvi_file) as ndvi_src, rasterio.open(rpgi_file) as rpgi_src, rasterio.open(albedo_file) as albedo_src:\n",
        "        # Read the NDVI, RPGI, and Albedo bands\n",
        "        ndvi_band = ndvi_src.read(1)\n",
        "        rpgi_band = rpgi_src.read(1)\n",
        "        albedo_band = albedo_src.read(1)\n",
        "\n",
        "        # Create a new GeoTIFF file with multiple bands\n",
        "        with rasterio.open(\n",
        "            output_file,\n",
        "            'w',\n",
        "            driver='GTiff',\n",
        "            width=ndvi_src.width,\n",
        "            height=ndvi_src.height,\n",
        "            count=3,  # Set the count to the number of input bands (NDVI, RPGI, Albedo)\n",
        "            dtype=ndvi_band.dtype,  # Use the data type of the input bands\n",
        "            crs=ndvi_src.crs,\n",
        "            transform=ndvi_src.transform\n",
        "        ) as dst:\n",
        "            # Write each band to the output GeoTIFF\n",
        "            dst.write(ndvi_band, 1)\n",
        "            dst.write(rpgi_band, 2)\n",
        "            dst.write(albedo_band, 3)"
      ],
      "metadata": {
        "id": "reeXeIoUfSEf"
      },
      "execution_count": 20,
      "outputs": []
    },
    {
      "cell_type": "markdown",
      "source": [
        "## Display and convert pixel values"
      ],
      "metadata": {
        "id": "RmiJthx57LWp"
      }
    },
    {
      "cell_type": "code",
      "source": [
        "# Display unique values and their datatype in a tif file. output is a list of unique values, datatype and a numpy array\n",
        "def display_unique_values_tiff_file (input_file):\n",
        "  # Open the TIFF file\n",
        "  with rasterio.open(input_file, 'r') as src:\n",
        "      # Read the data as a NumPy array\n",
        "      tiff_array = src.read(1)  # Assuming it's a single-band TIFF\n",
        "\n",
        "      # Find unique values in the NumPy array\n",
        "      unique_values = np.unique(tiff_array)\n",
        "\n",
        "      # Get the data type of the TIFF file\n",
        "      data_type = src.dtypes[0]\n",
        "\n",
        "  # Display the data type\n",
        "  print(f\"Data Type: {data_type}\")\n",
        "\n",
        "  # Display the unique values\n",
        "  print(\"Unique Values:\")\n",
        "  for value in unique_values:\n",
        "      print(value)\n",
        "\n",
        "  # Print the data in the NumPy array\n",
        "  print(tiff_array)"
      ],
      "metadata": {
        "id": "IvDBToyEE_YW"
      },
      "execution_count": 21,
      "outputs": []
    },
    {
      "cell_type": "code",
      "source": [
        "# Display unique values and their datatype in a PNG image. output is a list of unique values, datatype and a numpy array\n",
        "def display_unique_values_and_datatype(input_file):\n",
        "    # Open the PNG image\n",
        "    img = Image.open(input_file)\n",
        "\n",
        "    # Convert the image to a NumPy array\n",
        "    png_array = np.array(img)\n",
        "\n",
        "    # Find unique values in the NumPy array\n",
        "    unique_values = np.unique(png_array)\n",
        "\n",
        "    # Get the data type of the PNG image\n",
        "    data_type = png_array.dtype\n",
        "\n",
        "    # Display the data type\n",
        "    print(f\"Data Type: {data_type}\")\n",
        "\n",
        "    # Display the unique values\n",
        "    print(\"Unique Values:\")\n",
        "    for value in unique_values:\n",
        "        print(value)\n",
        "\n",
        "    # Print the data in the NumPy array\n",
        "    print(png_array)"
      ],
      "metadata": {
        "id": "uyc-QiWU-mrT"
      },
      "execution_count": 22,
      "outputs": []
    },
    {
      "cell_type": "code",
      "source": [
        "# Replace NODATA values with 0 in a tiff file and convert the datatype. this function requires the the value assigned to nodata values\n",
        "def convert_nodata_values (nodata_value, input_file,output_file):\n",
        "  # Open the input TIFF file\n",
        "  with rasterio.open(input_file, 'r') as src:\n",
        "      # Read the data as a NumPy array\n",
        "      data = src.read(1)\n",
        "\n",
        "      # Replace NoData values with 0\n",
        "      data[data == nodata_value] = 0\n",
        "\n",
        "      # Create a new TIFF file for writing\n",
        "      with rasterio.open(\n",
        "          output_file,\n",
        "          'w',\n",
        "          driver='GTiff',\n",
        "          width=src.width,\n",
        "          height=src.height,\n",
        "          count=1,\n",
        "          dtype=rasterio.uint8,  # Adjust data type as needed\n",
        "          crs=src.crs,\n",
        "          transform=src.transform,\n",
        "      ) as dst:\n",
        "          # Write the modified data to the new TIFF file\n",
        "          dst.write(data, 1)\n",
        "\n",
        "  print(f\"NoData values converted to 0\")\n"
      ],
      "metadata": {
        "id": "u8JagWb4GByG"
      },
      "execution_count": 23,
      "outputs": []
    },
    {
      "cell_type": "code",
      "source": [
        "# Display a TIFF file. input should be a tiff file\n",
        "def display_tiff_file (input_file):\n",
        "  # Load and display the TIFF image\n",
        "  img = mpimg.imread(input_file)\n",
        "  plt.imshow(img, cmap='gray')  # Use 'gray' colormap for binary images\n",
        "  plt.axis('off')  # Turn off axis labels and ticks\n",
        "  plt.show()\n"
      ],
      "metadata": {
        "id": "mF5nLWJnB1Im"
      },
      "execution_count": 24,
      "outputs": []
    },
    {
      "cell_type": "markdown",
      "source": [
        "## Clip and rescale tiff files"
      ],
      "metadata": {
        "id": "NHhfZu8j7Seq"
      }
    },
    {
      "cell_type": "code",
      "source": [
        "# Function to clip and rescale tif files and save png images in a folder\n",
        "# Input files are tiff files with 1 or 3 bands, output_folder is the folder where the png images are going to be stored. Nrows and Ncols are defined above\n",
        "def clip_raster_and_rescale(input_file, output_folder, Nrows, Ncols):\n",
        "    with rasterio.open(input_file) as src:\n",
        "        height = src.height // Nrows\n",
        "        width = src.width // Ncols\n",
        "        Nbands = src.count  # Get the number of bands in the input file\n",
        "\n",
        "        for i in range(Nrows):\n",
        "            for j in range(Ncols):\n",
        "                ymin = i * height\n",
        "                ymax = (i + 1) * height\n",
        "                xmin = j * width\n",
        "                xmax = (j + 1) * width\n",
        "                window = Window.from_slices((ymin, ymax), (xmin, xmax))\n",
        "\n",
        "                if Nbands == 1:\n",
        "                    clipped_data = src.read(window=window)\n",
        "                    clipped_meta = src.meta.copy()\n",
        "                    clipped_meta.update({\n",
        "                        'height': window.height,\n",
        "                        'width': window.width,\n",
        "                        'transform': src.window_transform(window)\n",
        "                })\n",
        "                    output_file = os.path.join(output_folder, f'image_{i}_{j}_mask.png')\n",
        "                    with rasterio.open(output_file, 'w', **clipped_meta) as dst:\n",
        "                        dst.write(clipped_data)\n",
        "                elif Nbands == 3:\n",
        "                    clipped_data_1 = rescale_to_8bits(src.read(1, window=window))\n",
        "                    clipped_data_2 = rescale_to_8bits(src.read(2, window=window))\n",
        "                    clipped_data_3 = rescale_to_8bits(src.read(3, window=window))\n",
        "                    rgb_image = np.stack([clipped_data_1, clipped_data_2, clipped_data_3], axis=2)\n",
        "                    image = Image.fromarray(rgb_image, mode='RGB')\n",
        "                    output_file = os.path.join(output_folder, f'image_{i}_{j}.png')\n",
        "                    image.save(output_file)\n",
        "                else:\n",
        "                    raise ValueError(\"Input file must have 1 or 3 bands.\")\n",
        "\n",
        "        return height, width"
      ],
      "metadata": {
        "id": "be_Oxa60Y6Nh"
      },
      "execution_count": 25,
      "outputs": []
    },
    {
      "cell_type": "code",
      "source": [
        "# Function to rescale an RGB tif to 8 bits\n",
        "def rescale_to_8bits(arr):\n",
        "    arr_std = (arr - np.min(arr)) / (np.max(arr) - np.min(arr)) * 255\n",
        "    arr_std = arr_std.astype(np.uint8)\n",
        "    return arr_std"
      ],
      "metadata": {
        "id": "F1AifCWFg2DF"
      },
      "execution_count": 26,
      "outputs": []
    },
    {
      "cell_type": "code",
      "source": [
        "# Calculate the values for bigmin and bigmax for a 3 bands image. These values will be used to rescale the image to 8bits, considering the min and max values\n",
        "\"\"\"def calculate_bigmin_bigmax (input_file):\n",
        "  # Load the TIFF image\n",
        "  image = tiff.imread(input_file)\n",
        "\n",
        "  # Calculate bigmin and bigmax based on percentiles or other criteria\n",
        "  bigmin = np.percentile(image, 1)  # 1st percentile\n",
        "  bigmax = np.percentile(image, 99)  # 99th percentile\n",
        "  #print(\"bigmin:\", bigmin)\n",
        "  #print(\"bigmax:\", bigmax)\n",
        "\n",
        "  return bigmin, bigmax\"\"\""
      ],
      "metadata": {
        "id": "LBUsUhzRlx-A",
        "outputId": "5d511e7f-f1c8-444f-836f-afabf01fbf07",
        "colab": {
          "base_uri": "https://localhost:8080/",
          "height": 71
        }
      },
      "execution_count": 27,
      "outputs": [
        {
          "output_type": "execute_result",
          "data": {
            "text/plain": [
              "'def calculate_bigmin_bigmax (input_file):\\n  # Load the TIFF image\\n  image = tiff.imread(input_file)\\n\\n  # Calculate bigmin and bigmax based on percentiles or other criteria\\n  bigmin = np.percentile(image, 1)  # 1st percentile\\n  bigmax = np.percentile(image, 99)  # 99th percentile\\n  #print(\"bigmin:\", bigmin)\\n  #print(\"bigmax:\", bigmax)\\n\\n  return bigmin, bigmax'"
            ],
            "application/vnd.google.colaboratory.intrinsic+json": {
              "type": "string"
            }
          },
          "metadata": {},
          "execution_count": 27
        }
      ]
    },
    {
      "cell_type": "code",
      "source": [
        "# Function to rescale an RGB tif to 8 bits\n",
        "\"\"\"def rescale_to_8bits(arr, bigmin, bigmax):\n",
        "  # Clip values to the specified range [bigmin, bigmax]\n",
        "  arr = np.clip(arr, bigmin, bigmax)\n",
        "  # Scale the values to the 0-255 range\n",
        "  arr_scaled = (arr - bigmin) / (bigmax - bigmin) * 255\n",
        "  # Convert to 8-bit unsigned integer\n",
        "  arr_std = arr_scaled.astype(np.uint8)\n",
        "\n",
        "  return arr_std\"\"\""
      ],
      "metadata": {
        "id": "wGLbneBbghgm",
        "outputId": "e0c22394-b824-4c95-b6b3-9529ab81ef43",
        "colab": {
          "base_uri": "https://localhost:8080/",
          "height": 71
        }
      },
      "execution_count": 28,
      "outputs": [
        {
          "output_type": "execute_result",
          "data": {
            "text/plain": [
              "'def rescale_to_8bits(arr, bigmin, bigmax):\\n  # Clip values to the specified range [bigmin, bigmax]\\n  arr = np.clip(arr, bigmin, bigmax)\\n  # Scale the values to the 0-255 range\\n  arr_scaled = (arr - bigmin) / (bigmax - bigmin) * 255\\n  # Convert to 8-bit unsigned integer\\n  arr_std = arr_scaled.astype(np.uint8)\\n\\n  return arr_std'"
            ],
            "application/vnd.google.colaboratory.intrinsic+json": {
              "type": "string"
            }
          },
          "metadata": {},
          "execution_count": 28
        }
      ]
    },
    {
      "cell_type": "code",
      "source": [
        "# Define the function to extract the row and column number from image file name\n",
        "def get_row_column_from_filename(filename):\n",
        "    filename = os.path.basename(filename)\n",
        "    parts = filename.split('_')\n",
        "    row = int(parts[1])\n",
        "    column = int(parts[2].split('.')[0])\n",
        "    return row, column"
      ],
      "metadata": {
        "id": "vZl3fLcu4jCz"
      },
      "execution_count": 29,
      "outputs": []
    },
    {
      "cell_type": "code",
      "source": [
        "# Get the clipped blocks from a image_folder\n",
        "def get_items(image_folder):\n",
        "    image_files = get_image_files(image_folder)\n",
        "    return image_files\n",
        "\n",
        "def get_mask_fn(image_file):\n",
        "    #return mask_folder / f'{image_file.stem}_mask.png'\n",
        "    return os.path.join(label_folder, f'{image_file.stem}_mask.png')"
      ],
      "metadata": {
        "id": "8nGEV9Zo4mef"
      },
      "execution_count": 30,
      "outputs": []
    },
    {
      "cell_type": "code",
      "source": [
        "# Display sample of predictions\n",
        "def sample_preds (preds, sample_idx):\n",
        "  # Display sample predictions\n",
        "  #sample_idx = 0\n",
        "  sample_image_path = list(test_dl.items)[sample_idx]\n",
        "  sample_image = PILImage.create(sample_image_path)\n",
        "  sample_pred = preds[0][sample_idx].argmax(dim=0).numpy()\n",
        "\n",
        "  sample_image.show()\n",
        "  TensorImage(sample_pred).show(cmap='tab20')"
      ],
      "metadata": {
        "id": "vXu1149ntv_E"
      },
      "execution_count": 31,
      "outputs": []
    },
    {
      "cell_type": "markdown",
      "source": [
        "## Save and merge blocks"
      ],
      "metadata": {
        "id": "euU7smUL7gK7"
      }
    },
    {
      "cell_type": "code",
      "source": [
        "# Create predicted mask for each of the blocks\n",
        "# Save the predicted mask images (png) according to their row and column number\n",
        "def create_predited_mask(image_folder,learn,predicted_folder):\n",
        "  test_dl = dls.test_dl(get_image_files(image_folder)) # usa todas as 160 imagens em image_folder, treino e validação\n",
        "  preds = learn.get_preds(dl=test_dl)[0]\n",
        "  for idx, pred in enumerate(preds):\n",
        "      # Get the row and column number from the test image file name\n",
        "      sample_image_path = list(test_dl.items)[idx]\n",
        "      row, column = get_row_column_from_filename(sample_image_path)\n",
        "\n",
        "      # Create a folder for each row if it doesn't exist\n",
        "      folder = os.path.join(predicted_folder)\n",
        "      os.makedirs(folder, exist_ok=True)\n",
        "\n",
        "      # Create a filename for the predicted mask image\n",
        "      predicted_filename = f'image_{row}_{column}_predicted.png'\n",
        "      predicted_filepath = os.path.join(folder, predicted_filename)\n",
        "\n",
        "      # Convert the predicted mask to a PIL Image\n",
        "      sample_pred = pred.argmax(dim=0).numpy()\n",
        "      predicted_image = Image.fromarray((sample_pred * 255).astype(np.uint8))\n",
        "\n",
        "      # Save the predicted mask image\n",
        "      predicted_image.save(predicted_filepath)"
      ],
      "metadata": {
        "id": "uzDnSpT_Ypc5"
      },
      "execution_count": 32,
      "outputs": []
    },
    {
      "cell_type": "code",
      "source": [
        "# Count the number of bands in a PNG image\n",
        "def count_bands(image_file):\n",
        "    with Image.open(image_file) as img:\n",
        "        return img.mode"
      ],
      "metadata": {
        "id": "WWgdmb4HbRXn"
      },
      "execution_count": 33,
      "outputs": []
    },
    {
      "cell_type": "code",
      "source": [
        "# Function to put together the clipped blocks from images, labels and predicted folder. output is a PNG image\n",
        "def merge_blocks(input_folder, folder_name, output_filename, Nrows, Ncols, width, height):\n",
        "  if folder_name == 'labels':\n",
        "    # Count the number of bands in the first image to determine the mode\n",
        "    sample_image = os.path.join(input_folder, f'image_0_0_mask.png')\n",
        "    Nbands = len(count_bands(sample_image))\n",
        "  elif folder_name == 'predicted':\n",
        "    sample_image = os.path.join(input_folder, f'image_0_0_predicted.png')\n",
        "    Nbands = len(count_bands(sample_image))\n",
        "  elif folder_name == 'images':\n",
        "    sample_image = os.path.join(input_folder, f'image_0_0.png')\n",
        "    Nbands = len(count_bands(sample_image))\n",
        "\n",
        "  rows, columns = Nrows, Ncols  # Number of rows and columns in the grid\n",
        "  merged_width = width * columns\n",
        "  merged_height = height * rows\n",
        "\n",
        "  if Nbands == 1:\n",
        "      merged_image = Image.new('L', (merged_width, merged_height))  # Use 'L' mode for grayscale images\n",
        "  elif Nbands == 3:\n",
        "      merged_image = Image.new('RGB', (merged_width, merged_height))\n",
        "  else:\n",
        "      raise ValueError(\"Input must have 1 or 3 bands.\")\n",
        "\n",
        "  # Loop through each row and column to merge the images\n",
        "  for i in range(rows):\n",
        "      for j in range(columns):\n",
        "          if folder_name == 'labels':\n",
        "              # Load the label mask image and paste it as is (no conversion needed)\n",
        "              label_file = os.path.join(input_folder, f'image_{i}_{j}_mask.png')\n",
        "              label_image = Image.open(label_file)\n",
        "              merged_image.paste(label_image, (j * width, i * height))\n",
        "          elif folder_name == 'predicted':\n",
        "              # Load the predicted mask image\n",
        "              predicted_file = os.path.join(input_folder, f'image_{i}_{j}_predicted.png')\n",
        "              #predicted_file = os.path.join(input_folder, f'image_{i}_{j}.png')\n",
        "              predicted_image = Image.open(predicted_file)\n",
        "              merged_image.paste(predicted_image, (j * width, i * height))\n",
        "          elif folder_name == 'images':\n",
        "              # Load the predicted mask image\n",
        "              image_file = os.path.join(input_folder, f'image_{i}_{j}.png')\n",
        "              image = Image.open(image_file)\n",
        "              merged_image.paste(image, (j * width, i * height))\n",
        "\n",
        "  # Save the merged image\n",
        "  merged_output_file = os.path.join(directory, output_filename)\n",
        "  merged_image.save(merged_output_file)"
      ],
      "metadata": {
        "id": "041Yk6FubXAj"
      },
      "execution_count": 34,
      "outputs": []
    },
    {
      "cell_type": "markdown",
      "source": [
        "## Display errors and examples"
      ],
      "metadata": {
        "id": "Nfb7vwnL7nDN"
      }
    },
    {
      "cell_type": "code",
      "source": [
        "# Calculate pixel-wise errors and store them in a dictionary\n",
        "# uses the test dataset, and displays the top 5 images where the error is higher (image and respective label, predicted label, and difference between them)\n",
        "def pixel_wise_errors (test_file_names, label_folder, predicted_folder, image_folder):\n",
        "  errors = {}\n",
        "  for file_name in test_file_names:\n",
        "      # Load the ground truth mask for the sample from the \"labels\" folder\n",
        "      row, column = get_row_column_from_filename(file_name)\n",
        "      mask_file = os.path.join(label_folder, f'image_{row}_{column}_mask.png')\n",
        "      true_mask = np.array(Image.open(mask_file))\n",
        "\n",
        "      # Load the predicted mask for the sample from the \"predicted\" folder\n",
        "      predicted_file = os.path.join(predicted_folder, f'image_{row}_{column}_predicted.png')\n",
        "      pred_mask = np.array(Image.open(predicted_file))\n",
        "\n",
        "      # Calculate the pixel-wise error between the true mask and predicted mask\n",
        "      error = np.sum(np.abs(true_mask - pred_mask))\n",
        "      errors[file_name] = error\n",
        "\n",
        "  # Sort the blocks by error in descending order\n",
        "  sorted_errors = {k: v for k, v in sorted(errors.items(), key=lambda item: item[1], reverse=True)}\n",
        "\n",
        "  # Get the file names of the blocks with the highest errors\n",
        "  top_5_blocks = list(sorted_errors.keys())[:5]\n",
        "\n",
        "  # Display the top 5 blocks with the highest errors\n",
        "  num_columns = 4\n",
        "\n",
        "  fig, axes = plt.subplots(len(top_5_blocks), num_columns, figsize=(20, 5 * len(top_5_blocks)))\n",
        "\n",
        "  for i, file_name in enumerate(top_5_blocks):\n",
        "      sample_image_path = os.path.join(image_folder, file_name)\n",
        "      sample_image = PILImage.create(sample_image_path)\n",
        "\n",
        "      # Load the ground truth mask for the sample from the \"labels1\" folder\n",
        "      row, column = get_row_column_from_filename(file_name)\n",
        "      mask_file = os.path.join(label_folder, f'image_{row}_{column}_mask.png')\n",
        "      true_mask = np.array(Image.open(mask_file))\n",
        "\n",
        "      # Load the predicted mask for the sample from the \"predicted\" folder\n",
        "      predicted_file = os.path.join(predicted_folder, f'image_{row}_{column}_predicted.png')\n",
        "      pred_mask = np.array(Image.open(predicted_file))\n",
        "\n",
        "      # Display the satellite aggregate image with file name as title\n",
        "      axes[i, 0].imshow(sample_image)\n",
        "      # Add the line below to set the title\n",
        "      axes[i, 0].set_title(str(file_name) + \" (Error: \" + str(errors[file_name]) + \")\")\n",
        "      #axes[i, 0].set_title(file_name + \" (Error: \" + str(errors[file_name]) + \")\")\n",
        "      axes[i, 0].axis('off')\n",
        "\n",
        "      # Display the true mask\n",
        "      axes[i, 1].imshow(true_mask, cmap='gray')\n",
        "      axes[i, 1].set_title('True Mask')\n",
        "      axes[i, 1].axis('off')\n",
        "\n",
        "      # Display the predicted mask\n",
        "      axes[i, 2].imshow(pred_mask, cmap='tab20')\n",
        "      axes[i, 2].set_title('Predicted Mask')\n",
        "      axes[i, 2].axis('off')\n",
        "\n",
        "      # Display the difference between true and predicted masks\n",
        "      difference_mask = true_mask - pred_mask\n",
        "      axes[i, 3].imshow(difference_mask, cmap='coolwarm', vmin=-1, vmax=1)\n",
        "      axes[i, 3].set_title('Difference')\n",
        "      axes[i, 3].axis('off')\n",
        "\n",
        "  plt.tight_layout()\n",
        "  plt.show()"
      ],
      "metadata": {
        "id": "nZ7OeLALFd3Z"
      },
      "execution_count": 35,
      "outputs": []
    },
    {
      "cell_type": "code",
      "source": [
        "# Displays 6 examples of images and their respective labels and predicted labels\n",
        "def display_images(directory, image_folder, label_folder, predicted_folder, preds):\n",
        "    preds = learn.get_preds(dl=dls.valid)[0]\n",
        "    # Display sample predictions using file names of test_set\n",
        "    sample_files = [Path(file_path).name for file_path in test_file_names]\n",
        "\n",
        "    # Slice the sample_files list to include only the first 6 samples\n",
        "    sample_files = sample_files[:6]\n",
        "\n",
        "    # Define the number of columns (including both true and predicted masks)\n",
        "    num_columns = 3\n",
        "\n",
        "    fig, axes = plt.subplots(len(sample_files), num_columns, figsize=(15, 5 * len(sample_files)))\n",
        "\n",
        "    for i, file_name in enumerate(sample_files):\n",
        "        sample_image_path = os.path.join(image_folder, file_name)\n",
        "        sample_image = PILImage.create(sample_image_path)\n",
        "        sample_pred = preds[i].argmax(dim=0).numpy()\n",
        "\n",
        "        # Load the ground truth mask for the sample from the \"labels\" folder\n",
        "        row, column = get_row_column_from_filename(file_name)\n",
        "        mask_file = os.path.join(label_folder, f'image_{row}_{column}_mask.png')\n",
        "        true_mask = np.array(Image.open(mask_file))\n",
        "\n",
        "        # Load the predicted mask for the sample from the \"predicted\" folder\n",
        "        predicted_file = os.path.join(predicted_folder, f'image_{row}_{column}_predicted.png')\n",
        "        pred_mask = np.array(Image.open(predicted_file))\n",
        "\n",
        "        # image of satellite aggregate\n",
        "        axes[i, 0].imshow(sample_image)\n",
        "        axes[i, 0].set_title('Image')\n",
        "        axes[i, 0].axis('off')\n",
        "\n",
        "        # image of true mask\n",
        "        axes[i, 1].imshow(true_mask, cmap='gray')\n",
        "        axes[i, 1].set_title(file_name + \" True mask\")\n",
        "        axes[i, 1].axis('off')\n",
        "\n",
        "        # image of predicted mask\n",
        "        axes[i, 2].imshow(pred_mask, cmap='tab20')\n",
        "        axes[i, 2].set_title(file_name + \" Predicted mask\")\n",
        "        axes[i, 2].axis('off')\n",
        "\n",
        "    plt.tight_layout()\n",
        "    plt.show()\n"
      ],
      "metadata": {
        "id": "0oYnc5oM5wsP"
      },
      "execution_count": 36,
      "outputs": []
    },
    {
      "cell_type": "markdown",
      "source": [
        "## Model accuracy"
      ],
      "metadata": {
        "id": "iQ_vaMXL715X"
      }
    },
    {
      "cell_type": "code",
      "source": [
        "#Converts the true and predicted mask to flat arrays. These will be used to calculate the confusion matrix\n",
        "def true_and_pred_mask_to_1D_numpy (dls, preds):\n",
        "  true_masks = [y for _, y in dls.valid] # Get the ground truth masks for the test set\n",
        "  true_masks = torch.cat(true_masks).cpu().numpy() # Convert the list of true masks to a numpy array\n",
        "  true_masks_flat = true_masks.ravel() # Flatten the masks to be 1D arrays\n",
        "  predicted_masks = preds.argmax(dim=1).numpy() # Convert the predicted masks to a numpy array\n",
        "  predicted_masks_flat = predicted_masks.ravel() # Flatten the masks to be 1D arrays\n",
        "  return true_masks_flat, predicted_masks_flat"
      ],
      "metadata": {
        "id": "G6nx-R7XxTr8"
      },
      "execution_count": 37,
      "outputs": []
    },
    {
      "cell_type": "code",
      "source": [
        "# Calculate model accuracy on test dataset\n",
        "def model_accuracy(true_masks_flat, predicted_masks_flat):\n",
        "    # Calculate the total number of pixels\n",
        "    total_pixels = len(true_masks_flat)\n",
        "\n",
        "    # Calculate the number of correctly predicted pixels (True Positives + True Negatives)\n",
        "    correct_pixels = np.sum(true_masks_flat == predicted_masks_flat)\n",
        "\n",
        "    # Calculate the model accuracy\n",
        "    accuracy = correct_pixels / total_pixels\n",
        "\n",
        "    return accuracy"
      ],
      "metadata": {
        "id": "wfNAskwSLdP-"
      },
      "execution_count": 38,
      "outputs": []
    },
    {
      "cell_type": "code",
      "source": [
        "# Calculate, store and display the comission and omission errors based on the ground_truth_mask and predicted_mask\n",
        "def comission_omission_errors(ground_truth_mask, predicted_mask, output_folder, output_filename):\n",
        "    ground_truth_mask = np.array(Image.open(ground_truth_mask))\n",
        "    predicted_mask = np.array(Image.open(predicted_mask))\n",
        "    commission_errors = (predicted_mask == 1) & (ground_truth_mask == 0) #false positive\n",
        "    omission_errors = (predicted_mask == 0) & (ground_truth_mask == 1) #false negative\n",
        "    correct_identifications = (predicted_mask ==0) & (ground_truth_mask == 0)\n",
        "    correct_identifications_1 = (predicted_mask ==1) & (ground_truth_mask == 1)\n",
        "    merged_image = np.zeros((ground_truth_mask.shape[0], ground_truth_mask.shape[1], 3), dtype=np.uint8)\n",
        "\n",
        "    merged_image[correct_identifications_1] = [0, 255, 0]  # Green color\n",
        "    merged_image[commission_errors] = [255, 255, 0]  # Yellow color\n",
        "    merged_image[omission_errors] = [255, 0, 0]  # Red color\n",
        "    merged_image[correct_identifications] = [0, 0, 0] #black color\n",
        "\n",
        "    # Display the merged image\n",
        "    plt.figure(figsize=(8, 6))\n",
        "    plt.imshow(merged_image)\n",
        "    plt.axis('off')\n",
        "    plt.title('Merged Image with Correct Identifications (Green), Commission (Yellow), and Omission (Red) Errors')\n",
        "    plt.show()\n",
        "\n",
        "    # Save the merged image as a PNG\n",
        "    merged_output_file = os.path.join(output_folder, output_filename)\n",
        "    plt.imsave(merged_output_file, merged_image)"
      ],
      "metadata": {
        "id": "bBdaZdAfGVKV"
      },
      "execution_count": 39,
      "outputs": []
    },
    {
      "cell_type": "markdown",
      "source": [
        "## Display and convert pixel values in PNG images"
      ],
      "metadata": {
        "id": "OlPuhGPH7wWd"
      }
    },
    {
      "cell_type": "code",
      "source": [
        "# function to replace a pixel value in a PNG image. the output is another PNG with the changes pixelvalues\n",
        "def convert_values_png (input_file, output_file, pixelvalue):\n",
        "  # Load the PNG image\n",
        "  #input_file = os.path.join(directory, 'merged_predicted_labels.png')\n",
        "  #output_file = os.path.join(directory, 'merged_predicted_labels_converted.png')\n",
        "  image = Image.open(input_file)\n",
        "\n",
        "  # Convert the image to grayscale (optional, depending on your input)\n",
        "  image = image.convert('L')\n",
        "\n",
        "  # Create a new image to store the modified pixels\n",
        "  new_image = Image.new('L', image.size)\n",
        "\n",
        "  # Iterate over the pixels and replace 255 with 1, leaving other values as 0\n",
        "  for x in range(image.width):\n",
        "      for y in range(image.height):\n",
        "          pixel_value = image.getpixel((x, y))\n",
        "          if pixel_value == pixelvalue:\n",
        "              new_image.putpixel((x, y), 1)\n",
        "          else:\n",
        "              new_image.putpixel((x, y), 0)\n",
        "\n",
        "  # Save the modified image\n",
        "  new_image.save(output_file)\n",
        "\n",
        "  print(\"Image processing complete. Saved as\", output_file)"
      ],
      "metadata": {
        "id": "-CUdRsa8OiEY"
      },
      "execution_count": 40,
      "outputs": []
    },
    {
      "cell_type": "code",
      "source": [
        "# K-fold cross validation with 5 folders\n",
        "\n",
        "def kfold_cross_validation ():\n",
        "\n",
        "    # Specify the number of folds\n",
        "    num_folds = 5\n",
        "\n",
        "    # Create a K-Fold splitter\n",
        "    kf = KFold(n_splits=num_folds, shuffle=True, random_state=42)\n",
        "\n",
        "    # Initialize a list to store accuracy for each fold\n",
        "    accuracies = []\n",
        "    confusion_matrices = []\n",
        "\n",
        "    # Define a function to train and evaluate the model for each fold\n",
        "    def train_and_evaluate_fold(fold_idx, train_idx, valid_idx):\n",
        "        # Create DataBlock for this fold\n",
        "        dblock_fold = DataBlock(blocks=(ImageBlock, MaskBlock(target_names)),\n",
        "                                get_items=get_items,\n",
        "                                get_y=get_mask_fn,\n",
        "                                splitter=IndexSplitter(valid_idx))\n",
        "\n",
        "        # Create DataLoaders for this fold\n",
        "        dls_fold = dblock_fold.dataloaders(image_folder, bs=8)\n",
        "\n",
        "        # Create a U-Net model for this fold\n",
        "        learn_fold = unet_learner(dls_fold, resnet34)\n",
        "\n",
        "        # Fine-tune the model for this fold\n",
        "        learn_fold.fine_tune(N_epochs)\n",
        "\n",
        "        # Perform inference on the validation set\n",
        "        preds, _ = learn_fold.get_preds(dl=dls_fold.valid)\n",
        "\n",
        "        # Calculate the confusion matrix for the validation set\n",
        "        true_masks_flat, predicted_masks_flat = true_and_pred_mask_to_1D_numpy(dls_fold, preds)\n",
        "        conf_matrix = confusion_matrix(true_masks_flat, predicted_masks_flat)\n",
        "\n",
        "        # Calculate accuracy for this fold\n",
        "        accuracy = model_accuracy(true_masks_flat, predicted_masks_flat)\n",
        "        accuracies.append(accuracy)\n",
        "        print(f\"Fold {fold_idx + 1} - Model Accuracy: {accuracy * 100:.2f}%\")\n",
        "\n",
        "        # Get test file names for this fold\n",
        "        test_files = items[valid_idx]  # Assuming 'items' is a list of file names\n",
        "        print(f\"Fold {fold_idx + 1} - Test File Names: {test_files}\")\n",
        "\n",
        "    # Iterate over the folds\n",
        "    for fold_idx, (train_idx, valid_idx) in enumerate(kf.split(items)):\n",
        "        print(f\"Fold {fold_idx + 1} of {num_folds}\")\n",
        "        train_and_evaluate_fold(fold_idx, train_idx, valid_idx)\n",
        "\n",
        "    # Calculate and print the average confusion matrix over all folds\n",
        "    average_confusion_matrix = np.mean(confusion_matrices, axis=0)\n",
        "    print(\"Average Confusion Matrix:\")\n",
        "    print(average_confusion_matrix)\n",
        "\n",
        "    # Calculate and print the average accuracy over all folds\n",
        "    average_accuracy = np.mean(accuracies)\n",
        "    print(f\"Average Model Accuracy for {num_folds}-Fold Cross-Validation: {average_accuracy * 100:.2f}%\")\n"
      ],
      "metadata": {
        "id": "7ote8d5lZBzs"
      },
      "execution_count": 69,
      "outputs": []
    },
    {
      "cell_type": "markdown",
      "source": [
        "# **Main Execution**"
      ],
      "metadata": {
        "id": "-mtbNEyy13EK"
      }
    },
    {
      "cell_type": "markdown",
      "source": [
        "## **Images Pre-processing** Sentinel 2A"
      ],
      "metadata": {
        "id": "3cK-gDW-LPAE"
      }
    },
    {
      "cell_type": "code",
      "source": [
        "gee_images((-8.793267, -8.7410763, 37.4473346, 37.553255), '2022-07-20', '2022-07-25', 'B2', 'Estufas')\n",
        "gee_images((-8.793267, -8.7410763, 37.4473346, 37.553255), '2022-07-20', '2022-07-25', 'B3', 'Estufas')\n",
        "gee_images((-8.793267, -8.7410763, 37.4473346, 37.553255), '2022-07-20', '2022-07-25', 'B4', 'Estufas')\n",
        "gee_images((-8.793267, -8.7410763, 37.4473346, 37.553255), '2022-07-20', '2022-07-25', 'B8', 'Estufas')"
      ],
      "metadata": {
        "id": "z3O-JwA1DoGt"
      },
      "execution_count": 43,
      "outputs": []
    },
    {
      "cell_type": "markdown",
      "source": [
        "Consider the bands download from Google Earth Engine - B2, B3, B4 and B8. This band were saved as tif files in Google Drive"
      ],
      "metadata": {
        "id": "9OdwsbZJ-thW"
      }
    },
    {
      "cell_type": "markdown",
      "source": [
        "### Clip and saturate tiff files"
      ],
      "metadata": {
        "id": "0MQinlXY96G2"
      }
    },
    {
      "cell_type": "markdown",
      "source": [
        "Clip all the bands (B2,B3,B4,B8) to the same extent"
      ],
      "metadata": {
        "id": "xaLkRvI_9XhA"
      }
    },
    {
      "cell_type": "code",
      "source": [
        "clip_tiff_by_extent(os.path.join(directory, 'Sentinel2_B2_2022-07-23.tif'), os.path.join(directory, 'S2_B2_2022-07-23_clipped.tif'), (518260, 4144530, 522870, 4156270))\n",
        "clip_tiff_by_extent(os.path.join(directory, 'Sentinel2_B3_2022-07-23.tif'), os.path.join(directory, 'S2_B3_2022-07-23_clipped.tif'), (518260, 4144530, 522870, 4156270))\n",
        "clip_tiff_by_extent(os.path.join(directory, 'Sentinel2_B4_2022-07-23.tif'), os.path.join(directory, 'S2_B4_2022-07-23_clipped.tif'), (518260, 4144530, 522870, 4156270))\n",
        "clip_tiff_by_extent(os.path.join(directory, 'Sentinel2_B8_2022-07-23.tif'), os.path.join(directory, 'S2_B8_2022-07-23_clipped.tif'), (518260, 4144530, 522870, 4156270))"
      ],
      "metadata": {
        "id": "4zgUmSXp3HVx"
      },
      "execution_count": 44,
      "outputs": []
    },
    {
      "cell_type": "markdown",
      "source": [
        "Calculate bigmin and bigmax for each band and saturate accordingly"
      ],
      "metadata": {
        "id": "GzF9UtzxsESp"
      }
    },
    {
      "cell_type": "code",
      "source": [
        "satu_tiff(os.path.join(directory,'S2_B2_2022-07-23_clipped.tif'), os.path.join(directory, 'S2_B2_2022-07-23_saturated.tif'))\n",
        "satu_tiff(os.path.join(directory,'S2_B3_2022-07-23_clipped.tif'), os.path.join(directory, 'S2_B3_2022-07-23_saturated.tif'))\n",
        "satu_tiff(os.path.join(directory,'S2_B4_2022-07-23_clipped.tif'), os.path.join(directory, 'S2_B4_2022-07-23_saturated.tif'))\n",
        "satu_tiff(os.path.join(directory,'S2_B8_2022-07-23_clipped.tif'), os.path.join(directory, 'S2_B8_2022-07-23_saturated.tif'))"
      ],
      "metadata": {
        "id": "Gi-9ndlA4Lun"
      },
      "execution_count": 45,
      "outputs": []
    },
    {
      "cell_type": "markdown",
      "source": [
        "### Calculate indexes - NDVI, RPGI and albedo"
      ],
      "metadata": {
        "id": "fMJAO2ir9_dl"
      }
    },
    {
      "cell_type": "code",
      "source": [
        "# set the paths for the bands\n",
        "blue_file= os.path.join(directory,'S2_B2_2022-07-23_saturated.tif')\n",
        "green_file= os.path.join(directory,'S2_B3_2022-07-23_saturated.tif')\n",
        "red_file= os.path.join(directory,'S2_B4_2022-07-23_saturated.tif')\n",
        "nir_file= os.path.join(directory,'S2_B8_2022-07-23_saturated.tif')"
      ],
      "metadata": {
        "id": "VRu5LvyJ2PvH"
      },
      "execution_count": 46,
      "outputs": []
    },
    {
      "cell_type": "code",
      "source": [
        "#Calculate NDVI\n",
        "calculate_ndvi(red_file, nir_file, os.path.join(directory,'output_ndvi.tif'))"
      ],
      "metadata": {
        "id": "lxvDFceo_MUX"
      },
      "execution_count": 47,
      "outputs": []
    },
    {
      "cell_type": "code",
      "source": [
        "#Calculate RPGI\n",
        "calculate_rpgi(blue_file, green_file, nir_file, os.path.join(directory,'output_rpgi.tif'))"
      ],
      "metadata": {
        "id": "Fh6sMmSVUjSQ"
      },
      "execution_count": 48,
      "outputs": []
    },
    {
      "cell_type": "code",
      "source": [
        "#Calculate Albedo\n",
        "calculate_albedo(blue_file, green_file, red_file, os.path.join(directory,'output_albedo.tif'))"
      ],
      "metadata": {
        "id": "-19wrR3qYpi6"
      },
      "execution_count": 49,
      "outputs": []
    },
    {
      "cell_type": "code",
      "source": [
        "#NDVI+RPGI+albedo\n",
        "calculate_ndvi_rpgi_albedo(os.path.join(directory,'output_ndvi.tif'), os.path.join(directory,'output_rpgi.tif'), os.path.join(directory,'output_albedo.tif'), os.path.join(directory, 'output_ndvi_rpgi_albedo.tif'))"
      ],
      "metadata": {
        "id": "T7W4m1IxmDYA"
      },
      "execution_count": 50,
      "outputs": []
    },
    {
      "cell_type": "markdown",
      "source": [
        "### Convert values in mask and input image file"
      ],
      "metadata": {
        "id": "slcxkoLlsqtP"
      }
    },
    {
      "cell_type": "markdown",
      "source": [
        "First, display the unique pixel values and check for the NODATA value.\n",
        "If needed, convert that value into 0 and check the created tiff file"
      ],
      "metadata": {
        "id": "3g5s_uZVPe8l"
      }
    },
    {
      "cell_type": "code",
      "source": [
        "display_unique_values_tiff_file(os.path.join(directory, 'mask_3763_reclass.tif'))"
      ],
      "metadata": {
        "id": "d4YPqIsFfoUv",
        "outputId": "55d2d724-321f-4d64-d993-4ebfc7e0649c",
        "colab": {
          "base_uri": "https://localhost:8080/"
        }
      },
      "execution_count": 51,
      "outputs": [
        {
          "output_type": "stream",
          "name": "stdout",
          "text": [
            "Data Type: float32\n",
            "Unique Values:\n",
            "-3.4028235e+38\n",
            "1.0\n",
            "[[-3.4028235e+38 -3.4028235e+38 -3.4028235e+38 ... -3.4028235e+38\n",
            "  -3.4028235e+38 -3.4028235e+38]\n",
            " [-3.4028235e+38 -3.4028235e+38 -3.4028235e+38 ... -3.4028235e+38\n",
            "  -3.4028235e+38 -3.4028235e+38]\n",
            " [-3.4028235e+38 -3.4028235e+38 -3.4028235e+38 ... -3.4028235e+38\n",
            "  -3.4028235e+38 -3.4028235e+38]\n",
            " ...\n",
            " [-3.4028235e+38 -3.4028235e+38 -3.4028235e+38 ... -3.4028235e+38\n",
            "  -3.4028235e+38 -3.4028235e+38]\n",
            " [-3.4028235e+38 -3.4028235e+38 -3.4028235e+38 ... -3.4028235e+38\n",
            "  -3.4028235e+38 -3.4028235e+38]\n",
            " [-3.4028235e+38 -3.4028235e+38 -3.4028235e+38 ... -3.4028235e+38\n",
            "  -3.4028235e+38 -3.4028235e+38]]\n"
          ]
        }
      ]
    },
    {
      "cell_type": "code",
      "source": [
        "convert_nodata_values (-3.40282e+38, os.path.join(directory, 'mask_3763_reclass.tif'), os.path.join(directory, 'mask_3763_reclass_bin.tif'))"
      ],
      "metadata": {
        "id": "x8kTcmBzdlI0",
        "outputId": "44362845-e0a6-40e7-f0b0-ca7178d9c4ef",
        "colab": {
          "base_uri": "https://localhost:8080/"
        }
      },
      "execution_count": 52,
      "outputs": [
        {
          "output_type": "stream",
          "name": "stdout",
          "text": [
            "NoData values converted to 0\n"
          ]
        }
      ]
    },
    {
      "cell_type": "code",
      "source": [
        "display_unique_values_tiff_file(os.path.join(directory, 'mask_3763_reclass_bin.tif'))"
      ],
      "metadata": {
        "id": "8FhZjcdDe-cO",
        "outputId": "d5343da9-0c20-44f7-dd32-995d6b585ef7",
        "colab": {
          "base_uri": "https://localhost:8080/"
        }
      },
      "execution_count": 53,
      "outputs": [
        {
          "output_type": "stream",
          "name": "stdout",
          "text": [
            "Data Type: uint8\n",
            "Unique Values:\n",
            "0\n",
            "1\n",
            "[[0 0 0 ... 0 0 0]\n",
            " [0 0 0 ... 0 0 0]\n",
            " [0 0 0 ... 0 0 0]\n",
            " ...\n",
            " [0 0 0 ... 0 0 0]\n",
            " [0 0 0 ... 0 0 0]\n",
            " [0 0 0 ... 0 0 0]]\n"
          ]
        }
      ]
    },
    {
      "cell_type": "code",
      "source": [
        "display_tiff_file (os.path.join(directory, 'mask_3763_reclass_bin.tif'))"
      ],
      "metadata": {
        "id": "pWUqnuOGeYNH",
        "outputId": "ec294211-d3f5-48a0-dfc0-f369e9e4cf1b",
        "colab": {
          "base_uri": "https://localhost:8080/",
          "height": 406
        }
      },
      "execution_count": null,
      "outputs": [
        {
          "output_type": "display_data",
          "data": {
            "text/plain": [
              "<Figure size 640x480 with 1 Axes>"
            ],
            "image/png": "[encoded data removed]"
          },
          "metadata": {}
        }
      ]
    },
    {
      "cell_type": "markdown",
      "source": [
        "## Clip the tiff files"
      ],
      "metadata": {
        "id": "-EKBUVOm84dz"
      }
    },
    {
      "cell_type": "markdown",
      "source": [
        "Use rasterio to clip both the mask_3763_reclass_bin.tif and the output_ndvi_rpgi_albedo.tif, created above, into blocks"
      ],
      "metadata": {
        "id": "ExsZbk4T_eJk"
      }
    },
    {
      "cell_type": "code",
      "source": [
        "# Clip and rescale label images\n",
        "clip_raster_and_rescale(os.path.join(directory, 'mask_3763_reclass_bin.tif'), label_folder, Nrows, Ncols)\n",
        "\n",
        "# Clip and rescale image bands acording to bigmin and bigmax\n",
        "height, width = clip_raster_and_rescale(os.path.join(directory, 'output_ndvi_rpgi_albedo.tif'), image_folder, Nrows, Ncols)\n"
      ],
      "metadata": {
        "id": "bbh6Po2i11FR"
      },
      "execution_count": 54,
      "outputs": []
    },
    {
      "cell_type": "markdown",
      "source": [
        "Create Datablocks and Dataloaders"
      ],
      "metadata": {
        "id": "A84TM6XP_4hJ"
      }
    },
    {
      "cell_type": "code",
      "source": [
        "# Create DataBlock\n",
        "items = get_items(image_folder)\n",
        "dblock = DataBlock(blocks=(ImageBlock, MaskBlock(target_names)),\n",
        "                   get_items=get_items,\n",
        "                   get_y=get_mask_fn,\n",
        "                   splitter=RandomSplitter(valid_pct=0.2, seed=42))\n",
        "\n",
        "# Create DataLoaders\n",
        "dls = dblock.dataloaders(image_folder, bs=8)"
      ],
      "metadata": {
        "id": "Xh01DHoP151G"
      },
      "execution_count": 55,
      "outputs": []
    },
    {
      "cell_type": "markdown",
      "source": [
        "Extract and print, if necessary, the file names for the train and test datasets"
      ],
      "metadata": {
        "id": "S5-clQ_YAA1T"
      }
    },
    {
      "cell_type": "code",
      "source": [
        "# Extract file names of the training dataset\n",
        "train_file_names = dls.train_ds.items\n",
        "# Extract file names of the test dataset\n",
        "test_file_names = dls.valid_ds.items\n",
        "#print(train_file_names)\n",
        "#print(test_file_names)"
      ],
      "metadata": {
        "id": "lr-63mj-wGN7"
      },
      "execution_count": 56,
      "outputs": []
    },
    {
      "cell_type": "markdown",
      "source": [
        "## Train the model"
      ],
      "metadata": {
        "id": "z1Y4woPn9FO2"
      }
    },
    {
      "cell_type": "code",
      "source": [
        "# Train the model\n",
        "if not train_model:\n",
        "    # Load the model to be used\n",
        "    learn = load_learner(os.path.join(directory, model_name))\n",
        "else:\n",
        "    learn = unet_learner(dls, resnet34)\n",
        "    learn.fine_tune(N_epochs)\n",
        "    # Save the model according to the number of epochs used\n",
        "    learn.export(os.path.join(directory, new_model_name))"
      ],
      "metadata": {
        "id": "4IOZNJs634yD",
        "outputId": "cd9e0b6b-fbdf-46f3-a9bc-fcf952bd58da",
        "colab": {
          "base_uri": "https://localhost:8080/",
          "height": 288
        }
      },
      "execution_count": 57,
      "outputs": [
        {
          "metadata": {
            "tags": null
          },
          "name": "stderr",
          "output_type": "stream",
          "text": [
            "Downloading: \"https://download.pytorch.org/models/resnet34-b627a593.pth\" to /root/.cache/torch/hub/checkpoints/resnet34-b627a593.pth\n",
            "100%|██████████| 83.3M/83.3M [00:00<00:00, 165MB/s]\n"
          ]
        },
        {
          "data": {
            "text/html": [
              "\n",
              "<style>\n",
              "    /* Turns off some styling */\n",
              "    progress {\n",
              "        /* gets rid of default border in Firefox and Opera. */\n",
              "        border: none;\n",
              "        /* Needs to be in here for Safari polyfill so background images work as expected. */\n",
              "        background-size: auto;\n",
              "    }\n",
              "    progress:not([value]), progress:not([value])::-webkit-progress-bar {\n",
              "        background: repeating-linear-gradient(45deg, #7e7e7e, #7e7e7e 10px, #5c5c5c 10px, #5c5c5c 20px);\n",
              "    }\n",
              "    .progress-bar-interrupted, .progress-bar-interrupted::-webkit-progress-bar {\n",
              "        background: #F44336;\n",
              "    }\n",
              "</style>\n"
            ],
            "text/plain": [
              "<IPython.core.display.HTML object>"
            ]
          },
          "metadata": {},
          "output_type": "display_data"
        },
        {
          "data": {
            "text/html": [
              "<table border=\"1\" class=\"dataframe\">\n",
              "  <thead>\n",
              "    <tr style=\"text-align: left;\">\n",
              "      <th>epoch</th>\n",
              "      <th>train_loss</th>\n",
              "      <th>valid_loss</th>\n",
              "      <th>time</th>\n",
              "    </tr>\n",
              "  </thead>\n",
              "  <tbody>\n",
              "    <tr>\n",
              "      <td>0</td>\n",
              "      <td>0.434931</td>\n",
              "      <td>0.205293</td>\n",
              "      <td>00:38</td>\n",
              "    </tr>\n",
              "  </tbody>\n",
              "</table>"
            ],
            "text/plain": [
              "<IPython.core.display.HTML object>"
            ]
          },
          "metadata": {},
          "output_type": "display_data"
        },
        {
          "data": {
            "text/html": [
              "\n",
              "<style>\n",
              "    /* Turns off some styling */\n",
              "    progress {\n",
              "        /* gets rid of default border in Firefox and Opera. */\n",
              "        border: none;\n",
              "        /* Needs to be in here for Safari polyfill so background images work as expected. */\n",
              "        background-size: auto;\n",
              "    }\n",
              "    progress:not([value]), progress:not([value])::-webkit-progress-bar {\n",
              "        background: repeating-linear-gradient(45deg, #7e7e7e, #7e7e7e 10px, #5c5c5c 10px, #5c5c5c 20px);\n",
              "    }\n",
              "    .progress-bar-interrupted, .progress-bar-interrupted::-webkit-progress-bar {\n",
              "        background: #F44336;\n",
              "    }\n",
              "</style>\n"
            ],
            "text/plain": [
              "<IPython.core.display.HTML object>"
            ]
          },
          "metadata": {},
          "output_type": "display_data"
        },
        {
          "data": {
            "text/html": [
              "\n",
              "    <div>\n",
              "      <progress value='0' class='' max='2' style='width:300px; height:20px; vertical-align: middle;'></progress>\n",
              "      0.00% [0/2 00:00&lt;?]\n",
              "    </div>\n",
              "    \n",
              "<table border=\"1\" class=\"dataframe\">\n",
              "  <thead>\n",
              "    <tr style=\"text-align: left;\">\n",
              "      <th>epoch</th>\n",
              "      <th>train_loss</th>\n",
              "      <th>valid_loss</th>\n",
              "      <th>time</th>\n",
              "    </tr>\n",
              "  </thead>\n",
              "  <tbody>\n",
              "  </tbody>\n",
              "</table><p>\n",
              "\n",
              "    <div>\n",
              "      <progress value='14' class='' max='16' style='width:300px; height:20px; vertical-align: middle;'></progress>\n",
              "      87.50% [14/16 00:36&lt;00:05 0.2659]\n",
              "    </div>\n",
              "    "
            ],
            "text/plain": [
              "<IPython.core.display.HTML object>"
            ]
          },
          "metadata": {},
          "output_type": "display_data"
        },
        {
          "output_type": "display_data",
          "data": {
            "text/plain": [
              "<IPython.core.display.HTML object>"
            ],
            "text/html": [
              "<table border=\"1\" class=\"dataframe\">\n",
              "  <thead>\n",
              "    <tr style=\"text-align: left;\">\n",
              "      <th>epoch</th>\n",
              "      <th>train_loss</th>\n",
              "      <th>valid_loss</th>\n",
              "      <th>time</th>\n",
              "    </tr>\n",
              "  </thead>\n",
              "  <tbody>\n",
              "    <tr>\n",
              "      <td>0</td>\n",
              "      <td>0.276970</td>\n",
              "      <td>0.224237</td>\n",
              "      <td>00:47</td>\n",
              "    </tr>\n",
              "    <tr>\n",
              "      <td>1</td>\n",
              "      <td>0.254489</td>\n",
              "      <td>0.185026</td>\n",
              "      <td>00:43</td>\n",
              "    </tr>\n",
              "  </tbody>\n",
              "</table>"
            ]
          },
          "metadata": {}
        }
      ]
    },
    {
      "cell_type": "code",
      "source": [
        "# Perform inference on test images\n",
        "test_dl = dls.test_dl(get_image_files(image_folder)) # usa todas as 160 imagens em image_folder, treino e validação\n",
        "preds = learn.get_preds(dl=test_dl)\n",
        "print(preds[0].shape, preds[1])"
      ],
      "metadata": {
        "id": "N0GMFc5XH0mz",
        "outputId": "e55e2d18-f4d5-4867-978b-9bdc5843772e",
        "colab": {
          "base_uri": "https://localhost:8080/",
          "height": 34
        }
      },
      "execution_count": 58,
      "outputs": [
        {
          "output_type": "display_data",
          "data": {
            "text/plain": [
              "<IPython.core.display.HTML object>"
            ],
            "text/html": [
              "\n",
              "<style>\n",
              "    /* Turns off some styling */\n",
              "    progress {\n",
              "        /* gets rid of default border in Firefox and Opera. */\n",
              "        border: none;\n",
              "        /* Needs to be in here for Safari polyfill so background images work as expected. */\n",
              "        background-size: auto;\n",
              "    }\n",
              "    progress:not([value]), progress:not([value])::-webkit-progress-bar {\n",
              "        background: repeating-linear-gradient(45deg, #7e7e7e, #7e7e7e 10px, #5c5c5c 10px, #5c5c5c 20px);\n",
              "    }\n",
              "    .progress-bar-interrupted, .progress-bar-interrupted::-webkit-progress-bar {\n",
              "        background: #F44336;\n",
              "    }\n",
              "</style>\n"
            ]
          },
          "metadata": {}
        },
        {
          "output_type": "display_data",
          "data": {
            "text/plain": [
              "<IPython.core.display.HTML object>"
            ],
            "text/html": []
          },
          "metadata": {}
        },
        {
          "output_type": "stream",
          "name": "stdout",
          "text": [
            "torch.Size([160, 2, 58, 57]) None\n"
          ]
        }
      ]
    },
    {
      "cell_type": "code",
      "source": [
        "# Display one example of a prediction\n",
        "sample_preds (preds, sample_idx=0)"
      ],
      "metadata": {
        "id": "GplRY-LqtyJb",
        "outputId": "bb7b20fd-bf31-435e-e4c4-df77fea9819c",
        "colab": {
          "base_uri": "https://localhost:8080/",
          "height": 211
        }
      },
      "execution_count": null,
      "outputs": [
        {
          "output_type": "display_data",
          "data": {
            "text/plain": [
              "<Figure size 100x100 with 1 Axes>"
            ],
            "image/png": "[encoded data removed]"
          },
          "metadata": {}
        },
        {
          "output_type": "display_data",
          "data": {
            "text/plain": [
              "<Figure size 100x100 with 1 Axes>"
            ],
            "image/png": "[encoded data removed]"
          },
          "metadata": {}
        }
      ]
    },
    {
      "cell_type": "markdown",
      "source": [],
      "metadata": {
        "id": "AfOJTtL_ALho"
      }
    },
    {
      "cell_type": "code",
      "source": [
        "# Save the predicted mask images (png) according to their row and column number\n",
        "create_predited_mask(image_folder, learn, predicted_folder)"
      ],
      "metadata": {
        "id": "Xy7wt7tCWKgr"
      },
      "execution_count": null,
      "outputs": []
    },
    {
      "cell_type": "markdown",
      "source": [
        "## Merge blocks - images, labels and predicted labels"
      ],
      "metadata": {
        "id": "-k8Sqasb9MGk"
      }
    },
    {
      "cell_type": "code",
      "source": [
        "# Put together all the blocks in label_folder\n",
        "merge_blocks(label_folder,'labels', 'merged_labels.png', Nrows, Ncols, width, height)"
      ],
      "metadata": {
        "id": "rMWK-dU5T71-"
      },
      "execution_count": null,
      "outputs": []
    },
    {
      "cell_type": "code",
      "source": [
        "# Put together all the blocks in image_folder\n",
        "merge_blocks(image_folder,'images', 'merged_images.png', Nrows, Ncols, width, height)"
      ],
      "metadata": {
        "id": "eB_4j-y6ka_Z"
      },
      "execution_count": null,
      "outputs": []
    },
    {
      "cell_type": "code",
      "source": [
        "# Put together all the blocks in predicted_folder\n",
        "merge_blocks(predicted_folder, 'predicted', 'merged_predicted_labels.png', Nrows, Ncols, width, height)"
      ],
      "metadata": {
        "id": "A92-jgOJWZmg"
      },
      "execution_count": null,
      "outputs": []
    },
    {
      "cell_type": "markdown",
      "source": [
        "### Display the merged png files"
      ],
      "metadata": {
        "id": "GU8v3KVd9VkC"
      }
    },
    {
      "cell_type": "code",
      "source": [
        "# Open the PNG image\n",
        "image = Image.open(os.path.join(directory,'merged_labels.png'))\n",
        "\n",
        "# Display the image using Matplotlib\n",
        "plt.imshow(image)\n",
        "plt.axis('off')  # Turn off axis labels and ticks\n",
        "plt.show()"
      ],
      "metadata": {
        "id": "Mip7OS7_ET-0"
      },
      "execution_count": null,
      "outputs": []
    },
    {
      "cell_type": "markdown",
      "source": [
        "## Display and compare **Results**"
      ],
      "metadata": {
        "id": "ADKpQqHlNlvH"
      }
    },
    {
      "cell_type": "code",
      "source": [
        "# Display images, ground-truth mask and the respective predicted mask\n",
        "display_images(directory, image_folder, label_folder, predicted_folder, preds)"
      ],
      "metadata": {
        "id": "QJQ9D43r50hu"
      },
      "execution_count": null,
      "outputs": []
    },
    {
      "cell_type": "code",
      "source": [
        "# Calculate and display images, ground-truth mask and the respective predicted mask, plus the pixel-wise error associated to each block\n",
        "pixel_wise_errors(test_file_names, label_folder, predicted_folder, image_folder)"
      ],
      "metadata": {
        "id": "QmKTh_NL4QY_"
      },
      "execution_count": null,
      "outputs": []
    },
    {
      "cell_type": "markdown",
      "source": [
        "## Confusion Matrix calculation"
      ],
      "metadata": {
        "id": "5gH-_L2H98vL"
      }
    },
    {
      "cell_type": "code",
      "source": [
        "# Perform inference on the test set\n",
        "preds, _ = learn.get_preds(dl=dls.valid)\n",
        "\n",
        "# Calculate the confusion matrix for the test set\n",
        "true_masks_flat, predicted_masks_flat = true_and_pred_mask_to_1D_numpy(dls, preds)\n",
        "conf_matrix = confusion_matrix(true_masks_flat, predicted_masks_flat)\n",
        "\n",
        "print(\"Confusion Matrix for the Test Set:\")\n",
        "print(conf_matrix)\n"
      ],
      "metadata": {
        "id": "L4pF_-AoFhHM",
        "outputId": "3b2bc86b-1fd8-4808-ae39-925c71dd49bb",
        "colab": {
          "base_uri": "https://localhost:8080/",
          "height": 69
        }
      },
      "execution_count": 59,
      "outputs": [
        {
          "output_type": "display_data",
          "data": {
            "text/plain": [
              "<IPython.core.display.HTML object>"
            ],
            "text/html": [
              "\n",
              "<style>\n",
              "    /* Turns off some styling */\n",
              "    progress {\n",
              "        /* gets rid of default border in Firefox and Opera. */\n",
              "        border: none;\n",
              "        /* Needs to be in here for Safari polyfill so background images work as expected. */\n",
              "        background-size: auto;\n",
              "    }\n",
              "    progress:not([value]), progress:not([value])::-webkit-progress-bar {\n",
              "        background: repeating-linear-gradient(45deg, #7e7e7e, #7e7e7e 10px, #5c5c5c 10px, #5c5c5c 20px);\n",
              "    }\n",
              "    .progress-bar-interrupted, .progress-bar-interrupted::-webkit-progress-bar {\n",
              "        background: #F44336;\n",
              "    }\n",
              "</style>\n"
            ]
          },
          "metadata": {}
        },
        {
          "output_type": "display_data",
          "data": {
            "text/plain": [
              "<IPython.core.display.HTML object>"
            ],
            "text/html": []
          },
          "metadata": {}
        },
        {
          "output_type": "stream",
          "name": "stdout",
          "text": [
            "Confusion Matrix for the Test Set:\n",
            "[[96529  2002]\n",
            " [ 3274  3987]]\n"
          ]
        }
      ]
    },
    {
      "cell_type": "markdown",
      "source": [
        "## Model's Accuracy"
      ],
      "metadata": {
        "id": "F1dFzQdF-A5u"
      }
    },
    {
      "cell_type": "code",
      "source": [
        "#Accuracy of the model\n",
        "accuracy = model_accuracy(true_masks_flat, predicted_masks_flat)\n",
        "print(\"Model Accuracy for the Test Set: {:.2f}%\".format(accuracy * 100))"
      ],
      "metadata": {
        "id": "qBSGOu2fLkGs",
        "outputId": "4b45eedc-b38d-49d7-85d5-34e3a8009992",
        "colab": {
          "base_uri": "https://localhost:8080/"
        }
      },
      "execution_count": 61,
      "outputs": [
        {
          "output_type": "stream",
          "name": "stdout",
          "text": [
            "Model Accuracy for the Test Set: 95.01%\n"
          ]
        }
      ]
    },
    {
      "cell_type": "code",
      "source": [
        "# Calculate and print the classification report\n",
        "report = classification_report(true_masks_flat, predicted_masks_flat, target_names=target_names)\n",
        "print(\"\\nClassification Report for the Test Set:\")\n",
        "print(report)"
      ],
      "metadata": {
        "id": "to6LPRUMFmJv",
        "colab": {
          "base_uri": "https://localhost:8080/"
        },
        "outputId": "5da125d0-e33a-4491-c483-c531fd402ab1"
      },
      "execution_count": 62,
      "outputs": [
        {
          "output_type": "stream",
          "name": "stdout",
          "text": [
            "\n",
            "Classification Report for the Test Set:\n",
            "                precision    recall  f1-score   support\n",
            "\n",
            "not greenhouse       0.97      0.98      0.97     98531\n",
            "    greenhouse       0.67      0.55      0.60      7261\n",
            "\n",
            "      accuracy                           0.95    105792\n",
            "     macro avg       0.82      0.76      0.79    105792\n",
            "  weighted avg       0.95      0.95      0.95    105792\n",
            "\n"
          ]
        }
      ]
    },
    {
      "cell_type": "markdown",
      "source": [
        "Check the unique values in the created png image and, if needed, convert the value to obtain only 0 and 1"
      ],
      "metadata": {
        "id": "bA7egwfL-QAR"
      }
    },
    {
      "cell_type": "code",
      "source": [
        "display_unique_values_and_datatype(os.path.join(directory, 'merged_predicted_labels.png'))"
      ],
      "metadata": {
        "id": "QAOL5jN5-Ky0"
      },
      "execution_count": null,
      "outputs": []
    },
    {
      "cell_type": "code",
      "source": [
        "# replace pixel values from 255 to 1. Output file is a png with pixels 0 and 1\n",
        "convert_values_png(os.path.join(directory, 'merged_predicted_labels.png'), os.path.join(directory, 'merged_predicted_labels_converted.png'), 255)"
      ],
      "metadata": {
        "id": "jQQUCgfZPHrn",
        "outputId": "d67a8df4-2fb6-43cf-9837-57511082bca2",
        "colab": {
          "base_uri": "https://localhost:8080/"
        }
      },
      "execution_count": 64,
      "outputs": [
        {
          "output_type": "stream",
          "name": "stdout",
          "text": [
            "Image processing complete. Saved as /content/drive/MyDrive/Estufas/merged_predicted_labels_converted.png\n"
          ]
        }
      ]
    },
    {
      "cell_type": "code",
      "source": [
        "display_unique_values_and_datatype(os.path.join(directory, 'merged_predicted_labels_converted.png'))"
      ],
      "metadata": {
        "id": "geDfQnXa9qRV"
      },
      "execution_count": null,
      "outputs": []
    },
    {
      "cell_type": "markdown",
      "source": [
        "## Comission and omission errors"
      ],
      "metadata": {
        "id": "YAnZoVqi-arq"
      }
    },
    {
      "cell_type": "code",
      "source": [
        "comission_omission_errors(os.path.join(directory, 'merged_labels.png'), os.path.join(directory, 'merged_predicted_labels_converted.png'), directory, 'comission_omission.png')"
      ],
      "metadata": {
        "id": "HzuiF4w_J1vb",
        "outputId": "8e1be868-a064-44dd-a21d-fa80e8879aac",
        "colab": {
          "base_uri": "https://localhost:8080/",
          "height": 521
        }
      },
      "execution_count": 65,
      "outputs": [
        {
          "output_type": "display_data",
          "data": {
            "text/plain": [
              "<Figure size 800x600 with 1 Axes>"
            ],
            "image/png": "[encoded data removed]"
          },
          "metadata": {}
        }
      ]
    },
    {
      "cell_type": "markdown",
      "source": [
        "## K-fold cross validation"
      ],
      "metadata": {
        "id": "jNniVo28-eAv"
      }
    },
    {
      "cell_type": "code",
      "source": [
        "overall_accuracy = kfold_cross_validation()"
      ],
      "metadata": {
        "id": "XWa7f6v7sTUH",
        "outputId": "101ca9ed-001e-4267-e573-66079755063d",
        "colab": {
          "base_uri": "https://localhost:8080/",
          "height": 1000
        }
      },
      "execution_count": 70,
      "outputs": [
        {
          "metadata": {
            "tags": null
          },
          "name": "stdout",
          "output_type": "stream",
          "text": [
            "Fold 1 of 5\n"
          ]
        },
        {
          "data": {
            "text/html": [
              "\n",
              "<style>\n",
              "    /* Turns off some styling */\n",
              "    progress {\n",
              "        /* gets rid of default border in Firefox and Opera. */\n",
              "        border: none;\n",
              "        /* Needs to be in here for Safari polyfill so background images work as expected. */\n",
              "        background-size: auto;\n",
              "    }\n",
              "    progress:not([value]), progress:not([value])::-webkit-progress-bar {\n",
              "        background: repeating-linear-gradient(45deg, #7e7e7e, #7e7e7e 10px, #5c5c5c 10px, #5c5c5c 20px);\n",
              "    }\n",
              "    .progress-bar-interrupted, .progress-bar-interrupted::-webkit-progress-bar {\n",
              "        background: #F44336;\n",
              "    }\n",
              "</style>\n"
            ],
            "text/plain": [
              "<IPython.core.display.HTML object>"
            ]
          },
          "metadata": {},
          "output_type": "display_data"
        },
        {
          "data": {
            "text/html": [
              "<table border=\"1\" class=\"dataframe\">\n",
              "  <thead>\n",
              "    <tr style=\"text-align: left;\">\n",
              "      <th>epoch</th>\n",
              "      <th>train_loss</th>\n",
              "      <th>valid_loss</th>\n",
              "      <th>time</th>\n",
              "    </tr>\n",
              "  </thead>\n",
              "  <tbody>\n",
              "    <tr>\n",
              "      <td>0</td>\n",
              "      <td>0.441825</td>\n",
              "      <td>0.349791</td>\n",
              "      <td>00:39</td>\n",
              "    </tr>\n",
              "  </tbody>\n",
              "</table>"
            ],
            "text/plain": [
              "<IPython.core.display.HTML object>"
            ]
          },
          "metadata": {},
          "output_type": "display_data"
        },
        {
          "data": {
            "text/html": [
              "\n",
              "<style>\n",
              "    /* Turns off some styling */\n",
              "    progress {\n",
              "        /* gets rid of default border in Firefox and Opera. */\n",
              "        border: none;\n",
              "        /* Needs to be in here for Safari polyfill so background images work as expected. */\n",
              "        background-size: auto;\n",
              "    }\n",
              "    progress:not([value]), progress:not([value])::-webkit-progress-bar {\n",
              "        background: repeating-linear-gradient(45deg, #7e7e7e, #7e7e7e 10px, #5c5c5c 10px, #5c5c5c 20px);\n",
              "    }\n",
              "    .progress-bar-interrupted, .progress-bar-interrupted::-webkit-progress-bar {\n",
              "        background: #F44336;\n",
              "    }\n",
              "</style>\n"
            ],
            "text/plain": [
              "<IPython.core.display.HTML object>"
            ]
          },
          "metadata": {},
          "output_type": "display_data"
        },
        {
          "data": {
            "text/html": [
              "<table border=\"1\" class=\"dataframe\">\n",
              "  <thead>\n",
              "    <tr style=\"text-align: left;\">\n",
              "      <th>epoch</th>\n",
              "      <th>train_loss</th>\n",
              "      <th>valid_loss</th>\n",
              "      <th>time</th>\n",
              "    </tr>\n",
              "  </thead>\n",
              "  <tbody>\n",
              "    <tr>\n",
              "      <td>0</td>\n",
              "      <td>0.265125</td>\n",
              "      <td>0.337819</td>\n",
              "      <td>00:45</td>\n",
              "    </tr>\n",
              "    <tr>\n",
              "      <td>1</td>\n",
              "      <td>0.239341</td>\n",
              "      <td>0.277236</td>\n",
              "      <td>00:44</td>\n",
              "    </tr>\n",
              "  </tbody>\n",
              "</table>"
            ],
            "text/plain": [
              "<IPython.core.display.HTML object>"
            ]
          },
          "metadata": {},
          "output_type": "display_data"
        },
        {
          "data": {
            "text/html": [
              "\n",
              "<style>\n",
              "    /* Turns off some styling */\n",
              "    progress {\n",
              "        /* gets rid of default border in Firefox and Opera. */\n",
              "        border: none;\n",
              "        /* Needs to be in here for Safari polyfill so background images work as expected. */\n",
              "        background-size: auto;\n",
              "    }\n",
              "    progress:not([value]), progress:not([value])::-webkit-progress-bar {\n",
              "        background: repeating-linear-gradient(45deg, #7e7e7e, #7e7e7e 10px, #5c5c5c 10px, #5c5c5c 20px);\n",
              "    }\n",
              "    .progress-bar-interrupted, .progress-bar-interrupted::-webkit-progress-bar {\n",
              "        background: #F44336;\n",
              "    }\n",
              "</style>\n"
            ],
            "text/plain": [
              "<IPython.core.display.HTML object>"
            ]
          },
          "metadata": {},
          "output_type": "display_data"
        },
        {
          "data": {
            "text/html": [],
            "text/plain": [
              "<IPython.core.display.HTML object>"
            ]
          },
          "metadata": {},
          "output_type": "display_data"
        },
        {
          "metadata": {
            "tags": null
          },
          "name": "stdout",
          "output_type": "stream",
          "text": [
            "Fold 1 - Model Accuracy: 89.36%\n",
            "Fold 1 - Test File Names: [Path('/content/drive/MyDrive/Estufas/images/image_1_1.png'), Path('/content/drive/MyDrive/Estufas/images/image_1_4.png'), Path('/content/drive/MyDrive/Estufas/images/image_1_5.png'), Path('/content/drive/MyDrive/Estufas/images/image_2_1.png'), Path('/content/drive/MyDrive/Estufas/images/image_2_0.png'), Path('/content/drive/MyDrive/Estufas/images/image_2_3.png'), Path('/content/drive/MyDrive/Estufas/images/image_2_7.png'), Path('/content/drive/MyDrive/Estufas/images/image_3_3.png'), Path('/content/drive/MyDrive/Estufas/images/image_3_6.png'), Path('/content/drive/MyDrive/Estufas/images/image_3_7.png'), Path('/content/drive/MyDrive/Estufas/images/image_6_4.png'), Path('/content/drive/MyDrive/Estufas/images/image_6_5.png'), Path('/content/drive/MyDrive/Estufas/images/image_7_1.png'), Path('/content/drive/MyDrive/Estufas/images/image_8_3.png'), Path('/content/drive/MyDrive/Estufas/images/image_9_4.png'), Path('/content/drive/MyDrive/Estufas/images/image_9_6.png'), Path('/content/drive/MyDrive/Estufas/images/image_10_5.png'), Path('/content/drive/MyDrive/Estufas/images/image_11_4.png'), Path('/content/drive/MyDrive/Estufas/images/image_12_2.png'), Path('/content/drive/MyDrive/Estufas/images/image_12_1.png'), Path('/content/drive/MyDrive/Estufas/images/image_12_4.png'), Path('/content/drive/MyDrive/Estufas/images/image_12_5.png'), Path('/content/drive/MyDrive/Estufas/images/image_13_1.png'), Path('/content/drive/MyDrive/Estufas/images/image_13_2.png'), Path('/content/drive/MyDrive/Estufas/images/image_13_4.png'), Path('/content/drive/MyDrive/Estufas/images/image_16_0.png'), Path('/content/drive/MyDrive/Estufas/images/image_16_3.png'), Path('/content/drive/MyDrive/Estufas/images/image_16_7.png'), Path('/content/drive/MyDrive/Estufas/images/image_17_3.png'), Path('/content/drive/MyDrive/Estufas/images/image_17_7.png'), Path('/content/drive/MyDrive/Estufas/images/image_18_4.png'), Path('/content/drive/MyDrive/Estufas/images/image_18_7.png')]\n",
            "Fold 2 of 5\n"
          ]
        },
        {
          "data": {
            "text/html": [
              "\n",
              "<style>\n",
              "    /* Turns off some styling */\n",
              "    progress {\n",
              "        /* gets rid of default border in Firefox and Opera. */\n",
              "        border: none;\n",
              "        /* Needs to be in here for Safari polyfill so background images work as expected. */\n",
              "        background-size: auto;\n",
              "    }\n",
              "    progress:not([value]), progress:not([value])::-webkit-progress-bar {\n",
              "        background: repeating-linear-gradient(45deg, #7e7e7e, #7e7e7e 10px, #5c5c5c 10px, #5c5c5c 20px);\n",
              "    }\n",
              "    .progress-bar-interrupted, .progress-bar-interrupted::-webkit-progress-bar {\n",
              "        background: #F44336;\n",
              "    }\n",
              "</style>\n"
            ],
            "text/plain": [
              "<IPython.core.display.HTML object>"
            ]
          },
          "metadata": {},
          "output_type": "display_data"
        },
        {
          "data": {
            "text/html": [
              "<table border=\"1\" class=\"dataframe\">\n",
              "  <thead>\n",
              "    <tr style=\"text-align: left;\">\n",
              "      <th>epoch</th>\n",
              "      <th>train_loss</th>\n",
              "      <th>valid_loss</th>\n",
              "      <th>time</th>\n",
              "    </tr>\n",
              "  </thead>\n",
              "  <tbody>\n",
              "    <tr>\n",
              "      <td>0</td>\n",
              "      <td>0.322123</td>\n",
              "      <td>0.271268</td>\n",
              "      <td>00:38</td>\n",
              "    </tr>\n",
              "  </tbody>\n",
              "</table>"
            ],
            "text/plain": [
              "<IPython.core.display.HTML object>"
            ]
          },
          "metadata": {},
          "output_type": "display_data"
        },
        {
          "data": {
            "text/html": [
              "\n",
              "<style>\n",
              "    /* Turns off some styling */\n",
              "    progress {\n",
              "        /* gets rid of default border in Firefox and Opera. */\n",
              "        border: none;\n",
              "        /* Needs to be in here for Safari polyfill so background images work as expected. */\n",
              "        background-size: auto;\n",
              "    }\n",
              "    progress:not([value]), progress:not([value])::-webkit-progress-bar {\n",
              "        background: repeating-linear-gradient(45deg, #7e7e7e, #7e7e7e 10px, #5c5c5c 10px, #5c5c5c 20px);\n",
              "    }\n",
              "    .progress-bar-interrupted, .progress-bar-interrupted::-webkit-progress-bar {\n",
              "        background: #F44336;\n",
              "    }\n",
              "</style>\n"
            ],
            "text/plain": [
              "<IPython.core.display.HTML object>"
            ]
          },
          "metadata": {},
          "output_type": "display_data"
        },
        {
          "data": {
            "text/html": [
              "<table border=\"1\" class=\"dataframe\">\n",
              "  <thead>\n",
              "    <tr style=\"text-align: left;\">\n",
              "      <th>epoch</th>\n",
              "      <th>train_loss</th>\n",
              "      <th>valid_loss</th>\n",
              "      <th>time</th>\n",
              "    </tr>\n",
              "  </thead>\n",
              "  <tbody>\n",
              "    <tr>\n",
              "      <td>0</td>\n",
              "      <td>0.238315</td>\n",
              "      <td>0.270335</td>\n",
              "      <td>00:43</td>\n",
              "    </tr>\n",
              "    <tr>\n",
              "      <td>1</td>\n",
              "      <td>0.224191</td>\n",
              "      <td>0.230733</td>\n",
              "      <td>00:45</td>\n",
              "    </tr>\n",
              "  </tbody>\n",
              "</table>"
            ],
            "text/plain": [
              "<IPython.core.display.HTML object>"
            ]
          },
          "metadata": {},
          "output_type": "display_data"
        },
        {
          "data": {
            "text/html": [
              "\n",
              "<style>\n",
              "    /* Turns off some styling */\n",
              "    progress {\n",
              "        /* gets rid of default border in Firefox and Opera. */\n",
              "        border: none;\n",
              "        /* Needs to be in here for Safari polyfill so background images work as expected. */\n",
              "        background-size: auto;\n",
              "    }\n",
              "    progress:not([value]), progress:not([value])::-webkit-progress-bar {\n",
              "        background: repeating-linear-gradient(45deg, #7e7e7e, #7e7e7e 10px, #5c5c5c 10px, #5c5c5c 20px);\n",
              "    }\n",
              "    .progress-bar-interrupted, .progress-bar-interrupted::-webkit-progress-bar {\n",
              "        background: #F44336;\n",
              "    }\n",
              "</style>\n"
            ],
            "text/plain": [
              "<IPython.core.display.HTML object>"
            ]
          },
          "metadata": {},
          "output_type": "display_data"
        },
        {
          "data": {
            "text/html": [],
            "text/plain": [
              "<IPython.core.display.HTML object>"
            ]
          },
          "metadata": {},
          "output_type": "display_data"
        },
        {
          "metadata": {
            "tags": null
          },
          "name": "stdout",
          "output_type": "stream",
          "text": [
            "Fold 2 - Model Accuracy: 91.61%\n",
            "Fold 2 - Test File Names: [Path('/content/drive/MyDrive/Estufas/images/image_0_1.png'), Path('/content/drive/MyDrive/Estufas/images/image_0_4.png'), Path('/content/drive/MyDrive/Estufas/images/image_0_6.png'), Path('/content/drive/MyDrive/Estufas/images/image_1_3.png'), Path('/content/drive/MyDrive/Estufas/images/image_2_6.png'), Path('/content/drive/MyDrive/Estufas/images/image_3_1.png'), Path('/content/drive/MyDrive/Estufas/images/image_3_4.png'), Path('/content/drive/MyDrive/Estufas/images/image_4_0.png'), Path('/content/drive/MyDrive/Estufas/images/image_4_5.png'), Path('/content/drive/MyDrive/Estufas/images/image_5_1.png'), Path('/content/drive/MyDrive/Estufas/images/image_5_2.png'), Path('/content/drive/MyDrive/Estufas/images/image_5_6.png'), Path('/content/drive/MyDrive/Estufas/images/image_7_3.png'), Path('/content/drive/MyDrive/Estufas/images/image_8_1.png'), Path('/content/drive/MyDrive/Estufas/images/image_8_2.png'), Path('/content/drive/MyDrive/Estufas/images/image_8_4.png'), Path('/content/drive/MyDrive/Estufas/images/image_9_5.png'), Path('/content/drive/MyDrive/Estufas/images/image_10_1.png'), Path('/content/drive/MyDrive/Estufas/images/image_10_2.png'), Path('/content/drive/MyDrive/Estufas/images/image_10_4.png'), Path('/content/drive/MyDrive/Estufas/images/image_11_2.png'), Path('/content/drive/MyDrive/Estufas/images/image_12_0.png'), Path('/content/drive/MyDrive/Estufas/images/image_14_2.png'), Path('/content/drive/MyDrive/Estufas/images/image_14_4.png'), Path('/content/drive/MyDrive/Estufas/images/image_15_4.png'), Path('/content/drive/MyDrive/Estufas/images/image_15_7.png'), Path('/content/drive/MyDrive/Estufas/images/image_15_6.png'), Path('/content/drive/MyDrive/Estufas/images/image_16_4.png'), Path('/content/drive/MyDrive/Estufas/images/image_17_2.png'), Path('/content/drive/MyDrive/Estufas/images/image_17_4.png'), Path('/content/drive/MyDrive/Estufas/images/image_17_6.png'), Path('/content/drive/MyDrive/Estufas/images/image_18_1.png')]\n",
            "Fold 3 of 5\n"
          ]
        },
        {
          "data": {
            "text/html": [
              "\n",
              "<style>\n",
              "    /* Turns off some styling */\n",
              "    progress {\n",
              "        /* gets rid of default border in Firefox and Opera. */\n",
              "        border: none;\n",
              "        /* Needs to be in here for Safari polyfill so background images work as expected. */\n",
              "        background-size: auto;\n",
              "    }\n",
              "    progress:not([value]), progress:not([value])::-webkit-progress-bar {\n",
              "        background: repeating-linear-gradient(45deg, #7e7e7e, #7e7e7e 10px, #5c5c5c 10px, #5c5c5c 20px);\n",
              "    }\n",
              "    .progress-bar-interrupted, .progress-bar-interrupted::-webkit-progress-bar {\n",
              "        background: #F44336;\n",
              "    }\n",
              "</style>\n"
            ],
            "text/plain": [
              "<IPython.core.display.HTML object>"
            ]
          },
          "metadata": {},
          "output_type": "display_data"
        },
        {
          "data": {
            "text/html": [
              "<table border=\"1\" class=\"dataframe\">\n",
              "  <thead>\n",
              "    <tr style=\"text-align: left;\">\n",
              "      <th>epoch</th>\n",
              "      <th>train_loss</th>\n",
              "      <th>valid_loss</th>\n",
              "      <th>time</th>\n",
              "    </tr>\n",
              "  </thead>\n",
              "  <tbody>\n",
              "    <tr>\n",
              "      <td>0</td>\n",
              "      <td>0.438380</td>\n",
              "      <td>0.197128</td>\n",
              "      <td>00:38</td>\n",
              "    </tr>\n",
              "  </tbody>\n",
              "</table>"
            ],
            "text/plain": [
              "<IPython.core.display.HTML object>"
            ]
          },
          "metadata": {},
          "output_type": "display_data"
        },
        {
          "data": {
            "text/html": [
              "\n",
              "<style>\n",
              "    /* Turns off some styling */\n",
              "    progress {\n",
              "        /* gets rid of default border in Firefox and Opera. */\n",
              "        border: none;\n",
              "        /* Needs to be in here for Safari polyfill so background images work as expected. */\n",
              "        background-size: auto;\n",
              "    }\n",
              "    progress:not([value]), progress:not([value])::-webkit-progress-bar {\n",
              "        background: repeating-linear-gradient(45deg, #7e7e7e, #7e7e7e 10px, #5c5c5c 10px, #5c5c5c 20px);\n",
              "    }\n",
              "    .progress-bar-interrupted, .progress-bar-interrupted::-webkit-progress-bar {\n",
              "        background: #F44336;\n",
              "    }\n",
              "</style>\n"
            ],
            "text/plain": [
              "<IPython.core.display.HTML object>"
            ]
          },
          "metadata": {},
          "output_type": "display_data"
        },
        {
          "data": {
            "text/html": [
              "<table border=\"1\" class=\"dataframe\">\n",
              "  <thead>\n",
              "    <tr style=\"text-align: left;\">\n",
              "      <th>epoch</th>\n",
              "      <th>train_loss</th>\n",
              "      <th>valid_loss</th>\n",
              "      <th>time</th>\n",
              "    </tr>\n",
              "  </thead>\n",
              "  <tbody>\n",
              "    <tr>\n",
              "      <td>0</td>\n",
              "      <td>0.285610</td>\n",
              "      <td>0.136321</td>\n",
              "      <td>00:43</td>\n",
              "    </tr>\n",
              "    <tr>\n",
              "      <td>1</td>\n",
              "      <td>0.246920</td>\n",
              "      <td>0.109672</td>\n",
              "      <td>00:44</td>\n",
              "    </tr>\n",
              "  </tbody>\n",
              "</table>"
            ],
            "text/plain": [
              "<IPython.core.display.HTML object>"
            ]
          },
          "metadata": {},
          "output_type": "display_data"
        },
        {
          "data": {
            "text/html": [
              "\n",
              "<style>\n",
              "    /* Turns off some styling */\n",
              "    progress {\n",
              "        /* gets rid of default border in Firefox and Opera. */\n",
              "        border: none;\n",
              "        /* Needs to be in here for Safari polyfill so background images work as expected. */\n",
              "        background-size: auto;\n",
              "    }\n",
              "    progress:not([value]), progress:not([value])::-webkit-progress-bar {\n",
              "        background: repeating-linear-gradient(45deg, #7e7e7e, #7e7e7e 10px, #5c5c5c 10px, #5c5c5c 20px);\n",
              "    }\n",
              "    .progress-bar-interrupted, .progress-bar-interrupted::-webkit-progress-bar {\n",
              "        background: #F44336;\n",
              "    }\n",
              "</style>\n"
            ],
            "text/plain": [
              "<IPython.core.display.HTML object>"
            ]
          },
          "metadata": {},
          "output_type": "display_data"
        },
        {
          "data": {
            "text/html": [],
            "text/plain": [
              "<IPython.core.display.HTML object>"
            ]
          },
          "metadata": {},
          "output_type": "display_data"
        },
        {
          "metadata": {
            "tags": null
          },
          "name": "stdout",
          "output_type": "stream",
          "text": [
            "Fold 3 - Model Accuracy: 96.39%\n",
            "Fold 3 - Test File Names: [Path('/content/drive/MyDrive/Estufas/images/image_0_2.png'), Path('/content/drive/MyDrive/Estufas/images/image_1_2.png'), Path('/content/drive/MyDrive/Estufas/images/image_3_0.png'), Path('/content/drive/MyDrive/Estufas/images/image_3_2.png'), Path('/content/drive/MyDrive/Estufas/images/image_3_5.png'), Path('/content/drive/MyDrive/Estufas/images/image_4_2.png'), Path('/content/drive/MyDrive/Estufas/images/image_4_6.png'), Path('/content/drive/MyDrive/Estufas/images/image_5_0.png'), Path('/content/drive/MyDrive/Estufas/images/image_5_3.png'), Path('/content/drive/MyDrive/Estufas/images/image_5_4.png'), Path('/content/drive/MyDrive/Estufas/images/image_7_7.png'), Path('/content/drive/MyDrive/Estufas/images/image_7_5.png'), Path('/content/drive/MyDrive/Estufas/images/image_8_0.png'), Path('/content/drive/MyDrive/Estufas/images/image_8_5.png'), Path('/content/drive/MyDrive/Estufas/images/image_9_0.png'), Path('/content/drive/MyDrive/Estufas/images/image_10_0.png'), Path('/content/drive/MyDrive/Estufas/images/image_10_6.png'), Path('/content/drive/MyDrive/Estufas/images/image_11_6.png'), Path('/content/drive/MyDrive/Estufas/images/image_11_7.png'), Path('/content/drive/MyDrive/Estufas/images/image_13_5.png'), Path('/content/drive/MyDrive/Estufas/images/image_13_7.png'), Path('/content/drive/MyDrive/Estufas/images/image_14_0.png'), Path('/content/drive/MyDrive/Estufas/images/image_14_5.png'), Path('/content/drive/MyDrive/Estufas/images/image_14_6.png'), Path('/content/drive/MyDrive/Estufas/images/image_14_7.png'), Path('/content/drive/MyDrive/Estufas/images/image_15_0.png'), Path('/content/drive/MyDrive/Estufas/images/image_15_5.png'), Path('/content/drive/MyDrive/Estufas/images/image_16_5.png'), Path('/content/drive/MyDrive/Estufas/images/image_16_6.png'), Path('/content/drive/MyDrive/Estufas/images/image_19_0.png'), Path('/content/drive/MyDrive/Estufas/images/image_19_5.png'), Path('/content/drive/MyDrive/Estufas/images/image_19_3.png')]\n",
            "Fold 4 of 5\n"
          ]
        },
        {
          "data": {
            "text/html": [
              "\n",
              "<style>\n",
              "    /* Turns off some styling */\n",
              "    progress {\n",
              "        /* gets rid of default border in Firefox and Opera. */\n",
              "        border: none;\n",
              "        /* Needs to be in here for Safari polyfill so background images work as expected. */\n",
              "        background-size: auto;\n",
              "    }\n",
              "    progress:not([value]), progress:not([value])::-webkit-progress-bar {\n",
              "        background: repeating-linear-gradient(45deg, #7e7e7e, #7e7e7e 10px, #5c5c5c 10px, #5c5c5c 20px);\n",
              "    }\n",
              "    .progress-bar-interrupted, .progress-bar-interrupted::-webkit-progress-bar {\n",
              "        background: #F44336;\n",
              "    }\n",
              "</style>\n"
            ],
            "text/plain": [
              "<IPython.core.display.HTML object>"
            ]
          },
          "metadata": {},
          "output_type": "display_data"
        },
        {
          "data": {
            "text/html": [
              "<table border=\"1\" class=\"dataframe\">\n",
              "  <thead>\n",
              "    <tr style=\"text-align: left;\">\n",
              "      <th>epoch</th>\n",
              "      <th>train_loss</th>\n",
              "      <th>valid_loss</th>\n",
              "      <th>time</th>\n",
              "    </tr>\n",
              "  </thead>\n",
              "  <tbody>\n",
              "    <tr>\n",
              "      <td>0</td>\n",
              "      <td>0.449360</td>\n",
              "      <td>0.329926</td>\n",
              "      <td>00:38</td>\n",
              "    </tr>\n",
              "  </tbody>\n",
              "</table>"
            ],
            "text/plain": [
              "<IPython.core.display.HTML object>"
            ]
          },
          "metadata": {},
          "output_type": "display_data"
        },
        {
          "data": {
            "text/html": [
              "\n",
              "<style>\n",
              "    /* Turns off some styling */\n",
              "    progress {\n",
              "        /* gets rid of default border in Firefox and Opera. */\n",
              "        border: none;\n",
              "        /* Needs to be in here for Safari polyfill so background images work as expected. */\n",
              "        background-size: auto;\n",
              "    }\n",
              "    progress:not([value]), progress:not([value])::-webkit-progress-bar {\n",
              "        background: repeating-linear-gradient(45deg, #7e7e7e, #7e7e7e 10px, #5c5c5c 10px, #5c5c5c 20px);\n",
              "    }\n",
              "    .progress-bar-interrupted, .progress-bar-interrupted::-webkit-progress-bar {\n",
              "        background: #F44336;\n",
              "    }\n",
              "</style>\n"
            ],
            "text/plain": [
              "<IPython.core.display.HTML object>"
            ]
          },
          "metadata": {},
          "output_type": "display_data"
        },
        {
          "data": {
            "text/html": [
              "\n",
              "    <div>\n",
              "      <progress value='1' class='' max='2' style='width:300px; height:20px; vertical-align: middle;'></progress>\n",
              "      50.00% [1/2 00:43&lt;00:43]\n",
              "    </div>\n",
              "    \n",
              "<table border=\"1\" class=\"dataframe\">\n",
              "  <thead>\n",
              "    <tr style=\"text-align: left;\">\n",
              "      <th>epoch</th>\n",
              "      <th>train_loss</th>\n",
              "      <th>valid_loss</th>\n",
              "      <th>time</th>\n",
              "    </tr>\n",
              "  </thead>\n",
              "  <tbody>\n",
              "    <tr>\n",
              "      <td>0</td>\n",
              "      <td>0.304948</td>\n",
              "      <td>0.294887</td>\n",
              "      <td>00:43</td>\n",
              "    </tr>\n",
              "  </tbody>\n",
              "</table><p>\n",
              "\n",
              "    <div>\n",
              "      <progress value='0' class='' max='16' style='width:300px; height:20px; vertical-align: middle;'></progress>\n",
              "      0.00% [0/16 00:00&lt;?]\n",
              "    </div>\n",
              "    "
            ],
            "text/plain": [
              "<IPython.core.display.HTML object>"
            ]
          },
          "metadata": {},
          "output_type": "display_data"
        },
        {
          "output_type": "display_data",
          "data": {
            "text/plain": [
              "<IPython.core.display.HTML object>"
            ],
            "text/html": [
              "<table border=\"1\" class=\"dataframe\">\n",
              "  <thead>\n",
              "    <tr style=\"text-align: left;\">\n",
              "      <th>epoch</th>\n",
              "      <th>train_loss</th>\n",
              "      <th>valid_loss</th>\n",
              "      <th>time</th>\n",
              "    </tr>\n",
              "  </thead>\n",
              "  <tbody>\n",
              "    <tr>\n",
              "      <td>0</td>\n",
              "      <td>0.304948</td>\n",
              "      <td>0.294887</td>\n",
              "      <td>00:43</td>\n",
              "    </tr>\n",
              "    <tr>\n",
              "      <td>1</td>\n",
              "      <td>0.277720</td>\n",
              "      <td>0.292423</td>\n",
              "      <td>00:44</td>\n",
              "    </tr>\n",
              "  </tbody>\n",
              "</table>"
            ]
          },
          "metadata": {}
        },
        {
          "output_type": "display_data",
          "data": {
            "text/plain": [
              "<IPython.core.display.HTML object>"
            ],
            "text/html": [
              "\n",
              "<style>\n",
              "    /* Turns off some styling */\n",
              "    progress {\n",
              "        /* gets rid of default border in Firefox and Opera. */\n",
              "        border: none;\n",
              "        /* Needs to be in here for Safari polyfill so background images work as expected. */\n",
              "        background-size: auto;\n",
              "    }\n",
              "    progress:not([value]), progress:not([value])::-webkit-progress-bar {\n",
              "        background: repeating-linear-gradient(45deg, #7e7e7e, #7e7e7e 10px, #5c5c5c 10px, #5c5c5c 20px);\n",
              "    }\n",
              "    .progress-bar-interrupted, .progress-bar-interrupted::-webkit-progress-bar {\n",
              "        background: #F44336;\n",
              "    }\n",
              "</style>\n"
            ]
          },
          "metadata": {}
        },
        {
          "output_type": "display_data",
          "data": {
            "text/plain": [
              "<IPython.core.display.HTML object>"
            ],
            "text/html": []
          },
          "metadata": {}
        },
        {
          "output_type": "stream",
          "name": "stdout",
          "text": [
            "Fold 4 - Model Accuracy: 87.69%\n",
            "Fold 4 - Test File Names: [Path('/content/drive/MyDrive/Estufas/images/image_0_3.png'), Path('/content/drive/MyDrive/Estufas/images/image_0_5.png'), Path('/content/drive/MyDrive/Estufas/images/image_0_7.png'), Path('/content/drive/MyDrive/Estufas/images/image_1_0.png'), Path('/content/drive/MyDrive/Estufas/images/image_1_7.png'), Path('/content/drive/MyDrive/Estufas/images/image_2_2.png'), Path('/content/drive/MyDrive/Estufas/images/image_4_1.png'), Path('/content/drive/MyDrive/Estufas/images/image_4_3.png'), Path('/content/drive/MyDrive/Estufas/images/image_4_7.png'), Path('/content/drive/MyDrive/Estufas/images/image_5_5.png'), Path('/content/drive/MyDrive/Estufas/images/image_5_7.png'), Path('/content/drive/MyDrive/Estufas/images/image_6_1.png'), Path('/content/drive/MyDrive/Estufas/images/image_7_0.png'), Path('/content/drive/MyDrive/Estufas/images/image_7_4.png'), Path('/content/drive/MyDrive/Estufas/images/image_8_6.png'), Path('/content/drive/MyDrive/Estufas/images/image_9_1.png'), Path('/content/drive/MyDrive/Estufas/images/image_9_3.png'), Path('/content/drive/MyDrive/Estufas/images/image_9_7.png'), Path('/content/drive/MyDrive/Estufas/images/image_10_3.png'), Path('/content/drive/MyDrive/Estufas/images/image_11_1.png'), Path('/content/drive/MyDrive/Estufas/images/image_11_3.png'), Path('/content/drive/MyDrive/Estufas/images/image_13_6.png'), Path('/content/drive/MyDrive/Estufas/images/image_14_1.png'), Path('/content/drive/MyDrive/Estufas/images/image_15_2.png'), Path('/content/drive/MyDrive/Estufas/images/image_15_3.png'), Path('/content/drive/MyDrive/Estufas/images/image_17_1.png'), Path('/content/drive/MyDrive/Estufas/images/image_18_0.png'), Path('/content/drive/MyDrive/Estufas/images/image_18_2.png'), Path('/content/drive/MyDrive/Estufas/images/image_18_3.png'), Path('/content/drive/MyDrive/Estufas/images/image_18_5.png'), Path('/content/drive/MyDrive/Estufas/images/image_19_1.png'), Path('/content/drive/MyDrive/Estufas/images/image_19_7.png')]\n",
            "Fold 5 of 5\n"
          ]
        },
        {
          "output_type": "display_data",
          "data": {
            "text/plain": [
              "<IPython.core.display.HTML object>"
            ],
            "text/html": [
              "\n",
              "<style>\n",
              "    /* Turns off some styling */\n",
              "    progress {\n",
              "        /* gets rid of default border in Firefox and Opera. */\n",
              "        border: none;\n",
              "        /* Needs to be in here for Safari polyfill so background images work as expected. */\n",
              "        background-size: auto;\n",
              "    }\n",
              "    progress:not([value]), progress:not([value])::-webkit-progress-bar {\n",
              "        background: repeating-linear-gradient(45deg, #7e7e7e, #7e7e7e 10px, #5c5c5c 10px, #5c5c5c 20px);\n",
              "    }\n",
              "    .progress-bar-interrupted, .progress-bar-interrupted::-webkit-progress-bar {\n",
              "        background: #F44336;\n",
              "    }\n",
              "</style>\n"
            ]
          },
          "metadata": {}
        },
        {
          "output_type": "display_data",
          "data": {
            "text/plain": [
              "<IPython.core.display.HTML object>"
            ],
            "text/html": [
              "<table border=\"1\" class=\"dataframe\">\n",
              "  <thead>\n",
              "    <tr style=\"text-align: left;\">\n",
              "      <th>epoch</th>\n",
              "      <th>train_loss</th>\n",
              "      <th>valid_loss</th>\n",
              "      <th>time</th>\n",
              "    </tr>\n",
              "  </thead>\n",
              "  <tbody>\n",
              "    <tr>\n",
              "      <td>0</td>\n",
              "      <td>0.369510</td>\n",
              "      <td>0.226163</td>\n",
              "      <td>00:37</td>\n",
              "    </tr>\n",
              "  </tbody>\n",
              "</table>"
            ]
          },
          "metadata": {}
        },
        {
          "output_type": "display_data",
          "data": {
            "text/plain": [
              "<IPython.core.display.HTML object>"
            ],
            "text/html": [
              "\n",
              "<style>\n",
              "    /* Turns off some styling */\n",
              "    progress {\n",
              "        /* gets rid of default border in Firefox and Opera. */\n",
              "        border: none;\n",
              "        /* Needs to be in here for Safari polyfill so background images work as expected. */\n",
              "        background-size: auto;\n",
              "    }\n",
              "    progress:not([value]), progress:not([value])::-webkit-progress-bar {\n",
              "        background: repeating-linear-gradient(45deg, #7e7e7e, #7e7e7e 10px, #5c5c5c 10px, #5c5c5c 20px);\n",
              "    }\n",
              "    .progress-bar-interrupted, .progress-bar-interrupted::-webkit-progress-bar {\n",
              "        background: #F44336;\n",
              "    }\n",
              "</style>\n"
            ]
          },
          "metadata": {}
        },
        {
          "output_type": "display_data",
          "data": {
            "text/plain": [
              "<IPython.core.display.HTML object>"
            ],
            "text/html": [
              "<table border=\"1\" class=\"dataframe\">\n",
              "  <thead>\n",
              "    <tr style=\"text-align: left;\">\n",
              "      <th>epoch</th>\n",
              "      <th>train_loss</th>\n",
              "      <th>valid_loss</th>\n",
              "      <th>time</th>\n",
              "    </tr>\n",
              "  </thead>\n",
              "  <tbody>\n",
              "    <tr>\n",
              "      <td>0</td>\n",
              "      <td>0.266366</td>\n",
              "      <td>0.222308</td>\n",
              "      <td>00:43</td>\n",
              "    </tr>\n",
              "    <tr>\n",
              "      <td>1</td>\n",
              "      <td>0.238492</td>\n",
              "      <td>0.199336</td>\n",
              "      <td>00:43</td>\n",
              "    </tr>\n",
              "  </tbody>\n",
              "</table>"
            ]
          },
          "metadata": {}
        },
        {
          "output_type": "display_data",
          "data": {
            "text/plain": [
              "<IPython.core.display.HTML object>"
            ],
            "text/html": [
              "\n",
              "<style>\n",
              "    /* Turns off some styling */\n",
              "    progress {\n",
              "        /* gets rid of default border in Firefox and Opera. */\n",
              "        border: none;\n",
              "        /* Needs to be in here for Safari polyfill so background images work as expected. */\n",
              "        background-size: auto;\n",
              "    }\n",
              "    progress:not([value]), progress:not([value])::-webkit-progress-bar {\n",
              "        background: repeating-linear-gradient(45deg, #7e7e7e, #7e7e7e 10px, #5c5c5c 10px, #5c5c5c 20px);\n",
              "    }\n",
              "    .progress-bar-interrupted, .progress-bar-interrupted::-webkit-progress-bar {\n",
              "        background: #F44336;\n",
              "    }\n",
              "</style>\n"
            ]
          },
          "metadata": {}
        },
        {
          "output_type": "display_data",
          "data": {
            "text/plain": [
              "<IPython.core.display.HTML object>"
            ],
            "text/html": []
          },
          "metadata": {}
        },
        {
          "output_type": "stream",
          "name": "stdout",
          "text": [
            "Fold 5 - Model Accuracy: 91.81%\n",
            "Fold 5 - Test File Names: [Path('/content/drive/MyDrive/Estufas/images/image_0_0.png'), Path('/content/drive/MyDrive/Estufas/images/image_1_6.png'), Path('/content/drive/MyDrive/Estufas/images/image_2_4.png'), Path('/content/drive/MyDrive/Estufas/images/image_2_5.png'), Path('/content/drive/MyDrive/Estufas/images/image_4_4.png'), Path('/content/drive/MyDrive/Estufas/images/image_6_0.png'), Path('/content/drive/MyDrive/Estufas/images/image_6_2.png'), Path('/content/drive/MyDrive/Estufas/images/image_6_3.png'), Path('/content/drive/MyDrive/Estufas/images/image_6_7.png'), Path('/content/drive/MyDrive/Estufas/images/image_6_6.png'), Path('/content/drive/MyDrive/Estufas/images/image_7_2.png'), Path('/content/drive/MyDrive/Estufas/images/image_7_6.png'), Path('/content/drive/MyDrive/Estufas/images/image_8_7.png'), Path('/content/drive/MyDrive/Estufas/images/image_9_2.png'), Path('/content/drive/MyDrive/Estufas/images/image_10_7.png'), Path('/content/drive/MyDrive/Estufas/images/image_11_0.png'), Path('/content/drive/MyDrive/Estufas/images/image_11_5.png'), Path('/content/drive/MyDrive/Estufas/images/image_12_3.png'), Path('/content/drive/MyDrive/Estufas/images/image_12_7.png'), Path('/content/drive/MyDrive/Estufas/images/image_12_6.png'), Path('/content/drive/MyDrive/Estufas/images/image_13_0.png'), Path('/content/drive/MyDrive/Estufas/images/image_13_3.png'), Path('/content/drive/MyDrive/Estufas/images/image_14_3.png'), Path('/content/drive/MyDrive/Estufas/images/image_15_1.png'), Path('/content/drive/MyDrive/Estufas/images/image_16_1.png'), Path('/content/drive/MyDrive/Estufas/images/image_16_2.png'), Path('/content/drive/MyDrive/Estufas/images/image_17_0.png'), Path('/content/drive/MyDrive/Estufas/images/image_17_5.png'), Path('/content/drive/MyDrive/Estufas/images/image_18_6.png'), Path('/content/drive/MyDrive/Estufas/images/image_19_4.png'), Path('/content/drive/MyDrive/Estufas/images/image_19_2.png'), Path('/content/drive/MyDrive/Estufas/images/image_19_6.png')]\n",
            "Average Confusion Matrix:\n",
            "nan\n",
            "Average Model Accuracy for 5-Fold Cross-Validation: 91.37%\n"
          ]
        },
        {
          "output_type": "stream",
          "name": "stderr",
          "text": [
            "/usr/local/lib/python3.10/dist-packages/numpy/core/fromnumeric.py:3432: RuntimeWarning: Mean of empty slice.\n",
            "  return _methods._mean(a, axis=axis, dtype=dtype,\n",
            "/usr/local/lib/python3.10/dist-packages/numpy/core/_methods.py:190: RuntimeWarning: invalid value encountered in double_scalars\n",
            "  ret = ret.dtype.type(ret / rcount)\n"
          ]
        }
      ]
    }
  ]
}