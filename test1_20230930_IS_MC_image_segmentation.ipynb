{
  "nbformat": 4,
  "nbformat_minor": 0,
  "metadata": {
    "colab": {
      "provenance": [],
      "gpuType": "T4",
      "include_colab_link": true
    },
    "kernelspec": {
      "name": "python3",
      "display_name": "Python 3"
    },
    "language_info": {
      "name": "python"
    },
    "accelerator": "GPU"
  },
  "cells": [
    {
      "cell_type": "markdown",
      "metadata": {
        "id": "view-in-github",
        "colab_type": "text"
      },
      "source": [
        "<a href=\"https://colab.research.google.com/github/inesbsilveira/estufas/blob/main/test1_20230930_IS_MC_image_segmentation.ipynb\" target=\"_parent\"><img src=\"https://colab.research.google.com/assets/colab-badge.svg\" alt=\"Open In Colab\"/></a>"
      ]
    },
    {
      "cell_type": "markdown",
      "source": [
        "# **Imports, parameters and variables**"
      ],
      "metadata": {
        "id": "2JwOqe_75_P2"
      }
    },
    {
      "cell_type": "code",
      "execution_count": 1,
      "metadata": {
        "id": "OduyU9nw0P7o",
        "outputId": "f4b03c96-53f7-4d4c-c326-fbe45458c493",
        "colab": {
          "base_uri": "https://localhost:8080/"
        }
      },
      "outputs": [
        {
          "output_type": "stream",
          "name": "stdout",
          "text": [
            "Collecting rasterio\n",
            "  Downloading rasterio-1.3.9-cp310-cp310-manylinux2014_x86_64.whl (20.6 MB)\n",
            "\u001b[2K     \u001b[90m━━━━━━━━━━━━━━━━━━━━━━━━━━━━━━━━━━━━━━━━\u001b[0m \u001b[32m20.6/20.6 MB\u001b[0m \u001b[31m57.2 MB/s\u001b[0m eta \u001b[36m0:00:00\u001b[0m\n",
            "\u001b[?25hCollecting affine (from rasterio)\n",
            "  Downloading affine-2.4.0-py3-none-any.whl (15 kB)\n",
            "Requirement already satisfied: attrs in /usr/local/lib/python3.10/dist-packages (from rasterio) (23.1.0)\n",
            "Requirement already satisfied: certifi in /usr/local/lib/python3.10/dist-packages (from rasterio) (2023.7.22)\n",
            "Requirement already satisfied: click>=4.0 in /usr/local/lib/python3.10/dist-packages (from rasterio) (8.1.7)\n",
            "Requirement already satisfied: cligj>=0.5 in /usr/local/lib/python3.10/dist-packages (from rasterio) (0.7.2)\n",
            "Requirement already satisfied: numpy in /usr/local/lib/python3.10/dist-packages (from rasterio) (1.23.5)\n",
            "Collecting snuggs>=1.4.1 (from rasterio)\n",
            "  Downloading snuggs-1.4.7-py3-none-any.whl (5.4 kB)\n",
            "Requirement already satisfied: click-plugins in /usr/local/lib/python3.10/dist-packages (from rasterio) (1.1.1)\n",
            "Requirement already satisfied: setuptools in /usr/local/lib/python3.10/dist-packages (from rasterio) (67.7.2)\n",
            "Requirement already satisfied: pyparsing>=2.1.6 in /usr/local/lib/python3.10/dist-packages (from snuggs>=1.4.1->rasterio) (3.1.1)\n",
            "Installing collected packages: snuggs, affine, rasterio\n",
            "Successfully installed affine-2.4.0 rasterio-1.3.9 snuggs-1.4.7\n"
          ]
        }
      ],
      "source": [
        "!pip install rasterio"
      ]
    },
    {
      "cell_type": "code",
      "source": [
        "import rasterio\n",
        "from rasterio.windows import Window\n",
        "import os\n",
        "import shutil\n",
        "import numpy as np\n",
        "from PIL import Image\n",
        "from fastai.vision.all import *\n",
        "from sklearn.metrics import classification_report, roc_auc_score, precision_score, confusion_matrix, ConfusionMatrixDisplay\n",
        "from sklearn.model_selection import KFold\n",
        "import matplotlib.pyplot as plt\n",
        "import tifffile as tiff\n",
        "import matplotlib.image as mpimg\n",
        "from rasterio.windows import from_bounds\n",
        "import ee\n",
        "import scipy"
      ],
      "metadata": {
        "id": "sakoF1ln0VTZ"
      },
      "execution_count": 2,
      "outputs": []
    },
    {
      "cell_type": "code",
      "source": [
        "# Trigger the authentication flow.\n",
        "ee.Authenticate()\n",
        "\n",
        "# Initialize the library.\n",
        "ee.Initialize()"
      ],
      "metadata": {
        "id": "byOdId0M76W0",
        "outputId": "a8f69047-c19e-44d5-eeae-ee18ed41c03f",
        "colab": {
          "base_uri": "https://localhost:8080/"
        }
      },
      "execution_count": 3,
      "outputs": [
        {
          "output_type": "stream",
          "name": "stdout",
          "text": [
            "To authorize access needed by Earth Engine, open the following URL in a web browser and follow the instructions. If the web browser does not start automatically, please manually browse the URL below.\n",
            "\n",
            "    https://code.earthengine.google.com/client-auth?scopes=https%3A//www.googleapis.com/auth/earthengine%20https%3A//www.googleapis.com/auth/devstorage.full_control&request_id=1F2ftZEVaCFmhIIVlHYpS1G92pmitF9bdiKVx5bzr4o&tc=dLeg23M88HONF2rlp2uFDuvC8O9DcGN7PT8X0xdnEK0&cc=cAm7FBmyKXFGcoHeZ-vmFSN9NuqGsB-5rlSTqwgBeOY\n",
            "\n",
            "The authorization workflow will generate a code, which you should paste in the box below.\n",
            "Enter verification code: 4/1AfJohXkPlVkERENg3usM2vj9eCP8tx0DiZKHUNe_cVAMwBLqz0_w2tO9eHE\n",
            "\n",
            "Successfully saved authorization token.\n"
          ]
        }
      ]
    },
    {
      "cell_type": "code",
      "source": [
        "from google.colab import drive\n",
        "drive.mount('/content/drive')"
      ],
      "metadata": {
        "colab": {
          "base_uri": "https://localhost:8080/"
        },
        "id": "0tUNND6M0YhP",
        "outputId": "fb42b733-ea6d-42a5-d9d3-c95559e5948c"
      },
      "execution_count": 4,
      "outputs": [
        {
          "output_type": "stream",
          "name": "stdout",
          "text": [
            "Mounted at /content/drive\n"
          ]
        }
      ]
    },
    {
      "cell_type": "code",
      "source": [
        "user='I' # escolher 'M' ou 'I'\n",
        "N_epochs=30\n",
        "target_names = ['not greenhouse', 'greenhouse']\n",
        "Nrows,Ncols = 20, 8 # número de blocos a usar 20*8=160\n",
        "num_folds = 5\n",
        "model_name = 'model_30epochs.pkl'\n",
        "new_model_name = 'model_30epochs.pkl'\n",
        "train_model = True\n",
        "bands = ['B2', 'B3', 'B4', 'B8']"
      ],
      "metadata": {
        "id": "o6ETvT3E2anV"
      },
      "execution_count": 73,
      "outputs": []
    },
    {
      "cell_type": "code",
      "source": [
        "# Specify the directory path\n",
        "if user=='M':\n",
        "  directory = '/content/drive/MyDrive/inv_proj/S2change_DGT/Estufas_Alentejo'\n",
        "else:\n",
        "  directory = '/content/drive/MyDrive/Estufas'\n",
        "\n",
        "path=Path(directory)\n",
        "image_folder_name = \"images\"\n",
        "label_folder_name = \"labels\"\n",
        "predicted_folder_name = \"predicted\"\n",
        "image_folder = os.path.join(directory, image_folder_name)\n",
        "os.makedirs(image_folder, exist_ok=True)\n",
        "label_folder = os.path.join(directory, label_folder_name)\n",
        "os.makedirs(label_folder, exist_ok=True)\n",
        "predicted_folder = os.path.join(directory, predicted_folder_name)\n",
        "os.makedirs(predicted_folder, exist_ok=True)"
      ],
      "metadata": {
        "id": "N8XRKFTv0eMr"
      },
      "execution_count": 6,
      "outputs": []
    },
    {
      "cell_type": "markdown",
      "source": [
        "# **Functions**"
      ],
      "metadata": {
        "id": "7WgSqKAD6T3k"
      }
    },
    {
      "cell_type": "markdown",
      "source": [
        "## Retrieve Images from Google Earth Engine"
      ],
      "metadata": {
        "id": "y4aow4nxC7RQ"
      }
    },
    {
      "cell_type": "code",
      "source": [
        "# Function to extract images from google earth engine\n",
        "\n",
        "\"\"\"\n",
        "Inputs:\n",
        "- extent = (lonmin, lonmax, latmin, latmax)\n",
        "- start_date and end_date = 'YYY-MM-DD'\n",
        "- band_name = 'B2', 'B3', 'B4' or 'B8'\n",
        "- folder_name = 'folder_name' is where the tiff file is stored\n",
        "Output: tiff file saved in folder_name\n",
        "\"\"\"\n",
        "\n",
        "def gee_images (extent, start_date, end_date, band_name, folder_name):\n",
        "\n",
        "    # Define the extent\n",
        "    lonmin, lonmax, latmin, latmax = extent\n",
        "\n",
        "    region = ee.Geometry.Polygon(\n",
        "        [[\n",
        "            [lonmin, latmin],\n",
        "            [lonmax, latmin],\n",
        "            [lonmax, latmax],\n",
        "            [lonmin, latmax]\n",
        "        ]])\n",
        "\n",
        "    # Define the Sentinel-2 image collection and filter it by date and region\n",
        "    sentinel2 = ee.ImageCollection('COPERNICUS/S2') \\\n",
        "        .filterBounds(region) \\\n",
        "        .filterDate(start_date, end_date)  # Change the date range as needed\n",
        "\n",
        "    # Define a function to mask clouds using the QA60 band\n",
        "    def maskClouds(image):\n",
        "        cloudBitMask = 1 << 10\n",
        "        cirrusBitMask = 1 << 11\n",
        "        qa60 = image.select(['QA60'])\n",
        "        cloudMask = qa60.bitwiseAnd(cloudBitMask).eq(0) \\\n",
        "            .And(qa60.bitwiseAnd(cirrusBitMask).eq(0))\n",
        "        return image.updateMask(cloudMask)\n",
        "\n",
        "    # Map the maskClouds function over the image collection\n",
        "    sentinel2 = sentinel2.map(maskClouds)\n",
        "\n",
        "    # Define a function to add a band containing the date of the image\n",
        "    def addDate(image):\n",
        "        return image.addBands(image.metadata('system:time_start'))\n",
        "\n",
        "    # Map the addDate function over the image collection\n",
        "    sentinel2 = sentinel2.map(addDate)\n",
        "\n",
        "    # Export each image to Google Drive\n",
        "    image_list = sentinel2.toList(sentinel2.size())\n",
        "    for i in range(0, sentinel2.size().getInfo()):\n",
        "        image = ee.Image(image_list.get(i))\n",
        "        date = ee.Date(image.get('system:time_start')).format('YYYY-MM-dd')\n",
        "        task = ee.batch.Export.image.toDrive(\n",
        "            image=image.select([band_name]),\n",
        "            description='Sentinel2_' + band_name + '_' + date.getInfo(),\n",
        "            folder= folder_name,\n",
        "            region=region,\n",
        "            scale=10  # Change the scale as needed\n",
        "        )\n",
        "        task.start()"
      ],
      "metadata": {
        "id": "EnPeEOI3C6xN"
      },
      "execution_count": 87,
      "outputs": []
    },
    {
      "cell_type": "markdown",
      "source": [
        "## Clip and saturate tiff files"
      ],
      "metadata": {
        "id": "k8u0oJfn6d22"
      }
    },
    {
      "cell_type": "code",
      "source": [
        "# clip tiff file by extent (xmin, ymin, xmax, ymax)\n",
        "def clip_tiff_by_extent(input_file, output_file, extent):\n",
        "    # Open the input GeoTIFF file\n",
        "    with rasterio.open(input_file) as src:\n",
        "        # Create a window representing the desired extent\n",
        "        window = from_bounds(*extent, transform=src.transform)\n",
        "\n",
        "        # Read the data within the window\n",
        "        clipped_data = src.read(window=window)\n",
        "\n",
        "        # Update the transform to reflect the new window\n",
        "        new_transform = src.window_transform(window)\n",
        "\n",
        "        # Create a new GeoTIFF file with the clipped data\n",
        "        with rasterio.open(\n",
        "            output_file,\n",
        "            'w',\n",
        "            driver='GTiff',\n",
        "            width=window.width,\n",
        "            height=window.height,\n",
        "            count=src.count,\n",
        "            dtype=clipped_data.dtype,\n",
        "            crs=src.crs,\n",
        "            transform=new_transform\n",
        "        ) as dst:\n",
        "            dst.write(clipped_data)"
      ],
      "metadata": {
        "id": "5HBhF93ank-M"
      },
      "execution_count": 8,
      "outputs": []
    },
    {
      "cell_type": "code",
      "source": [
        "#saturate array considering bigmin and bigmax values. output is an array\n",
        "def recalculate_array(arr, bigmin, bigmax):\n",
        "    # Saturate values below bigmin to bigmin and above bigmax to bigmax\n",
        "    saturated_arr = np.clip(arr, bigmin, bigmax)\n",
        "    return saturated_arr"
      ],
      "metadata": {
        "id": "TJ3Re9ZNrnQn"
      },
      "execution_count": 9,
      "outputs": []
    },
    {
      "cell_type": "code",
      "source": [
        "#Calculate bigmin and bigmax and saturated tif file accordingly\n",
        "def satu_tiff(input_file, output_file):\n",
        "    with rasterio.open(input_file) as src:\n",
        "        # Get the number of bands in the input GeoTIFF\n",
        "        num_bands = src.count\n",
        "\n",
        "        # Initialize an empty list to store the saturated bands\n",
        "        saturated_bands = []\n",
        "\n",
        "        for band_idx in range(1, num_bands + 1):\n",
        "            # Read the band into a NumPy array\n",
        "            band = src.read(band_idx)\n",
        "\n",
        "            # Calculate bigmin and bigmax for the current band based on percentiles or other criteria\n",
        "            bigmin = np.percentile(band, 1)  # 1st percentile\n",
        "            bigmax = np.percentile(band, 99)  # 99th percentile\n",
        "\n",
        "            # Recalculate the array values for the current band\n",
        "            saturated_band = recalculate_array(band, bigmin, bigmax)\n",
        "\n",
        "            # Append the saturated band to the list\n",
        "            saturated_bands.append(saturated_band)\n",
        "\n",
        "        # Create a new GeoTIFF file with the saturated bands\n",
        "        with rasterio.open(\n",
        "            output_file,\n",
        "            'w',\n",
        "            driver='GTiff',\n",
        "            width=src.width,\n",
        "            height=src.height,\n",
        "            count=num_bands,\n",
        "            dtype=saturated_bands[0].dtype,\n",
        "            crs=src.crs,\n",
        "            transform=src.transform\n",
        "        ) as dst:\n",
        "            for band_idx, band in enumerate(saturated_bands, start=1):\n",
        "                dst.write(band, band_idx)"
      ],
      "metadata": {
        "id": "Wsf1zIHoqpl1"
      },
      "execution_count": 10,
      "outputs": []
    },
    {
      "cell_type": "markdown",
      "source": [
        "## Calculate indexes - NDVI, RPGI, albedo"
      ],
      "metadata": {
        "id": "mEnGanR48nGY"
      }
    },
    {
      "cell_type": "code",
      "source": [
        "# Calculate NDVI using the Red band and NIR band. Output is a 1 band tiff file\n",
        "def calculate_ndvi(red_file, nir_file, output_file):\n",
        "    # Open the Red, Green, NIR, and Blue band GeoTIFF files\n",
        "    with rasterio.open(red_file) as red_src, rasterio.open(nir_file) as nir_src:\n",
        "\n",
        "        # Read the Red and NIR bands\n",
        "        red_band = red_src.read(1)\n",
        "        nir_band = nir_src.read(1)\n",
        "\n",
        "        # Calculate NDVI\n",
        "        with np.errstate(divide='ignore', invalid='ignore'):\n",
        "            # Ignore division by zero and invalid (e.g., NaN) results\n",
        "            ndvi = np.where(\n",
        "                (nir_band + red_band) == 0,\n",
        "                0.0,  # Set NDVI to 0 where the denominator is 0\n",
        "                (nir_band - red_band) / (nir_band + red_band)\n",
        "            )\n",
        "\n",
        "        # Create a new GeoTIFF file with the NDVI band\n",
        "        with rasterio.open(\n",
        "            output_file,\n",
        "            'w',\n",
        "            driver='GTiff',\n",
        "            width=red_src.width,\n",
        "            height=red_src.height,\n",
        "            count=1,\n",
        "            dtype=ndvi.dtype,\n",
        "            crs=red_src.crs,\n",
        "            transform=red_src.transform\n",
        "        ) as dst:\n",
        "            dst.write(ndvi, 1)"
      ],
      "metadata": {
        "id": "vrq7BaOX-zYL"
      },
      "execution_count": 11,
      "outputs": []
    },
    {
      "cell_type": "code",
      "source": [
        "# Calculate RPGI using Blue band, green band and NIR band. Output is a 1 band tiff file\n",
        "def calculate_rpgi(blue_file, green_file, nir_file, output_file):\n",
        "    # Open the Red, Green, NIR, and Blue band GeoTIFF files\n",
        "    with rasterio.open(blue_file) as blue_src, rasterio.open(nir_file) as nir_src, rasterio.open(green_file) as green_src:\n",
        "\n",
        "        # Read the Blue, Green, and NIR bands\n",
        "        blue_band = blue_src.read(1)\n",
        "        green_band = green_src.read(1)\n",
        "        nir_band = nir_src.read(1)\n",
        "\n",
        "        # Calculate RPGI\n",
        "        with np.errstate(divide='ignore', invalid='ignore'):\n",
        "            rpgi = (blue_band) / (1 - np.mean(blue_band + green_band + nir_band))\n",
        "\n",
        "        # Create a new GeoTIFF file with the NDVI band\n",
        "        with rasterio.open(\n",
        "            output_file,\n",
        "            'w',\n",
        "            driver='GTiff',\n",
        "            width=blue_src.width,\n",
        "            height=blue_src.height,\n",
        "            count=1,\n",
        "            dtype=rpgi.dtype,\n",
        "            crs=blue_src.crs,\n",
        "            transform=blue_src.transform\n",
        "        ) as dst:\n",
        "            dst.write(rpgi, 1)"
      ],
      "metadata": {
        "id": "3AOe-V5wSzZ2"
      },
      "execution_count": 12,
      "outputs": []
    },
    {
      "cell_type": "code",
      "source": [
        "# Calculate albedo using blue band, green band and red band. the output is a 3 bands tiff file\n",
        "def calculate_albedo(blue_file, green_file, red_file, output_file):\n",
        "    # Open the Red, Green, NIR, and Blue band GeoTIFF files\n",
        "    with rasterio.open(blue_file) as blue_src, rasterio.open(red_file) as red_src, rasterio.open(green_file) as green_src:\n",
        "\n",
        "        # Read the Red, Green and Blue bands\n",
        "        blue_band = blue_src.read(1)\n",
        "        green_band = green_src.read(1)\n",
        "        red_band = red_src.read(1)\n",
        "\n",
        "        # Calculate albedo\n",
        "        albedo = blue_band + green_band + red_band\n",
        "\n",
        "        # Create a new GeoTIFF file with the NDVI band\n",
        "        with rasterio.open(\n",
        "            output_file,\n",
        "            'w',\n",
        "            driver='GTiff',\n",
        "            width=blue_src.width,\n",
        "            height=blue_src.height,\n",
        "            count=1,\n",
        "            dtype=albedo.dtype,\n",
        "            crs=blue_src.crs,\n",
        "            transform=blue_src.transform\n",
        "        ) as dst:\n",
        "            dst.write(albedo, 1)"
      ],
      "metadata": {
        "id": "b3LQ30-dX9OQ"
      },
      "execution_count": 13,
      "outputs": []
    },
    {
      "cell_type": "code",
      "source": [
        "# Put together all the indexes. the output is a tiff file with 3 bands\n",
        "def calculate_ndvi_rpgi_albedo(ndvi_file, rpgi_file, albedo_file, output_file):\n",
        "    # Open the Red, Green, NIR, and Blue band GeoTIFF files\n",
        "    with rasterio.open(ndvi_file) as ndvi_src, rasterio.open(rpgi_file) as rpgi_src, rasterio.open(albedo_file) as albedo_src:\n",
        "        # Read the NDVI, RPGI, and Albedo bands\n",
        "        ndvi_band = ndvi_src.read(1)\n",
        "        rpgi_band = rpgi_src.read(1)\n",
        "        albedo_band = albedo_src.read(1)\n",
        "\n",
        "        # Create a new GeoTIFF file with multiple bands\n",
        "        with rasterio.open(\n",
        "            output_file,\n",
        "            'w',\n",
        "            driver='GTiff',\n",
        "            width=ndvi_src.width,\n",
        "            height=ndvi_src.height,\n",
        "            count=3,  # Set the count to the number of input bands (NDVI, RPGI, Albedo)\n",
        "            dtype=ndvi_band.dtype,  # Use the data type of the input bands\n",
        "            crs=ndvi_src.crs,\n",
        "            transform=ndvi_src.transform\n",
        "        ) as dst:\n",
        "            # Write each band to the output GeoTIFF\n",
        "            dst.write(ndvi_band, 1)\n",
        "            dst.write(rpgi_band, 2)\n",
        "            dst.write(albedo_band, 3)"
      ],
      "metadata": {
        "id": "reeXeIoUfSEf"
      },
      "execution_count": 14,
      "outputs": []
    },
    {
      "cell_type": "markdown",
      "source": [
        "## TIFF files"
      ],
      "metadata": {
        "id": "RmiJthx57LWp"
      }
    },
    {
      "cell_type": "markdown",
      "source": [
        "### Displat tiff unique values"
      ],
      "metadata": {
        "id": "1lk-9f4A-468"
      }
    },
    {
      "cell_type": "code",
      "source": [
        "# Display unique values and their datatype in a tif file. output is a list of unique values, datatype and a numpy array\n",
        "def display_unique_values_tiff_file (input_file):\n",
        "  # Open the TIFF file\n",
        "  with rasterio.open(input_file, 'r') as src:\n",
        "      # Read the data as a NumPy array\n",
        "      tiff_array = src.read(1)  # Assuming it's a single-band TIFF\n",
        "\n",
        "      # Find unique values in the NumPy array\n",
        "      unique_values = np.unique(tiff_array)\n",
        "\n",
        "      # Get the data type of the TIFF file\n",
        "      data_type = src.dtypes[0]\n",
        "\n",
        "  # Display the data type\n",
        "  print(f\"Data Type: {data_type}\")\n",
        "\n",
        "  # Display the unique values\n",
        "  print(\"Unique Values:\")\n",
        "  for value in unique_values:\n",
        "      print(value)\n",
        "\n",
        "  # Print the data in the NumPy array\n",
        "  print(tiff_array)"
      ],
      "metadata": {
        "id": "IvDBToyEE_YW"
      },
      "execution_count": 15,
      "outputs": []
    },
    {
      "cell_type": "markdown",
      "source": [
        "### Convert NODATA values"
      ],
      "metadata": {
        "id": "Ttaj0YNE_MOU"
      }
    },
    {
      "cell_type": "code",
      "source": [
        "# Replace NODATA values with 0 in a tiff file and convert the datatype. this function requires the the value assigned to nodata values\n",
        "def convert_nodata_values (nodata_value, input_file,output_file):\n",
        "  # Open the input TIFF file\n",
        "  with rasterio.open(input_file, 'r') as src:\n",
        "      # Read the data as a NumPy array\n",
        "      data = src.read(1)\n",
        "\n",
        "      # Replace NoData values with 0\n",
        "      data[data == nodata_value] = 0\n",
        "\n",
        "      # Create a new TIFF file for writing\n",
        "      with rasterio.open(\n",
        "          output_file,\n",
        "          'w',\n",
        "          driver='GTiff',\n",
        "          width=src.width,\n",
        "          height=src.height,\n",
        "          count=1,\n",
        "          dtype=rasterio.uint8,  # Adjust data type as needed\n",
        "          crs=src.crs,\n",
        "          transform=src.transform,\n",
        "      ) as dst:\n",
        "          # Write the modified data to the new TIFF file\n",
        "          dst.write(data, 1)\n",
        "\n",
        "  print(f\"NoData values converted to 0\")\n"
      ],
      "metadata": {
        "id": "u8JagWb4GByG"
      },
      "execution_count": 16,
      "outputs": []
    },
    {
      "cell_type": "markdown",
      "source": [
        "### Display"
      ],
      "metadata": {
        "id": "95FDllle_X2L"
      }
    },
    {
      "cell_type": "code",
      "source": [
        "# Display a TIFF file. input should be a tiff file\n",
        "def display_tiff_file (input_file):\n",
        "  # Load and display the TIFF image\n",
        "  img = mpimg.imread(input_file)\n",
        "  plt.imshow(img, cmap='gray')  # Use 'gray' colormap for binary images\n",
        "  plt.axis('off')  # Turn off axis labels and ticks\n",
        "  plt.show()\n"
      ],
      "metadata": {
        "id": "mF5nLWJnB1Im"
      },
      "execution_count": 17,
      "outputs": []
    },
    {
      "cell_type": "markdown",
      "source": [
        "## PNG images"
      ],
      "metadata": {
        "id": "OlPuhGPH7wWd"
      }
    },
    {
      "cell_type": "markdown",
      "source": [
        "### check size, len, shape and datatype of numpy array"
      ],
      "metadata": {
        "id": "6xh9Q8XC-pVe"
      }
    },
    {
      "cell_type": "code",
      "source": [
        "def check_size_len_datatype_array (input_file):\n",
        "  # Create a sample NumPy array\n",
        "  arr = np.array(Image.open(input_file))\n",
        "  # Check the size\n",
        "  array_size = arr.size\n",
        "  print(f\"Size of the array: {array_size}\")\n",
        "  # Check the length (for 2D arrays, this is the number of rows)\n",
        "  array_length = len(arr)\n",
        "  print(f\"Length of the array: {array_length}\")\n",
        "  # Shape\n",
        "  array_shape = arr.shape\n",
        "  print(\"Shape:\", array_shape)\n",
        "  # Check the data type\n",
        "  array_dtype = arr.dtype\n",
        "  print(f\"Data type of the array: {array_dtype}\")"
      ],
      "metadata": {
        "id": "PSF_hcqA9ajA"
      },
      "execution_count": 18,
      "outputs": []
    },
    {
      "cell_type": "markdown",
      "source": [
        "### Convert pixel values"
      ],
      "metadata": {
        "id": "EpufqbBs-uo2"
      }
    },
    {
      "cell_type": "code",
      "source": [
        "# function to replace a pixel value in a PNG image. the output is another PNG with the changes pixelvalues\n",
        "def convert_values_png (input_file, output_file, pixelvalue):\n",
        "  image = Image.open(input_file)\n",
        "  # Convert the image to grayscale (optional, depending on your input)\n",
        "  image = image.convert('L')\n",
        "  # Create a new image to store the modified pixels\n",
        "  new_image = Image.new('L', image.size)\n",
        "  # Iterate over the pixels and replace 255 with 1, leaving other values as 0\n",
        "  for x in range(image.width):\n",
        "      for y in range(image.height):\n",
        "          pixel_value = image.getpixel((x, y))\n",
        "          if pixel_value == pixelvalue:\n",
        "              new_image.putpixel((x, y), 1)\n",
        "          else:\n",
        "              new_image.putpixel((x, y), 0)\n",
        "  # Save the modified image\n",
        "  new_image.save(output_file)\n",
        "  print(\"Image processing complete. Saved as\", output_file)"
      ],
      "metadata": {
        "id": "-CUdRsa8OiEY"
      },
      "execution_count": 19,
      "outputs": []
    },
    {
      "cell_type": "markdown",
      "source": [
        "### Display unique values and datatype"
      ],
      "metadata": {
        "id": "biPxYOay_EMf"
      }
    },
    {
      "cell_type": "code",
      "source": [
        "# Display unique values and their datatype in a PNG image. output is a list of unique values, datatype and a numpy array\n",
        "def display_unique_values_and_datatype(input_file):\n",
        "    # Open the PNG image\n",
        "    img = Image.open(input_file)\n",
        "\n",
        "    # Convert the image to a NumPy array\n",
        "    png_array = np.array(img)\n",
        "\n",
        "    # Find unique values in the NumPy array\n",
        "    unique_values = np.unique(png_array)\n",
        "\n",
        "    # Get the data type of the PNG image\n",
        "    data_type = png_array.dtype\n",
        "\n",
        "    # Display the data type\n",
        "    print(f\"Data Type: {data_type}\")\n",
        "\n",
        "    # Display the unique values\n",
        "    print(\"Unique Values:\")\n",
        "    for value in unique_values:\n",
        "        print(value)\n",
        "\n",
        "    # Print the data in the NumPy array\n",
        "    print(png_array)"
      ],
      "metadata": {
        "id": "uyc-QiWU-mrT"
      },
      "execution_count": 20,
      "outputs": []
    },
    {
      "cell_type": "markdown",
      "source": [
        "### Display"
      ],
      "metadata": {
        "id": "M1Upz-ZOFxwl"
      }
    },
    {
      "cell_type": "code",
      "source": [
        "def display_png (input_file):\n",
        "  # Open the PNG image\n",
        "  image = Image.open(input_file)\n",
        "\n",
        "  # Display the image using Matplotlib\n",
        "  plt.imshow(image)\n",
        "  plt.axis('off')  # Turn off axis labels and ticks\n",
        "  plt.show()"
      ],
      "metadata": {
        "id": "JlLlzmYUFXd1"
      },
      "execution_count": 21,
      "outputs": []
    },
    {
      "cell_type": "markdown",
      "source": [
        "## Clip and rescale tiff files"
      ],
      "metadata": {
        "id": "NHhfZu8j7Seq"
      }
    },
    {
      "cell_type": "code",
      "source": [
        "# Function to clip and rescale tif files and save png images in a folder\n",
        "# Input files are tiff files with 1 or 3 bands, output_folder is the folder where the png images are going to be stored. Nrows and Ncols are defined above\n",
        "def clip_raster_and_rescale(input_file, output_folder, Nrows, Ncols):\n",
        "    with rasterio.open(input_file) as src:\n",
        "        height = src.height // Nrows\n",
        "        width = src.width // Ncols\n",
        "        Nbands = src.count  # Get the number of bands in the input file\n",
        "\n",
        "        for i in range(Nrows):\n",
        "            for j in range(Ncols):\n",
        "                ymin = i * height\n",
        "                ymax = (i + 1) * height\n",
        "                xmin = j * width\n",
        "                xmax = (j + 1) * width\n",
        "                window = Window.from_slices((ymin, ymax), (xmin, xmax))\n",
        "\n",
        "                if Nbands == 1:\n",
        "                    clipped_data = src.read(window=window)\n",
        "                    clipped_meta = src.meta.copy()\n",
        "                    clipped_meta.update({\n",
        "                        'height': window.height,\n",
        "                        'width': window.width,\n",
        "                        'transform': src.window_transform(window)\n",
        "                })\n",
        "                    output_file = os.path.join(output_folder, f'image_{i}_{j}_mask.png')\n",
        "                    with rasterio.open(output_file, 'w', **clipped_meta) as dst:\n",
        "                        dst.write(clipped_data)\n",
        "                elif Nbands == 3:\n",
        "                    clipped_data_1 = rescale_to_8bits(src.read(1, window=window))\n",
        "                    clipped_data_2 = rescale_to_8bits(src.read(2, window=window))\n",
        "                    clipped_data_3 = rescale_to_8bits(src.read(3, window=window))\n",
        "                    rgb_image = np.stack([clipped_data_1, clipped_data_2, clipped_data_3], axis=2)\n",
        "                    image = Image.fromarray(rgb_image, mode='RGB')\n",
        "                    output_file = os.path.join(output_folder, f'image_{i}_{j}.png')\n",
        "                    image.save(output_file)\n",
        "                else:\n",
        "                    raise ValueError(\"Input file must have 1 or 3 bands.\")\n",
        "\n",
        "        return height, width"
      ],
      "metadata": {
        "id": "be_Oxa60Y6Nh"
      },
      "execution_count": 22,
      "outputs": []
    },
    {
      "cell_type": "code",
      "source": [
        "# Function to rescale an RGB tif to 8 bits\n",
        "def rescale_to_8bits(arr):\n",
        "    arr_std = (arr - np.min(arr)) / (np.max(arr) - np.min(arr)) * 255\n",
        "    arr_std = arr_std.astype(np.uint8)\n",
        "    return arr_std"
      ],
      "metadata": {
        "id": "F1AifCWFg2DF"
      },
      "execution_count": 23,
      "outputs": []
    },
    {
      "cell_type": "code",
      "source": [
        "# Define the function to extract the row and column number from image file name\n",
        "def get_row_column_from_filename(filename):\n",
        "    filename = os.path.basename(filename)\n",
        "    parts = filename.split('_')\n",
        "    row = int(parts[1])\n",
        "    column = int(parts[2].split('.')[0])\n",
        "    return row, column"
      ],
      "metadata": {
        "id": "vZl3fLcu4jCz"
      },
      "execution_count": 24,
      "outputs": []
    },
    {
      "cell_type": "code",
      "source": [
        "# Get the clipped blocks from a image_folder\n",
        "def get_items(image_folder):\n",
        "    image_files = get_image_files(image_folder)\n",
        "    return image_files\n",
        "\n",
        "def get_mask_fn(image_file):\n",
        "    #return mask_folder / f'{image_file.stem}_mask.png'\n",
        "    return os.path.join(label_folder, f'{image_file.stem}_mask.png')"
      ],
      "metadata": {
        "id": "8nGEV9Zo4mef"
      },
      "execution_count": 25,
      "outputs": []
    },
    {
      "cell_type": "code",
      "source": [
        "# Display sample of predictions\n",
        "def sample_preds (preds, sample_idx):\n",
        "  # Display sample predictions\n",
        "  #sample_idx = 0\n",
        "  sample_image_path = list(test_dl.items)[sample_idx]\n",
        "  sample_image = PILImage.create(sample_image_path)\n",
        "  sample_pred = preds[0][sample_idx].argmax(dim=0).numpy()\n",
        "\n",
        "  sample_image.show()\n",
        "  TensorImage(sample_pred).show(cmap='tab20')"
      ],
      "metadata": {
        "id": "vXu1149ntv_E"
      },
      "execution_count": 26,
      "outputs": []
    },
    {
      "cell_type": "markdown",
      "source": [
        "## Save and merge blocks"
      ],
      "metadata": {
        "id": "euU7smUL7gK7"
      }
    },
    {
      "cell_type": "code",
      "source": [
        "# Create predicted mask for each of the blocks\n",
        "# Save the predicted mask images (png) according to their row and column number\n",
        "def create_predited_mask(image_folder,learn,predicted_folder):\n",
        "  test_dl = dls.test_dl(get_image_files(image_folder)) # usa todas as 160 imagens em image_folder, treino e validação\n",
        "  preds = learn.get_preds(dl=test_dl)[0]\n",
        "  for idx, pred in enumerate(preds):\n",
        "      # Get the row and column number from the test image file name\n",
        "      sample_image_path = list(test_dl.items)[idx]\n",
        "      row, column = get_row_column_from_filename(sample_image_path)\n",
        "\n",
        "      # Create a folder for each row if it doesn't exist\n",
        "      folder = os.path.join(predicted_folder)\n",
        "      os.makedirs(folder, exist_ok=True)\n",
        "\n",
        "      # Create a filename for the predicted mask image\n",
        "      predicted_filename = f'image_{row}_{column}_predicted.png'\n",
        "      predicted_filepath = os.path.join(folder, predicted_filename)\n",
        "\n",
        "      # Convert the predicted mask to a PIL Image\n",
        "      sample_pred = pred.argmax(dim=0).numpy()\n",
        "      predicted_image = Image.fromarray((sample_pred * 255).astype(np.uint8))\n",
        "\n",
        "      # Save the predicted mask image\n",
        "      predicted_image.save(predicted_filepath)"
      ],
      "metadata": {
        "id": "uzDnSpT_Ypc5"
      },
      "execution_count": 27,
      "outputs": []
    },
    {
      "cell_type": "code",
      "source": [
        "# Count the number of bands in a PNG image\n",
        "def count_bands(image_file):\n",
        "    with Image.open(image_file) as img:\n",
        "        return img.mode"
      ],
      "metadata": {
        "id": "WWgdmb4HbRXn"
      },
      "execution_count": 28,
      "outputs": []
    },
    {
      "cell_type": "code",
      "source": [
        "# Function to put together the clipped blocks from images, labels and predicted folder. output is a PNG image\n",
        "def merge_blocks(input_folder, folder_name, output_filename, Nrows, Ncols, width, height):\n",
        "  if folder_name == 'labels':\n",
        "    # Count the number of bands in the first image to determine the mode\n",
        "    sample_image = os.path.join(input_folder, f'image_0_0_mask.png')\n",
        "    Nbands = len(count_bands(sample_image))\n",
        "  elif folder_name == 'predicted':\n",
        "    sample_image = os.path.join(input_folder, f'image_0_0_predicted.png')\n",
        "    Nbands = len(count_bands(sample_image))\n",
        "  elif folder_name == 'images':\n",
        "    sample_image = os.path.join(input_folder, f'image_0_0.png')\n",
        "    Nbands = len(count_bands(sample_image))\n",
        "\n",
        "  rows, columns = Nrows, Ncols  # Number of rows and columns in the grid\n",
        "  merged_width = width * columns\n",
        "  merged_height = height * rows\n",
        "\n",
        "  if Nbands == 1:\n",
        "      merged_image = Image.new('L', (merged_width, merged_height))  # Use 'L' mode for grayscale images\n",
        "  elif Nbands == 3:\n",
        "      merged_image = Image.new('RGB', (merged_width, merged_height))\n",
        "  else:\n",
        "      raise ValueError(\"Input must have 1 or 3 bands.\")\n",
        "\n",
        "  # Loop through each row and column to merge the images\n",
        "  for i in range(rows):\n",
        "      for j in range(columns):\n",
        "          if folder_name == 'labels':\n",
        "              # Load the label mask image and paste it as is (no conversion needed)\n",
        "              label_file = os.path.join(input_folder, f'image_{i}_{j}_mask.png')\n",
        "              label_image = Image.open(label_file)\n",
        "              merged_image.paste(label_image, (j * width, i * height))\n",
        "          elif folder_name == 'predicted':\n",
        "              # Load the predicted mask image\n",
        "              predicted_file = os.path.join(input_folder, f'image_{i}_{j}_predicted.png')\n",
        "              #predicted_file = os.path.join(input_folder, f'image_{i}_{j}.png')\n",
        "              predicted_image = Image.open(predicted_file)\n",
        "              merged_image.paste(predicted_image, (j * width, i * height))\n",
        "          elif folder_name == 'images':\n",
        "              # Load the predicted mask image\n",
        "              image_file = os.path.join(input_folder, f'image_{i}_{j}.png')\n",
        "              image = Image.open(image_file)\n",
        "              merged_image.paste(image, (j * width, i * height))\n",
        "\n",
        "  # Save the merged image\n",
        "  merged_output_file = os.path.join(directory, output_filename)\n",
        "  merged_image.save(merged_output_file)"
      ],
      "metadata": {
        "id": "041Yk6FubXAj"
      },
      "execution_count": 29,
      "outputs": []
    },
    {
      "cell_type": "markdown",
      "source": [
        "## Display errors and examples"
      ],
      "metadata": {
        "id": "Nfb7vwnL7nDN"
      }
    },
    {
      "cell_type": "code",
      "source": [
        "# Calculate pixel-wise errors and store them in a dictionary\n",
        "# uses the test dataset, and displays the top 5 images where the error is higher (image and respective label, predicted label, and difference between them)\n",
        "def pixel_wise_errors (test_file_names, label_folder, predicted_folder, image_folder):\n",
        "  errors = {}\n",
        "  for file_name in test_file_names:\n",
        "      # Load the ground truth mask for the sample from the \"labels\" folder\n",
        "      row, column = get_row_column_from_filename(file_name)\n",
        "      mask_file = os.path.join(label_folder, f'image_{row}_{column}_mask.png')\n",
        "      true_mask = np.array(Image.open(mask_file))\n",
        "\n",
        "      # Load the predicted mask for the sample from the \"predicted\" folder\n",
        "      predicted_file = os.path.join(predicted_folder, f'image_{row}_{column}_predicted.png')\n",
        "      pred_mask = np.array(Image.open(predicted_file))\n",
        "\n",
        "      # Calculate the pixel-wise error between the true mask and predicted mask\n",
        "      error = np.sum(np.abs(true_mask - pred_mask))\n",
        "      errors[file_name] = error\n",
        "\n",
        "  # Sort the blocks by error in descending order\n",
        "  sorted_errors = {k: v for k, v in sorted(errors.items(), key=lambda item: item[1], reverse=True)}\n",
        "\n",
        "  # Get the file names of the blocks with the highest errors\n",
        "  top_5_blocks = list(sorted_errors.keys())[:5]\n",
        "\n",
        "  # Display the top 5 blocks with the highest errors\n",
        "  num_columns = 4\n",
        "\n",
        "  fig, axes = plt.subplots(len(top_5_blocks), num_columns, figsize=(20, 5 * len(top_5_blocks)))\n",
        "\n",
        "  for i, file_name in enumerate(top_5_blocks):\n",
        "      sample_image_path = os.path.join(image_folder, file_name)\n",
        "      sample_image = PILImage.create(sample_image_path)\n",
        "\n",
        "      # Load the ground truth mask for the sample from the \"labels1\" folder\n",
        "      row, column = get_row_column_from_filename(file_name)\n",
        "      mask_file = os.path.join(label_folder, f'image_{row}_{column}_mask.png')\n",
        "      true_mask = np.array(Image.open(mask_file))\n",
        "\n",
        "      # Load the predicted mask for the sample from the \"predicted\" folder\n",
        "      predicted_file = os.path.join(predicted_folder, f'image_{row}_{column}_predicted.png')\n",
        "      pred_mask = np.array(Image.open(predicted_file))\n",
        "\n",
        "      # Display the satellite aggregate image with file name as title\n",
        "      axes[i, 0].imshow(sample_image)\n",
        "      # Add the line below to set the title\n",
        "      axes[i, 0].set_title(str(file_name) + \" (Error: \" + str(errors[file_name]) + \")\")\n",
        "      #axes[i, 0].set_title(file_name + \" (Error: \" + str(errors[file_name]) + \")\")\n",
        "      axes[i, 0].axis('off')\n",
        "\n",
        "      # Display the true mask\n",
        "      axes[i, 1].imshow(true_mask, cmap='gray')\n",
        "      axes[i, 1].set_title('True Mask')\n",
        "      axes[i, 1].axis('off')\n",
        "\n",
        "      # Display the predicted mask\n",
        "      axes[i, 2].imshow(pred_mask, cmap='tab20')\n",
        "      axes[i, 2].set_title('Predicted Mask')\n",
        "      axes[i, 2].axis('off')\n",
        "\n",
        "      # Display the difference between true and predicted masks\n",
        "      difference_mask = true_mask - pred_mask\n",
        "      axes[i, 3].imshow(difference_mask, cmap='coolwarm', vmin=-1, vmax=1)\n",
        "      axes[i, 3].set_title('Difference')\n",
        "      axes[i, 3].axis('off')\n",
        "\n",
        "  plt.tight_layout()\n",
        "  plt.show()"
      ],
      "metadata": {
        "id": "nZ7OeLALFd3Z"
      },
      "execution_count": 30,
      "outputs": []
    },
    {
      "cell_type": "code",
      "source": [
        "# Displays 6 examples of images and their respective labels and predicted labels\n",
        "def display_images(directory, image_folder, label_folder, predicted_folder, preds):\n",
        "    preds = learn.get_preds(dl=dls.valid)[0]\n",
        "    # Display sample predictions using file names of test_set\n",
        "    sample_files = [Path(file_path).name for file_path in test_file_names]\n",
        "\n",
        "    # Slice the sample_files list to include only the first 6 samples\n",
        "    sample_files = sample_files[:6]\n",
        "\n",
        "    # Define the number of columns (including both true and predicted masks)\n",
        "    num_columns = 3\n",
        "\n",
        "    fig, axes = plt.subplots(len(sample_files), num_columns, figsize=(15, 5 * len(sample_files)))\n",
        "\n",
        "    for i, file_name in enumerate(sample_files):\n",
        "        sample_image_path = os.path.join(image_folder, file_name)\n",
        "        sample_image = PILImage.create(sample_image_path)\n",
        "        sample_pred = preds[i].argmax(dim=0).numpy()\n",
        "\n",
        "        # Load the ground truth mask for the sample from the \"labels\" folder\n",
        "        row, column = get_row_column_from_filename(file_name)\n",
        "        mask_file = os.path.join(label_folder, f'image_{row}_{column}_mask.png')\n",
        "        true_mask = np.array(Image.open(mask_file))\n",
        "\n",
        "        # Load the predicted mask for the sample from the \"predicted\" folder\n",
        "        predicted_file = os.path.join(predicted_folder, f'image_{row}_{column}_predicted.png')\n",
        "        pred_mask = np.array(Image.open(predicted_file))\n",
        "\n",
        "        # image of satellite aggregate\n",
        "        axes[i, 0].imshow(sample_image)\n",
        "        axes[i, 0].set_title('Image')\n",
        "        axes[i, 0].axis('off')\n",
        "\n",
        "        # image of true mask\n",
        "        axes[i, 1].imshow(true_mask, cmap='gray')\n",
        "        axes[i, 1].set_title(file_name + \" True mask\")\n",
        "        axes[i, 1].axis('off')\n",
        "\n",
        "        # image of predicted mask\n",
        "        axes[i, 2].imshow(pred_mask, cmap='tab20')\n",
        "        axes[i, 2].set_title(file_name + \" Predicted mask\")\n",
        "        axes[i, 2].axis('off')\n",
        "\n",
        "    plt.tight_layout()\n",
        "    plt.show()\n"
      ],
      "metadata": {
        "id": "0oYnc5oM5wsP"
      },
      "execution_count": 31,
      "outputs": []
    },
    {
      "cell_type": "markdown",
      "source": [
        "## Model accuracy"
      ],
      "metadata": {
        "id": "iQ_vaMXL715X"
      }
    },
    {
      "cell_type": "code",
      "source": [
        "#Converts the true and predicted mask to flat arrays. These will be used to calculate the confusion matrix\n",
        "def true_and_pred_mask_to_1D_numpy (dls, preds):\n",
        "  true_masks = [y for _, y in dls.valid] # Get the ground truth masks for the test set\n",
        "  true_masks = torch.cat(true_masks).cpu().numpy() # Convert the list of true masks to a numpy array\n",
        "  true_masks_flat = true_masks.ravel() # Flatten the masks to be 1D arrays\n",
        "  predicted_masks = preds.argmax(dim=1).numpy() # Convert the predicted masks to a numpy array\n",
        "  predicted_masks_flat = predicted_masks.ravel() # Flatten the masks to be 1D arrays\n",
        "  return true_masks_flat, predicted_masks_flat"
      ],
      "metadata": {
        "id": "G6nx-R7XxTr8"
      },
      "execution_count": 32,
      "outputs": []
    },
    {
      "cell_type": "code",
      "source": [
        "# Calculate model accuracy on test dataset\n",
        "def model_accuracy(true_masks_flat, predicted_masks_flat):\n",
        "    # Calculate the total number of pixels\n",
        "    total_pixels = len(true_masks_flat)\n",
        "\n",
        "    # Calculate the number of correctly predicted pixels (True Positives + True Negatives)\n",
        "    correct_pixels = np.sum(true_masks_flat == predicted_masks_flat)\n",
        "\n",
        "    # Calculate the model accuracy\n",
        "    accuracy = correct_pixels / total_pixels\n",
        "\n",
        "    return accuracy"
      ],
      "metadata": {
        "id": "wfNAskwSLdP-"
      },
      "execution_count": 33,
      "outputs": []
    },
    {
      "cell_type": "markdown",
      "source": [
        "## Comission Omission Errors"
      ],
      "metadata": {
        "id": "PeyhrbTm4y53"
      }
    },
    {
      "cell_type": "code",
      "source": [
        "# Calculate, store and display the comission and omission errors based on the ground_truth_mask and predicted_mask\n",
        "def comission_omission_errors(ground_truth_mask, predicted_mask, output_folder, output_filename):\n",
        "    ground_truth_mask = np.array(Image.open(ground_truth_mask))\n",
        "    predicted_mask = np.array(Image.open(predicted_mask))\n",
        "    commission_errors = (predicted_mask == 1) & (ground_truth_mask == 0) #false positive\n",
        "    omission_errors = (predicted_mask == 0) & (ground_truth_mask == 1) #false negative\n",
        "    correct_identifications = (predicted_mask ==0) & (ground_truth_mask == 0)\n",
        "    correct_identifications_1 = (predicted_mask ==1) & (ground_truth_mask == 1)\n",
        "    merged_image = np.zeros((ground_truth_mask.shape[0], ground_truth_mask.shape[1], 3), dtype=np.uint8)\n",
        "\n",
        "    merged_image[correct_identifications_1] = [0, 255, 0]  # Green color\n",
        "    merged_image[commission_errors] = [255, 255, 0]  # Yellow color\n",
        "    merged_image[omission_errors] = [255, 0, 0]  # Red color\n",
        "    merged_image[correct_identifications] = [0, 0, 0] #black color\n",
        "\n",
        "    # Display the merged image\n",
        "    plt.figure(figsize=(8, 6))\n",
        "    plt.imshow(merged_image)\n",
        "    plt.axis('off')\n",
        "    plt.title('Merged Image with Correct Identifications (Green), Commission (Yellow), and Omission (Red) Errors')\n",
        "    plt.show()\n",
        "\n",
        "    # Save the merged image as a PNG\n",
        "    merged_output_file = os.path.join(output_folder, output_filename)\n",
        "    plt.imsave(merged_output_file, merged_image)"
      ],
      "metadata": {
        "id": "bBdaZdAfGVKV"
      },
      "execution_count": 34,
      "outputs": []
    },
    {
      "cell_type": "markdown",
      "source": [
        "## K-fold Cross Validation"
      ],
      "metadata": {
        "id": "WtMkSoBz4r0a"
      }
    },
    {
      "cell_type": "code",
      "source": [
        "# K-fold Cross validation\n",
        "# This functions trains the model for the different folders using different test dataset\n",
        "# Calculates the confusion matrix for each folder and the average accuracy model and confusion matrix\n",
        "\"\"\"\n",
        "Inputs:\n",
        "- num_folds\n",
        "- N_epochs\n",
        "Output: PNG predicted labels for each fold in folders named 'predicted_fold_{fold_idx + 1}', in the directory, and merged PNG image per fold\n",
        "\"\"\"\n",
        "\n",
        "import numpy as np\n",
        "from sklearn.metrics import confusion_matrix\n",
        "import matplotlib.pyplot as plt\n",
        "\n",
        "def kfold_validation (num_folds, N_epochs):\n",
        "\n",
        "  # Create a K-Fold splitter\n",
        "  kf = KFold(n_splits=num_folds, shuffle=True, random_state=42)\n",
        "\n",
        "  # Initialize a list to store predicted arrays for each fold\n",
        "  predicted_arrays_list = []\n",
        "\n",
        "  # Initialize a list to store contingency matrices for each fold\n",
        "  contingency_matrices = []\n",
        "\n",
        "  # Get items from image folder\n",
        "  items = get_items(image_folder)\n",
        "\n",
        "  # Define a function to train and evaluate the model for each fold\n",
        "  def train_and_evaluate_fold(fold_idx, train_idx, valid_idx):\n",
        "      # Create DataBlock for this fold\n",
        "      dblock_fold = DataBlock(blocks=(ImageBlock, MaskBlock(target_names)),\n",
        "                              get_items=get_items,\n",
        "                              get_y=get_mask_fn,\n",
        "                              splitter=IndexSplitter(valid_idx))\n",
        "\n",
        "      # Create DataLoaders for this fold\n",
        "      dls_fold = dblock_fold.dataloaders(image_folder, bs=8)\n",
        "\n",
        "      # Create a U-Net model for this fold\n",
        "      learn_fold = unet_learner(dls_fold, resnet34)\n",
        "\n",
        "      # Fine-tune the model for this fold\n",
        "      learn_fold.fine_tune(N_epochs)\n",
        "\n",
        "      # Perform inference on the validation set\n",
        "      preds, _ = learn_fold.get_preds(dl=dls_fold.valid)\n",
        "\n",
        "      # Calculate the confusion matrix for the validation set\n",
        "      true_masks_flat, predicted_masks_flat = true_and_pred_mask_to_1D_numpy(dls_fold, preds)\n",
        "      conf_matrix = confusion_matrix(true_masks_flat, predicted_masks_flat)\n",
        "      # Print the confusion matrix for this fold\n",
        "      print(f\"Confusion Matrix for Fold {fold_idx + 1}:\")\n",
        "      print(conf_matrix)\n",
        "\n",
        "      # Store the predicted array and confusion matrix for this fold\n",
        "      predicted_arrays_list.append(predicted_masks_flat)\n",
        "      contingency_matrices.append(conf_matrix)\n",
        "\n",
        "      # Save predicted mask for each folder\n",
        "      test_dl = dls_fold.test_dl(get_image_files(image_folder)) # usa todas as 160 imagens em image_folder, treino e validação\n",
        "      preds = learn_fold.get_preds(dl=test_dl)[0]\n",
        "      for idx, pred in enumerate(preds):\n",
        "          # Get the row and column number from the test image file name\n",
        "          sample_image_path = list(test_dl.items)[idx]\n",
        "          row, column = get_row_column_from_filename(sample_image_path)\n",
        "\n",
        "          # Create a folder for each row if it doesn't exist\n",
        "          folder = os.path.join(directory, f'predicted_fold_{fold_idx + 1}')\n",
        "          os.makedirs(folder, exist_ok=True)\n",
        "\n",
        "          # Create a filename for the predicted mask image\n",
        "          predicted_filename = f'image_{row}_{column}_predicted_{fold_idx + 1}.png'\n",
        "          predicted_filepath = os.path.join(folder, predicted_filename)\n",
        "\n",
        "          # Convert the predicted mask to a PIL Image\n",
        "          sample_pred = pred.argmax(dim=0).numpy()\n",
        "          predicted_image = Image.fromarray((sample_pred * 255).astype(np.uint8))\n",
        "\n",
        "          # Save the predicted mask image\n",
        "          predicted_image.save(predicted_filepath)\n",
        "\n",
        "      # Merge saved predicted labels\n",
        "      rows, columns = Nrows, Ncols\n",
        "      merged_width = width * columns\n",
        "      merged_height = height * rows\n",
        "      folder_name = f'predicted_fold_{fold_idx + 1}'\n",
        "      merged_image = Image.new('L', (merged_width, merged_height))\n",
        "      # Loop through each row and column to merge the predicted images\n",
        "      for i in range(rows):\n",
        "          for j in range(columns):\n",
        "              predicted_file = os.path.join(directory, folder_name, f'image_{i}_{j}_predicted_{fold_idx + 1}.png')\n",
        "              predicted_image = Image.open(predicted_file)\n",
        "              merged_image.paste(predicted_image, (j * width, i * height))\n",
        "\n",
        "      # Save the merged predicted images\n",
        "      merged_filename = f'merged_predicted_labels_fold{fold_idx + 1}.png'\n",
        "      merged_filepath = os.path.join(directory, merged_filename)\n",
        "      merged_image.save(merged_filepath)\n",
        "\n",
        "  # Iterate over the folds\n",
        "  for fold_idx, (train_idx, valid_idx) in enumerate(kf.split(items)):\n",
        "      print(f\"Fold {fold_idx + 1} of {num_folds}\")\n",
        "      train_and_evaluate_fold(fold_idx, train_idx, valid_idx)\n",
        "\n",
        "  # Calculate and print the average confusion matrix over all folds\n",
        "  average_confusion_matrix = np.mean(contingency_matrices, axis=0)\n",
        "  print(\"Average Confusion Matrix:\")\n",
        "  print(average_confusion_matrix)\n",
        "\n",
        "  #return predicted_arrays_list, contingency_matrices"
      ],
      "metadata": {
        "id": "16-iQcIrhut7"
      },
      "execution_count": 56,
      "outputs": []
    },
    {
      "cell_type": "markdown",
      "source": [
        "## Common pixel"
      ],
      "metadata": {
        "id": "LHD9R8dTGQzG"
      }
    },
    {
      "cell_type": "code",
      "source": [
        "def most_common_pixel ():\n",
        "    # Load your 5 numpy arrays representing images (replace these with your data)\n",
        "    arr1 = np.array(Image.open(os.path.join(directory, 'merged_predicted_labels_fold1.png')))\n",
        "    arr2 = np.array(Image.open(os.path.join(directory, 'merged_predicted_labels_fold2.png')))\n",
        "    arr3 = np.array(Image.open(os.path.join(directory, 'merged_predicted_labels_fold3.png')))\n",
        "    arr4 = np.array(Image.open(os.path.join(directory, 'merged_predicted_labels_fold4.png')))\n",
        "    arr5 = np.array(Image.open(os.path.join(directory, 'merged_predicted_labels_fold5.png')))\n",
        "\n",
        "    # Stack the arrays together along a new axis (3D array)\n",
        "    stacked_arr = np.stack([arr1, arr2, arr3, arr4, arr5], axis=2)\n",
        "\n",
        "    # Calculate the mode pixel value along the third axis (channel axis)\n",
        "    # This will return a 2D array containing the most common pixel value for each pixel location.\n",
        "    common_pixel = np.apply_along_axis(lambda x: np.argmax(np.bincount(x)), axis=2, arr=stacked_arr)\n",
        "    #print(common_pixel)\n",
        "    # from array to PNG\n",
        "    image = Image.fromarray(common_pixel.astype(np.uint8))\n",
        "\n",
        "    # Save the Pillow image as a PNG file\n",
        "    image.save(os.path.join(directory, 'common_pixel.png'))"
      ],
      "metadata": {
        "id": "E4MMxUGo6abB"
      },
      "execution_count": 65,
      "outputs": []
    },
    {
      "cell_type": "markdown",
      "source": [
        "# **Main Execution**"
      ],
      "metadata": {
        "id": "-mtbNEyy13EK"
      }
    },
    {
      "cell_type": "markdown",
      "source": [
        "## **Images Pre-processing** Sentinel 2A"
      ],
      "metadata": {
        "id": "3cK-gDW-LPAE"
      }
    },
    {
      "cell_type": "markdown",
      "source": [
        "Get images from Google Earth Engine - B2, B3, B4 and B8"
      ],
      "metadata": {
        "id": "S5nkIid-DEHG"
      }
    },
    {
      "cell_type": "code",
      "source": [
        "pasta_drive=directory.split('/content/drive/MyDrive/')[1]"
      ],
      "metadata": {
        "id": "zU9GXrcdX87x"
      },
      "execution_count": 37,
      "outputs": []
    },
    {
      "cell_type": "code",
      "source": [
        "gee_images((-8.793267, -8.7410763, 37.4473346, 37.553255), '2022-07-20', '2022-07-25', 'B2', pasta_drive)\n",
        "gee_images((-8.793267, -8.7410763, 37.4473346, 37.553255), '2022-07-20', '2022-07-25', 'B3', pasta_drive)\n",
        "gee_images((-8.793267, -8.7410763, 37.4473346, 37.553255), '2022-07-20', '2022-07-25', 'B4', pasta_drive)\n",
        "gee_images((-8.793267, -8.7410763, 37.4473346, 37.553255), '2022-07-20', '2022-07-25', 'B8', pasta_drive)"
      ],
      "metadata": {
        "id": "z3O-JwA1DoGt"
      },
      "execution_count": 88,
      "outputs": []
    },
    {
      "cell_type": "markdown",
      "source": [
        "### Clip and saturate tiff files"
      ],
      "metadata": {
        "id": "0MQinlXY96G2"
      }
    },
    {
      "cell_type": "markdown",
      "source": [
        "Clip all the bands to the same extent"
      ],
      "metadata": {
        "id": "xaLkRvI_9XhA"
      }
    },
    {
      "cell_type": "code",
      "source": [
        "clip_tiff_by_extent(os.path.join(directory, 'Sentinel2_B2_2022-07-23.tif'), os.path.join(directory, 'S2_B2_2022-07-23_clipped.tif'), (518260, 4144530, 522870, 4156270))\n",
        "clip_tiff_by_extent(os.path.join(directory, 'Sentinel2_B3_2022-07-23.tif'), os.path.join(directory, 'S2_B3_2022-07-23_clipped.tif'), (518260, 4144530, 522870, 4156270))\n",
        "clip_tiff_by_extent(os.path.join(directory, 'Sentinel2_B4_2022-07-23.tif'), os.path.join(directory, 'S2_B4_2022-07-23_clipped.tif'), (518260, 4144530, 522870, 4156270))\n",
        "clip_tiff_by_extent(os.path.join(directory, 'Sentinel2_B8_2022-07-23.tif'), os.path.join(directory, 'S2_B8_2022-07-23_clipped.tif'), (518260, 4144530, 522870, 4156270))"
      ],
      "metadata": {
        "id": "4zgUmSXp3HVx"
      },
      "execution_count": 41,
      "outputs": []
    },
    {
      "cell_type": "markdown",
      "source": [
        "Calculate bigmin and bigmax for each band and saturate accordingly"
      ],
      "metadata": {
        "id": "GzF9UtzxsESp"
      }
    },
    {
      "cell_type": "code",
      "source": [
        "satu_tiff(os.path.join(directory,'S2_B2_2022-07-23_clipped.tif'), os.path.join(directory, 'S2_B2_2022-07-23_saturated.tif'))\n",
        "satu_tiff(os.path.join(directory,'S2_B3_2022-07-23_clipped.tif'), os.path.join(directory, 'S2_B3_2022-07-23_saturated.tif'))\n",
        "satu_tiff(os.path.join(directory,'S2_B4_2022-07-23_clipped.tif'), os.path.join(directory, 'S2_B4_2022-07-23_saturated.tif'))\n",
        "satu_tiff(os.path.join(directory,'S2_B8_2022-07-23_clipped.tif'), os.path.join(directory, 'S2_B8_2022-07-23_saturated.tif'))"
      ],
      "metadata": {
        "id": "Gi-9ndlA4Lun"
      },
      "execution_count": 42,
      "outputs": []
    },
    {
      "cell_type": "markdown",
      "source": [
        "### Calculate indexes - NDVI, RPGI and albedo"
      ],
      "metadata": {
        "id": "fMJAO2ir9_dl"
      }
    },
    {
      "cell_type": "code",
      "source": [
        "# set the paths for the bands\n",
        "blue_file= os.path.join(directory,'S2_B2_2022-07-23_saturated.tif')\n",
        "green_file= os.path.join(directory,'S2_B3_2022-07-23_saturated.tif')\n",
        "red_file= os.path.join(directory,'S2_B4_2022-07-23_saturated.tif')\n",
        "nir_file= os.path.join(directory,'S2_B8_2022-07-23_saturated.tif')"
      ],
      "metadata": {
        "id": "VRu5LvyJ2PvH"
      },
      "execution_count": 43,
      "outputs": []
    },
    {
      "cell_type": "code",
      "source": [
        "#Calculate NDVI\n",
        "calculate_ndvi(red_file, nir_file, os.path.join(directory,'output_ndvi.tif'))"
      ],
      "metadata": {
        "id": "lxvDFceo_MUX"
      },
      "execution_count": 44,
      "outputs": []
    },
    {
      "cell_type": "code",
      "source": [
        "#Calculate RPGI\n",
        "calculate_rpgi(blue_file, green_file, nir_file, os.path.join(directory,'output_rpgi.tif'))"
      ],
      "metadata": {
        "id": "Fh6sMmSVUjSQ"
      },
      "execution_count": 45,
      "outputs": []
    },
    {
      "cell_type": "code",
      "source": [
        "#Calculate Albedo\n",
        "calculate_albedo(blue_file, green_file, red_file, os.path.join(directory,'output_albedo.tif'))"
      ],
      "metadata": {
        "id": "-19wrR3qYpi6"
      },
      "execution_count": 46,
      "outputs": []
    },
    {
      "cell_type": "code",
      "source": [
        "#NDVI+RPGI+albedo\n",
        "calculate_ndvi_rpgi_albedo(os.path.join(directory,'output_ndvi.tif'), os.path.join(directory,'output_rpgi.tif'), os.path.join(directory,'output_albedo.tif'), os.path.join(directory, 'output_ndvi_rpgi_albedo.tif'))"
      ],
      "metadata": {
        "id": "T7W4m1IxmDYA"
      },
      "execution_count": 47,
      "outputs": []
    },
    {
      "cell_type": "markdown",
      "source": [
        "### Convert values in mask and input image file"
      ],
      "metadata": {
        "id": "slcxkoLlsqtP"
      }
    },
    {
      "cell_type": "markdown",
      "source": [
        "First, display the unique pixel values and check for the NODATA value.\n",
        "If needed, convert that value into 0 and check the created tiff file"
      ],
      "metadata": {
        "id": "3g5s_uZVPe8l"
      }
    },
    {
      "cell_type": "code",
      "source": [
        "display_unique_values_tiff_file(os.path.join(directory, 'mask_3763_reclass.tif'))"
      ],
      "metadata": {
        "id": "d4YPqIsFfoUv"
      },
      "execution_count": null,
      "outputs": []
    },
    {
      "cell_type": "code",
      "source": [
        "convert_nodata_values (-3.40282e+38, os.path.join(directory, 'mask_3763_reclass.tif'), os.path.join(directory, 'mask_3763_reclass_bin.tif'))"
      ],
      "metadata": {
        "id": "x8kTcmBzdlI0"
      },
      "execution_count": null,
      "outputs": []
    },
    {
      "cell_type": "code",
      "source": [
        "display_unique_values_tiff_file(os.path.join(directory, 'mask_3763_reclass_bin.tif'))"
      ],
      "metadata": {
        "id": "8FhZjcdDe-cO"
      },
      "execution_count": null,
      "outputs": []
    },
    {
      "cell_type": "markdown",
      "source": [
        "## Clip the tiff files"
      ],
      "metadata": {
        "id": "-EKBUVOm84dz"
      }
    },
    {
      "cell_type": "markdown",
      "source": [
        "Use rasterio to clip both the mask_3763_reclass_bin.tif and the output_ndvi_rpgi_albedo.tif, created above, into blocks"
      ],
      "metadata": {
        "id": "ExsZbk4T_eJk"
      }
    },
    {
      "cell_type": "code",
      "source": [
        "# Clip and rescale label images\n",
        "clip_raster_and_rescale(os.path.join(directory, 'mask_3763_reclass_bin.tif'), label_folder, Nrows, Ncols)\n",
        "\n",
        "# Clip and rescale image bands acording to bigmin and bigmax\n",
        "height, width = clip_raster_and_rescale(os.path.join(directory, 'output_ndvi_rpgi_albedo.tif'), image_folder, Nrows, Ncols)\n"
      ],
      "metadata": {
        "id": "bbh6Po2i11FR"
      },
      "execution_count": 52,
      "outputs": []
    },
    {
      "cell_type": "markdown",
      "source": [
        "## Merge blocks - images, labels"
      ],
      "metadata": {
        "id": "-k8Sqasb9MGk"
      }
    },
    {
      "cell_type": "code",
      "source": [
        "# Put together all the blocks in label_folder\n",
        "merge_blocks(label_folder,'labels', 'merged_labels.png', Nrows, Ncols, width, height)"
      ],
      "metadata": {
        "id": "rMWK-dU5T71-"
      },
      "execution_count": 53,
      "outputs": []
    },
    {
      "cell_type": "code",
      "source": [
        "# Put together all the blocks in image_folder\n",
        "merge_blocks(image_folder,'images', 'merged_images.png', Nrows, Ncols, width, height)"
      ],
      "metadata": {
        "id": "eB_4j-y6ka_Z"
      },
      "execution_count": 54,
      "outputs": []
    },
    {
      "cell_type": "markdown",
      "source": [
        "## K-fold cross validation"
      ],
      "metadata": {
        "id": "jNniVo28-eAv"
      }
    },
    {
      "cell_type": "code",
      "source": [
        "kfold_cross_val = kfold_validation(num_folds, N_epochs)"
      ],
      "metadata": {
        "id": "QKyiOU7C246A",
        "outputId": "8dc442bd-830c-427a-a7bb-7f65041b3512",
        "colab": {
          "base_uri": "https://localhost:8080/",
          "height": 1000
        }
      },
      "execution_count": 57,
      "outputs": [
        {
          "output_type": "stream",
          "name": "stdout",
          "text": [
            "Fold 1 of 5\n"
          ]
        },
        {
          "output_type": "stream",
          "name": "stderr",
          "text": [
            "Downloading: \"https://download.pytorch.org/models/resnet34-b627a593.pth\" to /root/.cache/torch/hub/checkpoints/resnet34-b627a593.pth\n",
            "100%|██████████| 83.3M/83.3M [00:00<00:00, 148MB/s]\n"
          ]
        },
        {
          "output_type": "display_data",
          "data": {
            "text/plain": [
              "<IPython.core.display.HTML object>"
            ],
            "text/html": [
              "\n",
              "<style>\n",
              "    /* Turns off some styling */\n",
              "    progress {\n",
              "        /* gets rid of default border in Firefox and Opera. */\n",
              "        border: none;\n",
              "        /* Needs to be in here for Safari polyfill so background images work as expected. */\n",
              "        background-size: auto;\n",
              "    }\n",
              "    progress:not([value]), progress:not([value])::-webkit-progress-bar {\n",
              "        background: repeating-linear-gradient(45deg, #7e7e7e, #7e7e7e 10px, #5c5c5c 10px, #5c5c5c 20px);\n",
              "    }\n",
              "    .progress-bar-interrupted, .progress-bar-interrupted::-webkit-progress-bar {\n",
              "        background: #F44336;\n",
              "    }\n",
              "</style>\n"
            ]
          },
          "metadata": {}
        },
        {
          "output_type": "display_data",
          "data": {
            "text/plain": [
              "<IPython.core.display.HTML object>"
            ],
            "text/html": [
              "<table border=\"1\" class=\"dataframe\">\n",
              "  <thead>\n",
              "    <tr style=\"text-align: left;\">\n",
              "      <th>epoch</th>\n",
              "      <th>train_loss</th>\n",
              "      <th>valid_loss</th>\n",
              "      <th>time</th>\n",
              "    </tr>\n",
              "  </thead>\n",
              "  <tbody>\n",
              "    <tr>\n",
              "      <td>0</td>\n",
              "      <td>0.413680</td>\n",
              "      <td>0.376730</td>\n",
              "      <td>00:09</td>\n",
              "    </tr>\n",
              "  </tbody>\n",
              "</table>"
            ]
          },
          "metadata": {}
        },
        {
          "output_type": "display_data",
          "data": {
            "text/plain": [
              "<IPython.core.display.HTML object>"
            ],
            "text/html": [
              "\n",
              "<style>\n",
              "    /* Turns off some styling */\n",
              "    progress {\n",
              "        /* gets rid of default border in Firefox and Opera. */\n",
              "        border: none;\n",
              "        /* Needs to be in here for Safari polyfill so background images work as expected. */\n",
              "        background-size: auto;\n",
              "    }\n",
              "    progress:not([value]), progress:not([value])::-webkit-progress-bar {\n",
              "        background: repeating-linear-gradient(45deg, #7e7e7e, #7e7e7e 10px, #5c5c5c 10px, #5c5c5c 20px);\n",
              "    }\n",
              "    .progress-bar-interrupted, .progress-bar-interrupted::-webkit-progress-bar {\n",
              "        background: #F44336;\n",
              "    }\n",
              "</style>\n"
            ]
          },
          "metadata": {}
        },
        {
          "output_type": "display_data",
          "data": {
            "text/plain": [
              "<IPython.core.display.HTML object>"
            ],
            "text/html": [
              "<table border=\"1\" class=\"dataframe\">\n",
              "  <thead>\n",
              "    <tr style=\"text-align: left;\">\n",
              "      <th>epoch</th>\n",
              "      <th>train_loss</th>\n",
              "      <th>valid_loss</th>\n",
              "      <th>time</th>\n",
              "    </tr>\n",
              "  </thead>\n",
              "  <tbody>\n",
              "    <tr>\n",
              "      <td>0</td>\n",
              "      <td>0.221727</td>\n",
              "      <td>0.398049</td>\n",
              "      <td>00:01</td>\n",
              "    </tr>\n",
              "    <tr>\n",
              "      <td>1</td>\n",
              "      <td>0.221137</td>\n",
              "      <td>0.358250</td>\n",
              "      <td>00:01</td>\n",
              "    </tr>\n",
              "    <tr>\n",
              "      <td>2</td>\n",
              "      <td>0.216719</td>\n",
              "      <td>0.384247</td>\n",
              "      <td>00:01</td>\n",
              "    </tr>\n",
              "    <tr>\n",
              "      <td>3</td>\n",
              "      <td>0.203656</td>\n",
              "      <td>0.382123</td>\n",
              "      <td>00:01</td>\n",
              "    </tr>\n",
              "    <tr>\n",
              "      <td>4</td>\n",
              "      <td>0.191328</td>\n",
              "      <td>0.373250</td>\n",
              "      <td>00:01</td>\n",
              "    </tr>\n",
              "    <tr>\n",
              "      <td>5</td>\n",
              "      <td>0.174192</td>\n",
              "      <td>0.556418</td>\n",
              "      <td>00:02</td>\n",
              "    </tr>\n",
              "    <tr>\n",
              "      <td>6</td>\n",
              "      <td>0.162190</td>\n",
              "      <td>0.369632</td>\n",
              "      <td>00:03</td>\n",
              "    </tr>\n",
              "    <tr>\n",
              "      <td>7</td>\n",
              "      <td>0.149817</td>\n",
              "      <td>0.481854</td>\n",
              "      <td>00:03</td>\n",
              "    </tr>\n",
              "    <tr>\n",
              "      <td>8</td>\n",
              "      <td>0.130395</td>\n",
              "      <td>0.639293</td>\n",
              "      <td>00:02</td>\n",
              "    </tr>\n",
              "    <tr>\n",
              "      <td>9</td>\n",
              "      <td>0.114869</td>\n",
              "      <td>0.697610</td>\n",
              "      <td>00:02</td>\n",
              "    </tr>\n",
              "    <tr>\n",
              "      <td>10</td>\n",
              "      <td>0.101701</td>\n",
              "      <td>1.128461</td>\n",
              "      <td>00:03</td>\n",
              "    </tr>\n",
              "    <tr>\n",
              "      <td>11</td>\n",
              "      <td>0.095953</td>\n",
              "      <td>0.449863</td>\n",
              "      <td>00:04</td>\n",
              "    </tr>\n",
              "    <tr>\n",
              "      <td>12</td>\n",
              "      <td>0.090940</td>\n",
              "      <td>0.575917</td>\n",
              "      <td>00:02</td>\n",
              "    </tr>\n",
              "    <tr>\n",
              "      <td>13</td>\n",
              "      <td>0.082275</td>\n",
              "      <td>1.801234</td>\n",
              "      <td>00:02</td>\n",
              "    </tr>\n",
              "    <tr>\n",
              "      <td>14</td>\n",
              "      <td>0.073309</td>\n",
              "      <td>1.166180</td>\n",
              "      <td>00:02</td>\n",
              "    </tr>\n",
              "    <tr>\n",
              "      <td>15</td>\n",
              "      <td>0.066847</td>\n",
              "      <td>1.059790</td>\n",
              "      <td>00:03</td>\n",
              "    </tr>\n",
              "    <tr>\n",
              "      <td>16</td>\n",
              "      <td>0.060906</td>\n",
              "      <td>1.233920</td>\n",
              "      <td>00:03</td>\n",
              "    </tr>\n",
              "    <tr>\n",
              "      <td>17</td>\n",
              "      <td>0.055586</td>\n",
              "      <td>1.511765</td>\n",
              "      <td>00:02</td>\n",
              "    </tr>\n",
              "    <tr>\n",
              "      <td>18</td>\n",
              "      <td>0.051238</td>\n",
              "      <td>1.379467</td>\n",
              "      <td>00:01</td>\n",
              "    </tr>\n",
              "    <tr>\n",
              "      <td>19</td>\n",
              "      <td>0.047543</td>\n",
              "      <td>1.784402</td>\n",
              "      <td>00:01</td>\n",
              "    </tr>\n",
              "    <tr>\n",
              "      <td>20</td>\n",
              "      <td>0.044298</td>\n",
              "      <td>1.560101</td>\n",
              "      <td>00:01</td>\n",
              "    </tr>\n",
              "    <tr>\n",
              "      <td>21</td>\n",
              "      <td>0.041450</td>\n",
              "      <td>1.592551</td>\n",
              "      <td>00:02</td>\n",
              "    </tr>\n",
              "    <tr>\n",
              "      <td>22</td>\n",
              "      <td>0.039400</td>\n",
              "      <td>1.547551</td>\n",
              "      <td>00:02</td>\n",
              "    </tr>\n",
              "    <tr>\n",
              "      <td>23</td>\n",
              "      <td>0.037494</td>\n",
              "      <td>1.878105</td>\n",
              "      <td>00:01</td>\n",
              "    </tr>\n",
              "    <tr>\n",
              "      <td>24</td>\n",
              "      <td>0.035792</td>\n",
              "      <td>1.728944</td>\n",
              "      <td>00:01</td>\n",
              "    </tr>\n",
              "    <tr>\n",
              "      <td>25</td>\n",
              "      <td>0.034389</td>\n",
              "      <td>1.935061</td>\n",
              "      <td>00:01</td>\n",
              "    </tr>\n",
              "    <tr>\n",
              "      <td>26</td>\n",
              "      <td>0.033121</td>\n",
              "      <td>1.788465</td>\n",
              "      <td>00:01</td>\n",
              "    </tr>\n",
              "    <tr>\n",
              "      <td>27</td>\n",
              "      <td>0.032142</td>\n",
              "      <td>1.836655</td>\n",
              "      <td>00:01</td>\n",
              "    </tr>\n",
              "    <tr>\n",
              "      <td>28</td>\n",
              "      <td>0.031198</td>\n",
              "      <td>1.814114</td>\n",
              "      <td>00:02</td>\n",
              "    </tr>\n",
              "    <tr>\n",
              "      <td>29</td>\n",
              "      <td>0.031119</td>\n",
              "      <td>1.866183</td>\n",
              "      <td>00:02</td>\n",
              "    </tr>\n",
              "  </tbody>\n",
              "</table>"
            ]
          },
          "metadata": {}
        },
        {
          "output_type": "display_data",
          "data": {
            "text/plain": [
              "<IPython.core.display.HTML object>"
            ],
            "text/html": [
              "\n",
              "<style>\n",
              "    /* Turns off some styling */\n",
              "    progress {\n",
              "        /* gets rid of default border in Firefox and Opera. */\n",
              "        border: none;\n",
              "        /* Needs to be in here for Safari polyfill so background images work as expected. */\n",
              "        background-size: auto;\n",
              "    }\n",
              "    progress:not([value]), progress:not([value])::-webkit-progress-bar {\n",
              "        background: repeating-linear-gradient(45deg, #7e7e7e, #7e7e7e 10px, #5c5c5c 10px, #5c5c5c 20px);\n",
              "    }\n",
              "    .progress-bar-interrupted, .progress-bar-interrupted::-webkit-progress-bar {\n",
              "        background: #F44336;\n",
              "    }\n",
              "</style>\n"
            ]
          },
          "metadata": {}
        },
        {
          "output_type": "display_data",
          "data": {
            "text/plain": [
              "<IPython.core.display.HTML object>"
            ],
            "text/html": []
          },
          "metadata": {}
        },
        {
          "output_type": "stream",
          "name": "stdout",
          "text": [
            "Confusion Matrix for Fold 1:\n",
            "[[82371  1726]\n",
            " [ 9317 12378]]\n"
          ]
        },
        {
          "output_type": "display_data",
          "data": {
            "text/plain": [
              "<IPython.core.display.HTML object>"
            ],
            "text/html": [
              "\n",
              "<style>\n",
              "    /* Turns off some styling */\n",
              "    progress {\n",
              "        /* gets rid of default border in Firefox and Opera. */\n",
              "        border: none;\n",
              "        /* Needs to be in here for Safari polyfill so background images work as expected. */\n",
              "        background-size: auto;\n",
              "    }\n",
              "    progress:not([value]), progress:not([value])::-webkit-progress-bar {\n",
              "        background: repeating-linear-gradient(45deg, #7e7e7e, #7e7e7e 10px, #5c5c5c 10px, #5c5c5c 20px);\n",
              "    }\n",
              "    .progress-bar-interrupted, .progress-bar-interrupted::-webkit-progress-bar {\n",
              "        background: #F44336;\n",
              "    }\n",
              "</style>\n"
            ]
          },
          "metadata": {}
        },
        {
          "output_type": "display_data",
          "data": {
            "text/plain": [
              "<IPython.core.display.HTML object>"
            ],
            "text/html": []
          },
          "metadata": {}
        },
        {
          "output_type": "stream",
          "name": "stdout",
          "text": [
            "Fold 2 of 5\n"
          ]
        },
        {
          "output_type": "display_data",
          "data": {
            "text/plain": [
              "<IPython.core.display.HTML object>"
            ],
            "text/html": [
              "\n",
              "<style>\n",
              "    /* Turns off some styling */\n",
              "    progress {\n",
              "        /* gets rid of default border in Firefox and Opera. */\n",
              "        border: none;\n",
              "        /* Needs to be in here for Safari polyfill so background images work as expected. */\n",
              "        background-size: auto;\n",
              "    }\n",
              "    progress:not([value]), progress:not([value])::-webkit-progress-bar {\n",
              "        background: repeating-linear-gradient(45deg, #7e7e7e, #7e7e7e 10px, #5c5c5c 10px, #5c5c5c 20px);\n",
              "    }\n",
              "    .progress-bar-interrupted, .progress-bar-interrupted::-webkit-progress-bar {\n",
              "        background: #F44336;\n",
              "    }\n",
              "</style>\n"
            ]
          },
          "metadata": {}
        },
        {
          "output_type": "display_data",
          "data": {
            "text/plain": [
              "<IPython.core.display.HTML object>"
            ],
            "text/html": [
              "<table border=\"1\" class=\"dataframe\">\n",
              "  <thead>\n",
              "    <tr style=\"text-align: left;\">\n",
              "      <th>epoch</th>\n",
              "      <th>train_loss</th>\n",
              "      <th>valid_loss</th>\n",
              "      <th>time</th>\n",
              "    </tr>\n",
              "  </thead>\n",
              "  <tbody>\n",
              "    <tr>\n",
              "      <td>0</td>\n",
              "      <td>0.383393</td>\n",
              "      <td>0.200448</td>\n",
              "      <td>00:01</td>\n",
              "    </tr>\n",
              "  </tbody>\n",
              "</table>"
            ]
          },
          "metadata": {}
        },
        {
          "output_type": "display_data",
          "data": {
            "text/plain": [
              "<IPython.core.display.HTML object>"
            ],
            "text/html": [
              "\n",
              "<style>\n",
              "    /* Turns off some styling */\n",
              "    progress {\n",
              "        /* gets rid of default border in Firefox and Opera. */\n",
              "        border: none;\n",
              "        /* Needs to be in here for Safari polyfill so background images work as expected. */\n",
              "        background-size: auto;\n",
              "    }\n",
              "    progress:not([value]), progress:not([value])::-webkit-progress-bar {\n",
              "        background: repeating-linear-gradient(45deg, #7e7e7e, #7e7e7e 10px, #5c5c5c 10px, #5c5c5c 20px);\n",
              "    }\n",
              "    .progress-bar-interrupted, .progress-bar-interrupted::-webkit-progress-bar {\n",
              "        background: #F44336;\n",
              "    }\n",
              "</style>\n"
            ]
          },
          "metadata": {}
        },
        {
          "output_type": "display_data",
          "data": {
            "text/plain": [
              "<IPython.core.display.HTML object>"
            ],
            "text/html": [
              "<table border=\"1\" class=\"dataframe\">\n",
              "  <thead>\n",
              "    <tr style=\"text-align: left;\">\n",
              "      <th>epoch</th>\n",
              "      <th>train_loss</th>\n",
              "      <th>valid_loss</th>\n",
              "      <th>time</th>\n",
              "    </tr>\n",
              "  </thead>\n",
              "  <tbody>\n",
              "    <tr>\n",
              "      <td>0</td>\n",
              "      <td>0.277542</td>\n",
              "      <td>0.220180</td>\n",
              "      <td>00:01</td>\n",
              "    </tr>\n",
              "    <tr>\n",
              "      <td>1</td>\n",
              "      <td>0.261740</td>\n",
              "      <td>0.182968</td>\n",
              "      <td>00:02</td>\n",
              "    </tr>\n",
              "    <tr>\n",
              "      <td>2</td>\n",
              "      <td>0.245653</td>\n",
              "      <td>0.142819</td>\n",
              "      <td>00:02</td>\n",
              "    </tr>\n",
              "    <tr>\n",
              "      <td>3</td>\n",
              "      <td>0.231551</td>\n",
              "      <td>0.153115</td>\n",
              "      <td>00:01</td>\n",
              "    </tr>\n",
              "    <tr>\n",
              "      <td>4</td>\n",
              "      <td>0.219086</td>\n",
              "      <td>0.167275</td>\n",
              "      <td>00:02</td>\n",
              "    </tr>\n",
              "    <tr>\n",
              "      <td>5</td>\n",
              "      <td>0.212951</td>\n",
              "      <td>0.138985</td>\n",
              "      <td>00:01</td>\n",
              "    </tr>\n",
              "    <tr>\n",
              "      <td>6</td>\n",
              "      <td>0.208185</td>\n",
              "      <td>0.244876</td>\n",
              "      <td>00:01</td>\n",
              "    </tr>\n",
              "    <tr>\n",
              "      <td>7</td>\n",
              "      <td>0.202976</td>\n",
              "      <td>0.151051</td>\n",
              "      <td>00:02</td>\n",
              "    </tr>\n",
              "    <tr>\n",
              "      <td>8</td>\n",
              "      <td>0.196062</td>\n",
              "      <td>0.277326</td>\n",
              "      <td>00:02</td>\n",
              "    </tr>\n",
              "    <tr>\n",
              "      <td>9</td>\n",
              "      <td>0.196296</td>\n",
              "      <td>0.120097</td>\n",
              "      <td>00:01</td>\n",
              "    </tr>\n",
              "    <tr>\n",
              "      <td>10</td>\n",
              "      <td>0.188775</td>\n",
              "      <td>0.137015</td>\n",
              "      <td>00:01</td>\n",
              "    </tr>\n",
              "    <tr>\n",
              "      <td>11</td>\n",
              "      <td>0.178114</td>\n",
              "      <td>0.204834</td>\n",
              "      <td>00:01</td>\n",
              "    </tr>\n",
              "    <tr>\n",
              "      <td>12</td>\n",
              "      <td>0.191442</td>\n",
              "      <td>0.141645</td>\n",
              "      <td>00:01</td>\n",
              "    </tr>\n",
              "    <tr>\n",
              "      <td>13</td>\n",
              "      <td>0.179720</td>\n",
              "      <td>0.224684</td>\n",
              "      <td>00:01</td>\n",
              "    </tr>\n",
              "    <tr>\n",
              "      <td>14</td>\n",
              "      <td>0.162199</td>\n",
              "      <td>0.105340</td>\n",
              "      <td>00:02</td>\n",
              "    </tr>\n",
              "    <tr>\n",
              "      <td>15</td>\n",
              "      <td>0.156448</td>\n",
              "      <td>0.131033</td>\n",
              "      <td>00:03</td>\n",
              "    </tr>\n",
              "    <tr>\n",
              "      <td>16</td>\n",
              "      <td>0.141504</td>\n",
              "      <td>0.123770</td>\n",
              "      <td>00:03</td>\n",
              "    </tr>\n",
              "    <tr>\n",
              "      <td>17</td>\n",
              "      <td>0.126058</td>\n",
              "      <td>0.124325</td>\n",
              "      <td>00:03</td>\n",
              "    </tr>\n",
              "    <tr>\n",
              "      <td>18</td>\n",
              "      <td>0.111812</td>\n",
              "      <td>0.140767</td>\n",
              "      <td>00:04</td>\n",
              "    </tr>\n",
              "    <tr>\n",
              "      <td>19</td>\n",
              "      <td>0.099307</td>\n",
              "      <td>0.124304</td>\n",
              "      <td>00:04</td>\n",
              "    </tr>\n",
              "    <tr>\n",
              "      <td>20</td>\n",
              "      <td>0.089054</td>\n",
              "      <td>0.127248</td>\n",
              "      <td>00:02</td>\n",
              "    </tr>\n",
              "    <tr>\n",
              "      <td>21</td>\n",
              "      <td>0.080476</td>\n",
              "      <td>0.151909</td>\n",
              "      <td>00:01</td>\n",
              "    </tr>\n",
              "    <tr>\n",
              "      <td>22</td>\n",
              "      <td>0.074087</td>\n",
              "      <td>0.122953</td>\n",
              "      <td>00:01</td>\n",
              "    </tr>\n",
              "    <tr>\n",
              "      <td>23</td>\n",
              "      <td>0.068986</td>\n",
              "      <td>0.140292</td>\n",
              "      <td>00:01</td>\n",
              "    </tr>\n",
              "    <tr>\n",
              "      <td>24</td>\n",
              "      <td>0.065004</td>\n",
              "      <td>0.125593</td>\n",
              "      <td>00:02</td>\n",
              "    </tr>\n",
              "    <tr>\n",
              "      <td>25</td>\n",
              "      <td>0.061775</td>\n",
              "      <td>0.114417</td>\n",
              "      <td>00:02</td>\n",
              "    </tr>\n",
              "    <tr>\n",
              "      <td>26</td>\n",
              "      <td>0.059136</td>\n",
              "      <td>0.129307</td>\n",
              "      <td>00:01</td>\n",
              "    </tr>\n",
              "    <tr>\n",
              "      <td>27</td>\n",
              "      <td>0.057021</td>\n",
              "      <td>0.133529</td>\n",
              "      <td>00:01</td>\n",
              "    </tr>\n",
              "    <tr>\n",
              "      <td>28</td>\n",
              "      <td>0.055147</td>\n",
              "      <td>0.131728</td>\n",
              "      <td>00:01</td>\n",
              "    </tr>\n",
              "    <tr>\n",
              "      <td>29</td>\n",
              "      <td>0.053913</td>\n",
              "      <td>0.131123</td>\n",
              "      <td>00:01</td>\n",
              "    </tr>\n",
              "  </tbody>\n",
              "</table>"
            ]
          },
          "metadata": {}
        },
        {
          "output_type": "display_data",
          "data": {
            "text/plain": [
              "<IPython.core.display.HTML object>"
            ],
            "text/html": [
              "\n",
              "<style>\n",
              "    /* Turns off some styling */\n",
              "    progress {\n",
              "        /* gets rid of default border in Firefox and Opera. */\n",
              "        border: none;\n",
              "        /* Needs to be in here for Safari polyfill so background images work as expected. */\n",
              "        background-size: auto;\n",
              "    }\n",
              "    progress:not([value]), progress:not([value])::-webkit-progress-bar {\n",
              "        background: repeating-linear-gradient(45deg, #7e7e7e, #7e7e7e 10px, #5c5c5c 10px, #5c5c5c 20px);\n",
              "    }\n",
              "    .progress-bar-interrupted, .progress-bar-interrupted::-webkit-progress-bar {\n",
              "        background: #F44336;\n",
              "    }\n",
              "</style>\n"
            ]
          },
          "metadata": {}
        },
        {
          "output_type": "display_data",
          "data": {
            "text/plain": [
              "<IPython.core.display.HTML object>"
            ],
            "text/html": []
          },
          "metadata": {}
        },
        {
          "output_type": "stream",
          "name": "stdout",
          "text": [
            "Confusion Matrix for Fold 2:\n",
            "[[92676  3226]\n",
            " [ 1881  8009]]\n"
          ]
        },
        {
          "output_type": "display_data",
          "data": {
            "text/plain": [
              "<IPython.core.display.HTML object>"
            ],
            "text/html": [
              "\n",
              "<style>\n",
              "    /* Turns off some styling */\n",
              "    progress {\n",
              "        /* gets rid of default border in Firefox and Opera. */\n",
              "        border: none;\n",
              "        /* Needs to be in here for Safari polyfill so background images work as expected. */\n",
              "        background-size: auto;\n",
              "    }\n",
              "    progress:not([value]), progress:not([value])::-webkit-progress-bar {\n",
              "        background: repeating-linear-gradient(45deg, #7e7e7e, #7e7e7e 10px, #5c5c5c 10px, #5c5c5c 20px);\n",
              "    }\n",
              "    .progress-bar-interrupted, .progress-bar-interrupted::-webkit-progress-bar {\n",
              "        background: #F44336;\n",
              "    }\n",
              "</style>\n"
            ]
          },
          "metadata": {}
        },
        {
          "output_type": "display_data",
          "data": {
            "text/plain": [
              "<IPython.core.display.HTML object>"
            ],
            "text/html": []
          },
          "metadata": {}
        },
        {
          "output_type": "stream",
          "name": "stdout",
          "text": [
            "Fold 3 of 5\n"
          ]
        },
        {
          "output_type": "display_data",
          "data": {
            "text/plain": [
              "<IPython.core.display.HTML object>"
            ],
            "text/html": [
              "\n",
              "<style>\n",
              "    /* Turns off some styling */\n",
              "    progress {\n",
              "        /* gets rid of default border in Firefox and Opera. */\n",
              "        border: none;\n",
              "        /* Needs to be in here for Safari polyfill so background images work as expected. */\n",
              "        background-size: auto;\n",
              "    }\n",
              "    progress:not([value]), progress:not([value])::-webkit-progress-bar {\n",
              "        background: repeating-linear-gradient(45deg, #7e7e7e, #7e7e7e 10px, #5c5c5c 10px, #5c5c5c 20px);\n",
              "    }\n",
              "    .progress-bar-interrupted, .progress-bar-interrupted::-webkit-progress-bar {\n",
              "        background: #F44336;\n",
              "    }\n",
              "</style>\n"
            ]
          },
          "metadata": {}
        },
        {
          "output_type": "display_data",
          "data": {
            "text/plain": [
              "<IPython.core.display.HTML object>"
            ],
            "text/html": [
              "<table border=\"1\" class=\"dataframe\">\n",
              "  <thead>\n",
              "    <tr style=\"text-align: left;\">\n",
              "      <th>epoch</th>\n",
              "      <th>train_loss</th>\n",
              "      <th>valid_loss</th>\n",
              "      <th>time</th>\n",
              "    </tr>\n",
              "  </thead>\n",
              "  <tbody>\n",
              "    <tr>\n",
              "      <td>0</td>\n",
              "      <td>0.551014</td>\n",
              "      <td>0.326891</td>\n",
              "      <td>00:01</td>\n",
              "    </tr>\n",
              "  </tbody>\n",
              "</table>"
            ]
          },
          "metadata": {}
        },
        {
          "output_type": "display_data",
          "data": {
            "text/plain": [
              "<IPython.core.display.HTML object>"
            ],
            "text/html": [
              "\n",
              "<style>\n",
              "    /* Turns off some styling */\n",
              "    progress {\n",
              "        /* gets rid of default border in Firefox and Opera. */\n",
              "        border: none;\n",
              "        /* Needs to be in here for Safari polyfill so background images work as expected. */\n",
              "        background-size: auto;\n",
              "    }\n",
              "    progress:not([value]), progress:not([value])::-webkit-progress-bar {\n",
              "        background: repeating-linear-gradient(45deg, #7e7e7e, #7e7e7e 10px, #5c5c5c 10px, #5c5c5c 20px);\n",
              "    }\n",
              "    .progress-bar-interrupted, .progress-bar-interrupted::-webkit-progress-bar {\n",
              "        background: #F44336;\n",
              "    }\n",
              "</style>\n"
            ]
          },
          "metadata": {}
        },
        {
          "output_type": "display_data",
          "data": {
            "text/plain": [
              "<IPython.core.display.HTML object>"
            ],
            "text/html": [
              "<table border=\"1\" class=\"dataframe\">\n",
              "  <thead>\n",
              "    <tr style=\"text-align: left;\">\n",
              "      <th>epoch</th>\n",
              "      <th>train_loss</th>\n",
              "      <th>valid_loss</th>\n",
              "      <th>time</th>\n",
              "    </tr>\n",
              "  </thead>\n",
              "  <tbody>\n",
              "    <tr>\n",
              "      <td>0</td>\n",
              "      <td>0.309420</td>\n",
              "      <td>0.254939</td>\n",
              "      <td>00:01</td>\n",
              "    </tr>\n",
              "    <tr>\n",
              "      <td>1</td>\n",
              "      <td>0.286442</td>\n",
              "      <td>0.219658</td>\n",
              "      <td>00:01</td>\n",
              "    </tr>\n",
              "    <tr>\n",
              "      <td>2</td>\n",
              "      <td>0.262362</td>\n",
              "      <td>0.204531</td>\n",
              "      <td>00:01</td>\n",
              "    </tr>\n",
              "    <tr>\n",
              "      <td>3</td>\n",
              "      <td>0.244734</td>\n",
              "      <td>0.162524</td>\n",
              "      <td>00:02</td>\n",
              "    </tr>\n",
              "    <tr>\n",
              "      <td>4</td>\n",
              "      <td>0.232877</td>\n",
              "      <td>0.156384</td>\n",
              "      <td>00:02</td>\n",
              "    </tr>\n",
              "    <tr>\n",
              "      <td>5</td>\n",
              "      <td>0.215040</td>\n",
              "      <td>0.144472</td>\n",
              "      <td>00:01</td>\n",
              "    </tr>\n",
              "    <tr>\n",
              "      <td>6</td>\n",
              "      <td>0.206858</td>\n",
              "      <td>0.142130</td>\n",
              "      <td>00:02</td>\n",
              "    </tr>\n",
              "    <tr>\n",
              "      <td>7</td>\n",
              "      <td>0.196988</td>\n",
              "      <td>0.154235</td>\n",
              "      <td>00:02</td>\n",
              "    </tr>\n",
              "    <tr>\n",
              "      <td>8</td>\n",
              "      <td>0.187946</td>\n",
              "      <td>0.124401</td>\n",
              "      <td>00:01</td>\n",
              "    </tr>\n",
              "    <tr>\n",
              "      <td>9</td>\n",
              "      <td>0.175885</td>\n",
              "      <td>0.147351</td>\n",
              "      <td>00:02</td>\n",
              "    </tr>\n",
              "    <tr>\n",
              "      <td>10</td>\n",
              "      <td>0.180425</td>\n",
              "      <td>0.156692</td>\n",
              "      <td>00:02</td>\n",
              "    </tr>\n",
              "    <tr>\n",
              "      <td>11</td>\n",
              "      <td>0.185750</td>\n",
              "      <td>0.157452</td>\n",
              "      <td>00:01</td>\n",
              "    </tr>\n",
              "    <tr>\n",
              "      <td>12</td>\n",
              "      <td>0.180295</td>\n",
              "      <td>0.151265</td>\n",
              "      <td>00:01</td>\n",
              "    </tr>\n",
              "    <tr>\n",
              "      <td>13</td>\n",
              "      <td>0.166773</td>\n",
              "      <td>0.175185</td>\n",
              "      <td>00:01</td>\n",
              "    </tr>\n",
              "    <tr>\n",
              "      <td>14</td>\n",
              "      <td>0.152096</td>\n",
              "      <td>0.137308</td>\n",
              "      <td>00:01</td>\n",
              "    </tr>\n",
              "    <tr>\n",
              "      <td>15</td>\n",
              "      <td>0.133057</td>\n",
              "      <td>0.137375</td>\n",
              "      <td>00:01</td>\n",
              "    </tr>\n",
              "    <tr>\n",
              "      <td>16</td>\n",
              "      <td>0.117947</td>\n",
              "      <td>0.115220</td>\n",
              "      <td>00:02</td>\n",
              "    </tr>\n",
              "    <tr>\n",
              "      <td>17</td>\n",
              "      <td>0.104276</td>\n",
              "      <td>0.151644</td>\n",
              "      <td>00:02</td>\n",
              "    </tr>\n",
              "    <tr>\n",
              "      <td>18</td>\n",
              "      <td>0.092545</td>\n",
              "      <td>0.144360</td>\n",
              "      <td>00:01</td>\n",
              "    </tr>\n",
              "    <tr>\n",
              "      <td>19</td>\n",
              "      <td>0.082463</td>\n",
              "      <td>0.159151</td>\n",
              "      <td>00:01</td>\n",
              "    </tr>\n",
              "    <tr>\n",
              "      <td>20</td>\n",
              "      <td>0.074181</td>\n",
              "      <td>0.175096</td>\n",
              "      <td>00:01</td>\n",
              "    </tr>\n",
              "    <tr>\n",
              "      <td>21</td>\n",
              "      <td>0.067702</td>\n",
              "      <td>0.174928</td>\n",
              "      <td>00:01</td>\n",
              "    </tr>\n",
              "    <tr>\n",
              "      <td>22</td>\n",
              "      <td>0.062330</td>\n",
              "      <td>0.167368</td>\n",
              "      <td>00:01</td>\n",
              "    </tr>\n",
              "    <tr>\n",
              "      <td>23</td>\n",
              "      <td>0.058098</td>\n",
              "      <td>0.193701</td>\n",
              "      <td>00:04</td>\n",
              "    </tr>\n",
              "    <tr>\n",
              "      <td>24</td>\n",
              "      <td>0.054629</td>\n",
              "      <td>0.199121</td>\n",
              "      <td>00:02</td>\n",
              "    </tr>\n",
              "    <tr>\n",
              "      <td>25</td>\n",
              "      <td>0.051707</td>\n",
              "      <td>0.190933</td>\n",
              "      <td>00:01</td>\n",
              "    </tr>\n",
              "    <tr>\n",
              "      <td>26</td>\n",
              "      <td>0.049432</td>\n",
              "      <td>0.200735</td>\n",
              "      <td>00:01</td>\n",
              "    </tr>\n",
              "    <tr>\n",
              "      <td>27</td>\n",
              "      <td>0.047684</td>\n",
              "      <td>0.199706</td>\n",
              "      <td>00:01</td>\n",
              "    </tr>\n",
              "    <tr>\n",
              "      <td>28</td>\n",
              "      <td>0.046930</td>\n",
              "      <td>0.206945</td>\n",
              "      <td>00:01</td>\n",
              "    </tr>\n",
              "    <tr>\n",
              "      <td>29</td>\n",
              "      <td>0.045602</td>\n",
              "      <td>0.192553</td>\n",
              "      <td>00:02</td>\n",
              "    </tr>\n",
              "  </tbody>\n",
              "</table>"
            ]
          },
          "metadata": {}
        },
        {
          "output_type": "display_data",
          "data": {
            "text/plain": [
              "<IPython.core.display.HTML object>"
            ],
            "text/html": [
              "\n",
              "<style>\n",
              "    /* Turns off some styling */\n",
              "    progress {\n",
              "        /* gets rid of default border in Firefox and Opera. */\n",
              "        border: none;\n",
              "        /* Needs to be in here for Safari polyfill so background images work as expected. */\n",
              "        background-size: auto;\n",
              "    }\n",
              "    progress:not([value]), progress:not([value])::-webkit-progress-bar {\n",
              "        background: repeating-linear-gradient(45deg, #7e7e7e, #7e7e7e 10px, #5c5c5c 10px, #5c5c5c 20px);\n",
              "    }\n",
              "    .progress-bar-interrupted, .progress-bar-interrupted::-webkit-progress-bar {\n",
              "        background: #F44336;\n",
              "    }\n",
              "</style>\n"
            ]
          },
          "metadata": {}
        },
        {
          "output_type": "display_data",
          "data": {
            "text/plain": [
              "<IPython.core.display.HTML object>"
            ],
            "text/html": []
          },
          "metadata": {}
        },
        {
          "output_type": "stream",
          "name": "stdout",
          "text": [
            "Confusion Matrix for Fold 3:\n",
            "[[91220  1278]\n",
            " [ 3418  9876]]\n"
          ]
        },
        {
          "output_type": "display_data",
          "data": {
            "text/plain": [
              "<IPython.core.display.HTML object>"
            ],
            "text/html": [
              "\n",
              "<style>\n",
              "    /* Turns off some styling */\n",
              "    progress {\n",
              "        /* gets rid of default border in Firefox and Opera. */\n",
              "        border: none;\n",
              "        /* Needs to be in here for Safari polyfill so background images work as expected. */\n",
              "        background-size: auto;\n",
              "    }\n",
              "    progress:not([value]), progress:not([value])::-webkit-progress-bar {\n",
              "        background: repeating-linear-gradient(45deg, #7e7e7e, #7e7e7e 10px, #5c5c5c 10px, #5c5c5c 20px);\n",
              "    }\n",
              "    .progress-bar-interrupted, .progress-bar-interrupted::-webkit-progress-bar {\n",
              "        background: #F44336;\n",
              "    }\n",
              "</style>\n"
            ]
          },
          "metadata": {}
        },
        {
          "output_type": "display_data",
          "data": {
            "text/plain": [
              "<IPython.core.display.HTML object>"
            ],
            "text/html": []
          },
          "metadata": {}
        },
        {
          "output_type": "stream",
          "name": "stdout",
          "text": [
            "Fold 4 of 5\n"
          ]
        },
        {
          "output_type": "display_data",
          "data": {
            "text/plain": [
              "<IPython.core.display.HTML object>"
            ],
            "text/html": [
              "\n",
              "<style>\n",
              "    /* Turns off some styling */\n",
              "    progress {\n",
              "        /* gets rid of default border in Firefox and Opera. */\n",
              "        border: none;\n",
              "        /* Needs to be in here for Safari polyfill so background images work as expected. */\n",
              "        background-size: auto;\n",
              "    }\n",
              "    progress:not([value]), progress:not([value])::-webkit-progress-bar {\n",
              "        background: repeating-linear-gradient(45deg, #7e7e7e, #7e7e7e 10px, #5c5c5c 10px, #5c5c5c 20px);\n",
              "    }\n",
              "    .progress-bar-interrupted, .progress-bar-interrupted::-webkit-progress-bar {\n",
              "        background: #F44336;\n",
              "    }\n",
              "</style>\n"
            ]
          },
          "metadata": {}
        },
        {
          "output_type": "display_data",
          "data": {
            "text/plain": [
              "<IPython.core.display.HTML object>"
            ],
            "text/html": [
              "<table border=\"1\" class=\"dataframe\">\n",
              "  <thead>\n",
              "    <tr style=\"text-align: left;\">\n",
              "      <th>epoch</th>\n",
              "      <th>train_loss</th>\n",
              "      <th>valid_loss</th>\n",
              "      <th>time</th>\n",
              "    </tr>\n",
              "  </thead>\n",
              "  <tbody>\n",
              "    <tr>\n",
              "      <td>0</td>\n",
              "      <td>0.386768</td>\n",
              "      <td>0.245159</td>\n",
              "      <td>00:01</td>\n",
              "    </tr>\n",
              "  </tbody>\n",
              "</table>"
            ]
          },
          "metadata": {}
        },
        {
          "output_type": "display_data",
          "data": {
            "text/plain": [
              "<IPython.core.display.HTML object>"
            ],
            "text/html": [
              "\n",
              "<style>\n",
              "    /* Turns off some styling */\n",
              "    progress {\n",
              "        /* gets rid of default border in Firefox and Opera. */\n",
              "        border: none;\n",
              "        /* Needs to be in here for Safari polyfill so background images work as expected. */\n",
              "        background-size: auto;\n",
              "    }\n",
              "    progress:not([value]), progress:not([value])::-webkit-progress-bar {\n",
              "        background: repeating-linear-gradient(45deg, #7e7e7e, #7e7e7e 10px, #5c5c5c 10px, #5c5c5c 20px);\n",
              "    }\n",
              "    .progress-bar-interrupted, .progress-bar-interrupted::-webkit-progress-bar {\n",
              "        background: #F44336;\n",
              "    }\n",
              "</style>\n"
            ]
          },
          "metadata": {}
        },
        {
          "output_type": "display_data",
          "data": {
            "text/plain": [
              "<IPython.core.display.HTML object>"
            ],
            "text/html": [
              "<table border=\"1\" class=\"dataframe\">\n",
              "  <thead>\n",
              "    <tr style=\"text-align: left;\">\n",
              "      <th>epoch</th>\n",
              "      <th>train_loss</th>\n",
              "      <th>valid_loss</th>\n",
              "      <th>time</th>\n",
              "    </tr>\n",
              "  </thead>\n",
              "  <tbody>\n",
              "    <tr>\n",
              "      <td>0</td>\n",
              "      <td>0.254295</td>\n",
              "      <td>0.198378</td>\n",
              "      <td>00:02</td>\n",
              "    </tr>\n",
              "    <tr>\n",
              "      <td>1</td>\n",
              "      <td>0.242338</td>\n",
              "      <td>0.173161</td>\n",
              "      <td>00:02</td>\n",
              "    </tr>\n",
              "    <tr>\n",
              "      <td>2</td>\n",
              "      <td>0.223866</td>\n",
              "      <td>0.158742</td>\n",
              "      <td>00:01</td>\n",
              "    </tr>\n",
              "    <tr>\n",
              "      <td>3</td>\n",
              "      <td>0.201515</td>\n",
              "      <td>0.181837</td>\n",
              "      <td>00:01</td>\n",
              "    </tr>\n",
              "    <tr>\n",
              "      <td>4</td>\n",
              "      <td>0.212231</td>\n",
              "      <td>0.207165</td>\n",
              "      <td>00:01</td>\n",
              "    </tr>\n",
              "    <tr>\n",
              "      <td>5</td>\n",
              "      <td>0.215733</td>\n",
              "      <td>0.220501</td>\n",
              "      <td>00:01</td>\n",
              "    </tr>\n",
              "    <tr>\n",
              "      <td>6</td>\n",
              "      <td>0.220588</td>\n",
              "      <td>0.158042</td>\n",
              "      <td>00:01</td>\n",
              "    </tr>\n",
              "    <tr>\n",
              "      <td>7</td>\n",
              "      <td>0.207093</td>\n",
              "      <td>0.146138</td>\n",
              "      <td>00:02</td>\n",
              "    </tr>\n",
              "    <tr>\n",
              "      <td>8</td>\n",
              "      <td>0.194423</td>\n",
              "      <td>0.144479</td>\n",
              "      <td>00:02</td>\n",
              "    </tr>\n",
              "    <tr>\n",
              "      <td>9</td>\n",
              "      <td>0.194071</td>\n",
              "      <td>0.151500</td>\n",
              "      <td>00:01</td>\n",
              "    </tr>\n",
              "    <tr>\n",
              "      <td>10</td>\n",
              "      <td>0.187146</td>\n",
              "      <td>0.166043</td>\n",
              "      <td>00:01</td>\n",
              "    </tr>\n",
              "    <tr>\n",
              "      <td>11</td>\n",
              "      <td>0.171712</td>\n",
              "      <td>0.139035</td>\n",
              "      <td>00:01</td>\n",
              "    </tr>\n",
              "    <tr>\n",
              "      <td>12</td>\n",
              "      <td>0.154366</td>\n",
              "      <td>0.167357</td>\n",
              "      <td>00:01</td>\n",
              "    </tr>\n",
              "    <tr>\n",
              "      <td>13</td>\n",
              "      <td>0.138024</td>\n",
              "      <td>0.173007</td>\n",
              "      <td>00:02</td>\n",
              "    </tr>\n",
              "    <tr>\n",
              "      <td>14</td>\n",
              "      <td>0.123989</td>\n",
              "      <td>0.136096</td>\n",
              "      <td>00:02</td>\n",
              "    </tr>\n",
              "    <tr>\n",
              "      <td>15</td>\n",
              "      <td>0.109585</td>\n",
              "      <td>0.138473</td>\n",
              "      <td>00:01</td>\n",
              "    </tr>\n",
              "    <tr>\n",
              "      <td>16</td>\n",
              "      <td>0.096970</td>\n",
              "      <td>0.134907</td>\n",
              "      <td>00:01</td>\n",
              "    </tr>\n",
              "    <tr>\n",
              "      <td>17</td>\n",
              "      <td>0.087291</td>\n",
              "      <td>0.137303</td>\n",
              "      <td>00:01</td>\n",
              "    </tr>\n",
              "    <tr>\n",
              "      <td>18</td>\n",
              "      <td>0.079951</td>\n",
              "      <td>0.148402</td>\n",
              "      <td>00:01</td>\n",
              "    </tr>\n",
              "    <tr>\n",
              "      <td>19</td>\n",
              "      <td>0.073116</td>\n",
              "      <td>0.130289</td>\n",
              "      <td>00:01</td>\n",
              "    </tr>\n",
              "    <tr>\n",
              "      <td>20</td>\n",
              "      <td>0.067027</td>\n",
              "      <td>0.149612</td>\n",
              "      <td>00:02</td>\n",
              "    </tr>\n",
              "    <tr>\n",
              "      <td>21</td>\n",
              "      <td>0.061691</td>\n",
              "      <td>0.149395</td>\n",
              "      <td>00:02</td>\n",
              "    </tr>\n",
              "    <tr>\n",
              "      <td>22</td>\n",
              "      <td>0.057637</td>\n",
              "      <td>0.150037</td>\n",
              "      <td>00:01</td>\n",
              "    </tr>\n",
              "    <tr>\n",
              "      <td>23</td>\n",
              "      <td>0.054388</td>\n",
              "      <td>0.158451</td>\n",
              "      <td>00:01</td>\n",
              "    </tr>\n",
              "    <tr>\n",
              "      <td>24</td>\n",
              "      <td>0.051712</td>\n",
              "      <td>0.156912</td>\n",
              "      <td>00:01</td>\n",
              "    </tr>\n",
              "    <tr>\n",
              "      <td>25</td>\n",
              "      <td>0.049323</td>\n",
              "      <td>0.155806</td>\n",
              "      <td>00:01</td>\n",
              "    </tr>\n",
              "    <tr>\n",
              "      <td>26</td>\n",
              "      <td>0.047542</td>\n",
              "      <td>0.163809</td>\n",
              "      <td>00:01</td>\n",
              "    </tr>\n",
              "    <tr>\n",
              "      <td>27</td>\n",
              "      <td>0.046227</td>\n",
              "      <td>0.164286</td>\n",
              "      <td>00:02</td>\n",
              "    </tr>\n",
              "    <tr>\n",
              "      <td>28</td>\n",
              "      <td>0.044916</td>\n",
              "      <td>0.161792</td>\n",
              "      <td>00:02</td>\n",
              "    </tr>\n",
              "    <tr>\n",
              "      <td>29</td>\n",
              "      <td>0.043942</td>\n",
              "      <td>0.161236</td>\n",
              "      <td>00:01</td>\n",
              "    </tr>\n",
              "  </tbody>\n",
              "</table>"
            ]
          },
          "metadata": {}
        },
        {
          "output_type": "display_data",
          "data": {
            "text/plain": [
              "<IPython.core.display.HTML object>"
            ],
            "text/html": [
              "\n",
              "<style>\n",
              "    /* Turns off some styling */\n",
              "    progress {\n",
              "        /* gets rid of default border in Firefox and Opera. */\n",
              "        border: none;\n",
              "        /* Needs to be in here for Safari polyfill so background images work as expected. */\n",
              "        background-size: auto;\n",
              "    }\n",
              "    progress:not([value]), progress:not([value])::-webkit-progress-bar {\n",
              "        background: repeating-linear-gradient(45deg, #7e7e7e, #7e7e7e 10px, #5c5c5c 10px, #5c5c5c 20px);\n",
              "    }\n",
              "    .progress-bar-interrupted, .progress-bar-interrupted::-webkit-progress-bar {\n",
              "        background: #F44336;\n",
              "    }\n",
              "</style>\n"
            ]
          },
          "metadata": {}
        },
        {
          "output_type": "display_data",
          "data": {
            "text/plain": [
              "<IPython.core.display.HTML object>"
            ],
            "text/html": []
          },
          "metadata": {}
        },
        {
          "output_type": "stream",
          "name": "stdout",
          "text": [
            "Confusion Matrix for Fold 4:\n",
            "[[92719  1994]\n",
            " [ 2551  8528]]\n"
          ]
        },
        {
          "output_type": "display_data",
          "data": {
            "text/plain": [
              "<IPython.core.display.HTML object>"
            ],
            "text/html": [
              "\n",
              "<style>\n",
              "    /* Turns off some styling */\n",
              "    progress {\n",
              "        /* gets rid of default border in Firefox and Opera. */\n",
              "        border: none;\n",
              "        /* Needs to be in here for Safari polyfill so background images work as expected. */\n",
              "        background-size: auto;\n",
              "    }\n",
              "    progress:not([value]), progress:not([value])::-webkit-progress-bar {\n",
              "        background: repeating-linear-gradient(45deg, #7e7e7e, #7e7e7e 10px, #5c5c5c 10px, #5c5c5c 20px);\n",
              "    }\n",
              "    .progress-bar-interrupted, .progress-bar-interrupted::-webkit-progress-bar {\n",
              "        background: #F44336;\n",
              "    }\n",
              "</style>\n"
            ]
          },
          "metadata": {}
        },
        {
          "output_type": "display_data",
          "data": {
            "text/plain": [
              "<IPython.core.display.HTML object>"
            ],
            "text/html": []
          },
          "metadata": {}
        },
        {
          "output_type": "stream",
          "name": "stdout",
          "text": [
            "Fold 5 of 5\n"
          ]
        },
        {
          "output_type": "display_data",
          "data": {
            "text/plain": [
              "<IPython.core.display.HTML object>"
            ],
            "text/html": [
              "\n",
              "<style>\n",
              "    /* Turns off some styling */\n",
              "    progress {\n",
              "        /* gets rid of default border in Firefox and Opera. */\n",
              "        border: none;\n",
              "        /* Needs to be in here for Safari polyfill so background images work as expected. */\n",
              "        background-size: auto;\n",
              "    }\n",
              "    progress:not([value]), progress:not([value])::-webkit-progress-bar {\n",
              "        background: repeating-linear-gradient(45deg, #7e7e7e, #7e7e7e 10px, #5c5c5c 10px, #5c5c5c 20px);\n",
              "    }\n",
              "    .progress-bar-interrupted, .progress-bar-interrupted::-webkit-progress-bar {\n",
              "        background: #F44336;\n",
              "    }\n",
              "</style>\n"
            ]
          },
          "metadata": {}
        },
        {
          "output_type": "display_data",
          "data": {
            "text/plain": [
              "<IPython.core.display.HTML object>"
            ],
            "text/html": [
              "<table border=\"1\" class=\"dataframe\">\n",
              "  <thead>\n",
              "    <tr style=\"text-align: left;\">\n",
              "      <th>epoch</th>\n",
              "      <th>train_loss</th>\n",
              "      <th>valid_loss</th>\n",
              "      <th>time</th>\n",
              "    </tr>\n",
              "  </thead>\n",
              "  <tbody>\n",
              "    <tr>\n",
              "      <td>0</td>\n",
              "      <td>0.421643</td>\n",
              "      <td>0.226203</td>\n",
              "      <td>00:01</td>\n",
              "    </tr>\n",
              "  </tbody>\n",
              "</table>"
            ]
          },
          "metadata": {}
        },
        {
          "output_type": "display_data",
          "data": {
            "text/plain": [
              "<IPython.core.display.HTML object>"
            ],
            "text/html": [
              "\n",
              "<style>\n",
              "    /* Turns off some styling */\n",
              "    progress {\n",
              "        /* gets rid of default border in Firefox and Opera. */\n",
              "        border: none;\n",
              "        /* Needs to be in here for Safari polyfill so background images work as expected. */\n",
              "        background-size: auto;\n",
              "    }\n",
              "    progress:not([value]), progress:not([value])::-webkit-progress-bar {\n",
              "        background: repeating-linear-gradient(45deg, #7e7e7e, #7e7e7e 10px, #5c5c5c 10px, #5c5c5c 20px);\n",
              "    }\n",
              "    .progress-bar-interrupted, .progress-bar-interrupted::-webkit-progress-bar {\n",
              "        background: #F44336;\n",
              "    }\n",
              "</style>\n"
            ]
          },
          "metadata": {}
        },
        {
          "output_type": "display_data",
          "data": {
            "text/plain": [
              "<IPython.core.display.HTML object>"
            ],
            "text/html": [
              "<table border=\"1\" class=\"dataframe\">\n",
              "  <thead>\n",
              "    <tr style=\"text-align: left;\">\n",
              "      <th>epoch</th>\n",
              "      <th>train_loss</th>\n",
              "      <th>valid_loss</th>\n",
              "      <th>time</th>\n",
              "    </tr>\n",
              "  </thead>\n",
              "  <tbody>\n",
              "    <tr>\n",
              "      <td>0</td>\n",
              "      <td>0.273594</td>\n",
              "      <td>0.215663</td>\n",
              "      <td>00:01</td>\n",
              "    </tr>\n",
              "    <tr>\n",
              "      <td>1</td>\n",
              "      <td>0.251984</td>\n",
              "      <td>0.196936</td>\n",
              "      <td>00:02</td>\n",
              "    </tr>\n",
              "    <tr>\n",
              "      <td>2</td>\n",
              "      <td>0.232932</td>\n",
              "      <td>0.193717</td>\n",
              "      <td>00:02</td>\n",
              "    </tr>\n",
              "    <tr>\n",
              "      <td>3</td>\n",
              "      <td>0.225801</td>\n",
              "      <td>0.195627</td>\n",
              "      <td>00:01</td>\n",
              "    </tr>\n",
              "    <tr>\n",
              "      <td>4</td>\n",
              "      <td>0.222316</td>\n",
              "      <td>0.183035</td>\n",
              "      <td>00:01</td>\n",
              "    </tr>\n",
              "    <tr>\n",
              "      <td>5</td>\n",
              "      <td>0.211675</td>\n",
              "      <td>0.182941</td>\n",
              "      <td>00:01</td>\n",
              "    </tr>\n",
              "    <tr>\n",
              "      <td>6</td>\n",
              "      <td>0.198596</td>\n",
              "      <td>0.165913</td>\n",
              "      <td>00:01</td>\n",
              "    </tr>\n",
              "    <tr>\n",
              "      <td>7</td>\n",
              "      <td>0.179099</td>\n",
              "      <td>0.166684</td>\n",
              "      <td>00:01</td>\n",
              "    </tr>\n",
              "    <tr>\n",
              "      <td>8</td>\n",
              "      <td>0.164920</td>\n",
              "      <td>0.171613</td>\n",
              "      <td>00:02</td>\n",
              "    </tr>\n",
              "    <tr>\n",
              "      <td>9</td>\n",
              "      <td>0.160064</td>\n",
              "      <td>0.205964</td>\n",
              "      <td>00:02</td>\n",
              "    </tr>\n",
              "    <tr>\n",
              "      <td>10</td>\n",
              "      <td>0.145884</td>\n",
              "      <td>0.175027</td>\n",
              "      <td>00:01</td>\n",
              "    </tr>\n",
              "    <tr>\n",
              "      <td>11</td>\n",
              "      <td>0.130667</td>\n",
              "      <td>0.216079</td>\n",
              "      <td>00:01</td>\n",
              "    </tr>\n",
              "    <tr>\n",
              "      <td>12</td>\n",
              "      <td>0.116823</td>\n",
              "      <td>0.236471</td>\n",
              "      <td>00:01</td>\n",
              "    </tr>\n",
              "    <tr>\n",
              "      <td>13</td>\n",
              "      <td>0.104561</td>\n",
              "      <td>0.280353</td>\n",
              "      <td>00:01</td>\n",
              "    </tr>\n",
              "    <tr>\n",
              "      <td>14</td>\n",
              "      <td>0.092707</td>\n",
              "      <td>0.383420</td>\n",
              "      <td>00:01</td>\n",
              "    </tr>\n",
              "    <tr>\n",
              "      <td>15</td>\n",
              "      <td>0.083134</td>\n",
              "      <td>0.383366</td>\n",
              "      <td>00:02</td>\n",
              "    </tr>\n",
              "    <tr>\n",
              "      <td>16</td>\n",
              "      <td>0.075364</td>\n",
              "      <td>0.247308</td>\n",
              "      <td>00:02</td>\n",
              "    </tr>\n",
              "    <tr>\n",
              "      <td>17</td>\n",
              "      <td>0.068519</td>\n",
              "      <td>0.420804</td>\n",
              "      <td>00:01</td>\n",
              "    </tr>\n",
              "    <tr>\n",
              "      <td>18</td>\n",
              "      <td>0.063717</td>\n",
              "      <td>0.246853</td>\n",
              "      <td>00:01</td>\n",
              "    </tr>\n",
              "    <tr>\n",
              "      <td>19</td>\n",
              "      <td>0.059156</td>\n",
              "      <td>0.341831</td>\n",
              "      <td>00:01</td>\n",
              "    </tr>\n",
              "    <tr>\n",
              "      <td>20</td>\n",
              "      <td>0.055742</td>\n",
              "      <td>0.432488</td>\n",
              "      <td>00:01</td>\n",
              "    </tr>\n",
              "    <tr>\n",
              "      <td>21</td>\n",
              "      <td>0.053041</td>\n",
              "      <td>0.306008</td>\n",
              "      <td>00:02</td>\n",
              "    </tr>\n",
              "    <tr>\n",
              "      <td>22</td>\n",
              "      <td>0.050111</td>\n",
              "      <td>0.355443</td>\n",
              "      <td>00:02</td>\n",
              "    </tr>\n",
              "    <tr>\n",
              "      <td>23</td>\n",
              "      <td>0.047180</td>\n",
              "      <td>0.348331</td>\n",
              "      <td>00:01</td>\n",
              "    </tr>\n",
              "    <tr>\n",
              "      <td>24</td>\n",
              "      <td>0.044813</td>\n",
              "      <td>0.352218</td>\n",
              "      <td>00:01</td>\n",
              "    </tr>\n",
              "    <tr>\n",
              "      <td>25</td>\n",
              "      <td>0.042879</td>\n",
              "      <td>0.330751</td>\n",
              "      <td>00:01</td>\n",
              "    </tr>\n",
              "    <tr>\n",
              "      <td>26</td>\n",
              "      <td>0.041436</td>\n",
              "      <td>0.370370</td>\n",
              "      <td>00:01</td>\n",
              "    </tr>\n",
              "    <tr>\n",
              "      <td>27</td>\n",
              "      <td>0.040193</td>\n",
              "      <td>0.337667</td>\n",
              "      <td>00:01</td>\n",
              "    </tr>\n",
              "    <tr>\n",
              "      <td>28</td>\n",
              "      <td>0.039375</td>\n",
              "      <td>0.344838</td>\n",
              "      <td>00:02</td>\n",
              "    </tr>\n",
              "    <tr>\n",
              "      <td>29</td>\n",
              "      <td>0.038806</td>\n",
              "      <td>0.353711</td>\n",
              "      <td>00:02</td>\n",
              "    </tr>\n",
              "  </tbody>\n",
              "</table>"
            ]
          },
          "metadata": {}
        },
        {
          "output_type": "display_data",
          "data": {
            "text/plain": [
              "<IPython.core.display.HTML object>"
            ],
            "text/html": [
              "\n",
              "<style>\n",
              "    /* Turns off some styling */\n",
              "    progress {\n",
              "        /* gets rid of default border in Firefox and Opera. */\n",
              "        border: none;\n",
              "        /* Needs to be in here for Safari polyfill so background images work as expected. */\n",
              "        background-size: auto;\n",
              "    }\n",
              "    progress:not([value]), progress:not([value])::-webkit-progress-bar {\n",
              "        background: repeating-linear-gradient(45deg, #7e7e7e, #7e7e7e 10px, #5c5c5c 10px, #5c5c5c 20px);\n",
              "    }\n",
              "    .progress-bar-interrupted, .progress-bar-interrupted::-webkit-progress-bar {\n",
              "        background: #F44336;\n",
              "    }\n",
              "</style>\n"
            ]
          },
          "metadata": {}
        },
        {
          "output_type": "display_data",
          "data": {
            "text/plain": [
              "<IPython.core.display.HTML object>"
            ],
            "text/html": []
          },
          "metadata": {}
        },
        {
          "output_type": "stream",
          "name": "stdout",
          "text": [
            "Confusion Matrix for Fold 5:\n",
            "[[93504   748]\n",
            " [ 4784  6756]]\n"
          ]
        },
        {
          "output_type": "display_data",
          "data": {
            "text/plain": [
              "<IPython.core.display.HTML object>"
            ],
            "text/html": [
              "\n",
              "<style>\n",
              "    /* Turns off some styling */\n",
              "    progress {\n",
              "        /* gets rid of default border in Firefox and Opera. */\n",
              "        border: none;\n",
              "        /* Needs to be in here for Safari polyfill so background images work as expected. */\n",
              "        background-size: auto;\n",
              "    }\n",
              "    progress:not([value]), progress:not([value])::-webkit-progress-bar {\n",
              "        background: repeating-linear-gradient(45deg, #7e7e7e, #7e7e7e 10px, #5c5c5c 10px, #5c5c5c 20px);\n",
              "    }\n",
              "    .progress-bar-interrupted, .progress-bar-interrupted::-webkit-progress-bar {\n",
              "        background: #F44336;\n",
              "    }\n",
              "</style>\n"
            ]
          },
          "metadata": {}
        },
        {
          "output_type": "display_data",
          "data": {
            "text/plain": [
              "<IPython.core.display.HTML object>"
            ],
            "text/html": []
          },
          "metadata": {}
        },
        {
          "output_type": "stream",
          "name": "stdout",
          "text": [
            "Average Confusion Matrix:\n",
            "[[90498.   1794.4]\n",
            " [ 4390.2  9109.4]]\n"
          ]
        }
      ]
    },
    {
      "cell_type": "code",
      "source": [
        "convert_values_png(os.path.join(directory, 'merged_predicted_labels_fold1.png'), os.path.join(directory, 'merged_predicted_labels_fold1_converted.png'), 255)\n",
        "convert_values_png(os.path.join(directory, 'merged_predicted_labels_fold2.png'), os.path.join(directory, 'merged_predicted_labels_fold2_converted.png'), 255)\n",
        "convert_values_png(os.path.join(directory, 'merged_predicted_labels_fold3.png'), os.path.join(directory, 'merged_predicted_labels_fold3_converted.png'), 255)\n",
        "convert_values_png(os.path.join(directory, 'merged_predicted_labels_fold4.png'), os.path.join(directory, 'merged_predicted_labels_fold4_converted.png'), 255)\n",
        "convert_values_png(os.path.join(directory, 'merged_predicted_labels_fold5.png'), os.path.join(directory, 'merged_predicted_labels_fold5_converted.png'), 255)"
      ],
      "metadata": {
        "id": "6JuXDtjZzLF9",
        "outputId": "174d3146-d3e9-44b7-f7cb-99983291049b",
        "colab": {
          "base_uri": "https://localhost:8080/"
        }
      },
      "execution_count": 58,
      "outputs": [
        {
          "output_type": "stream",
          "name": "stdout",
          "text": [
            "Image processing complete. Saved as /content/drive/MyDrive/Estufas/merged_predicted_labels_fold1_converted.png\n",
            "Image processing complete. Saved as /content/drive/MyDrive/Estufas/merged_predicted_labels_fold2_converted.png\n",
            "Image processing complete. Saved as /content/drive/MyDrive/Estufas/merged_predicted_labels_fold3_converted.png\n",
            "Image processing complete. Saved as /content/drive/MyDrive/Estufas/merged_predicted_labels_fold4_converted.png\n",
            "Image processing complete. Saved as /content/drive/MyDrive/Estufas/merged_predicted_labels_fold5_converted.png\n"
          ]
        }
      ]
    },
    {
      "cell_type": "code",
      "source": [
        "comission_omission_errors(os.path.join(directory, 'merged_labels.png'), os.path.join(directory, 'merged_predicted_labels_fold1_converted.png'), directory, 'comission_omission_fold1.png')\n",
        "comission_omission_errors(os.path.join(directory, 'merged_labels.png'), os.path.join(directory, 'merged_predicted_labels_fold2_converted.png'), directory, 'comission_omission_fold2.png')\n",
        "comission_omission_errors(os.path.join(directory, 'merged_labels.png'), os.path.join(directory, 'merged_predicted_labels_fold3_converted.png'), directory, 'comission_omission_fold3.png')\n",
        "comission_omission_errors(os.path.join(directory, 'merged_labels.png'), os.path.join(directory, 'merged_predicted_labels_fold4_converted.png'), directory, 'comission_omission_fold4.png')\n",
        "comission_omission_errors(os.path.join(directory, 'merged_labels.png'), os.path.join(directory, 'merged_predicted_labels_fold5_converted.png'), directory, 'comission_omission_fold5.png')"
      ],
      "metadata": {
        "colab": {
          "base_uri": "https://localhost:8080/",
          "height": 1000
        },
        "id": "jZ1ko1XTzVQ2",
        "outputId": "8eff5ccc-5fd3-47e3-ce60-78ef88d34dea"
      },
      "execution_count": 59,
      "outputs": [
        {
          "output_type": "display_data",
          "data": {
            "text/plain": [
              "<Figure size 800x600 with 1 Axes>"
            ],
            "image/png": "[encoded data removed]"
          },
          "metadata": {}
        },
        {
          "output_type": "display_data",
          "data": {
            "text/plain": [
              "<Figure size 800x600 with 1 Axes>"
            ],
            "image/png": "[encoded data removed]"
          },
          "metadata": {}
        },
        {
          "output_type": "display_data",
          "data": {
            "text/plain": [
              "<Figure size 800x600 with 1 Axes>"
            ],
            "image/png": "[encoded data removed]"
          },
          "metadata": {}
        },
        {
          "output_type": "display_data",
          "data": {
            "text/plain": [
              "<Figure size 800x600 with 1 Axes>"
            ],
            "image/png": "[encoded data removed]"
          },
          "metadata": {}
        },
        {
          "output_type": "display_data",
          "data": {
            "text/plain": [
              "<Figure size 800x600 with 1 Axes>"
            ],
            "image/png": "[encoded data removed]"
          },
          "metadata": {}
        }
      ]
    },
    {
      "cell_type": "markdown",
      "source": [
        "## Most common pixel"
      ],
      "metadata": {
        "id": "xICjxrFZmDHu"
      }
    },
    {
      "cell_type": "code",
      "source": [
        "vote_common_pixel = most_common_pixel()"
      ],
      "metadata": {
        "id": "m-AYMqm0GBqd"
      },
      "execution_count": null,
      "outputs": []
    },
    {
      "cell_type": "code",
      "source": [
        "display_unique_values_and_datatype(os.path.join(directory, 'common_pixel.png'))"
      ],
      "metadata": {
        "id": "FG8glwCfqQEW"
      },
      "execution_count": null,
      "outputs": []
    },
    {
      "cell_type": "code",
      "source": [
        "convert_values_png(os.path.join(directory, 'common_pixel.png'), os.path.join(directory, 'common_pixel_converted.png'), 255)"
      ],
      "metadata": {
        "id": "-8D9-s40qI6p",
        "outputId": "3714192b-514f-401c-a14b-6298c6471b95",
        "colab": {
          "base_uri": "https://localhost:8080/"
        }
      },
      "execution_count": 63,
      "outputs": [
        {
          "output_type": "stream",
          "name": "stdout",
          "text": [
            "Image processing complete. Saved as /content/drive/MyDrive/Estufas/common_pixel_converted.png\n"
          ]
        }
      ]
    },
    {
      "cell_type": "code",
      "source": [
        "comission_omission_errors(os.path.join(directory, 'merged_labels.png'), os.path.join(directory, 'common_pixel_converted.png'), directory, 'comission_omission_common_pixel.png')"
      ],
      "metadata": {
        "id": "CrsARaKrGlO8",
        "outputId": "8940638b-b498-46da-fd26-1c5d41b0a053",
        "colab": {
          "base_uri": "https://localhost:8080/",
          "height": 521
        }
      },
      "execution_count": 64,
      "outputs": [
        {
          "output_type": "display_data",
          "data": {
            "text/plain": [
              "<Figure size 800x600 with 1 Axes>"
            ],
            "image/png": "[encoded data removed]"
          },
          "metadata": {}
        }
      ]
    }
  ]
}