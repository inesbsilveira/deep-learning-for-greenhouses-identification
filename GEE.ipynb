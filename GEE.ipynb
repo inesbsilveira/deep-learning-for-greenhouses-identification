{
  "nbformat": 4,
  "nbformat_minor": 0,
  "metadata": {
    "colab": {
      "provenance": [],
      "mount_file_id": "https://github.com/inesbsilveira/estufas/blob/main/GEE.ipynb",
      "authorship_tag": "ABX9TyOC8tbRz0BD2k6KsvuIlIbA",
      "include_colab_link": true
    },
    "kernelspec": {
      "name": "python3",
      "display_name": "Python 3"
    },
    "language_info": {
      "name": "python"
    }
  },
  "cells": [
    {
      "cell_type": "markdown",
      "metadata": {
        "id": "view-in-github",
        "colab_type": "text"
      },
      "source": [
        "<a href=\"https://colab.research.google.com/github/inesbsilveira/estufas/blob/main/GEE.ipynb\" target=\"_parent\"><img src=\"https://colab.research.google.com/assets/colab-badge.svg\" alt=\"Open In Colab\"/></a>"
      ]
    },
    {
      "cell_type": "code",
      "execution_count": 39,
      "metadata": {
        "id": "DRZQokWavt3d",
        "outputId": "414f9e90-57db-473e-ee8b-cdc4e4f2ac1e",
        "colab": {
          "base_uri": "https://localhost:8080/"
        }
      },
      "outputs": [
        {
          "output_type": "stream",
          "name": "stdout",
          "text": [
            "To authorize access needed by Earth Engine, open the following URL in a web browser and follow the instructions. If the web browser does not start automatically, please manually browse the URL below.\n",
            "\n",
            "    https://code.earthengine.google.com/client-auth?scopes=https%3A//www.googleapis.com/auth/earthengine%20https%3A//www.googleapis.com/auth/devstorage.full_control&request_id=FMTHvr8aZFJvyj3mjXLz0FDI3nQYkao2r6bcL4zNVPs&tc=Ho2DAMQGZQxvu1NtF8-BvvLOGUVM67uMWQ4a4abNcrM&cc=x6kWiT1DxRYbjq1wpdI69YGXkDI0B3HyGl6OSgAcShk\n",
            "\n",
            "The authorization workflow will generate a code, which you should paste in the box below.\n",
            "Enter verification code: 4/1AfJohXnIN4Oz20oHQH4aDZwRAFwv8aY98UdT7_BTysCIdwAsyZR3VUyByNM\n",
            "\n",
            "Successfully saved authorization token.\n"
          ]
        }
      ],
      "source": [
        "import ee\n",
        "\n",
        "# Trigger the authentication flow.\n",
        "ee.Authenticate()\n",
        "\n",
        "# Initialize the library.\n",
        "ee.Initialize()\n",
        "\n",
        "# isto deveria estar dentro da função??"
      ]
    },
    {
      "cell_type": "code",
      "source": [
        "from google.colab import drive\n",
        "drive.mount('/content/drive')"
      ],
      "metadata": {
        "id": "e5r2QLQFCrXr",
        "outputId": "b8f02d8c-ba9c-43e4-b2f7-2de954ef7255",
        "colab": {
          "base_uri": "https://localhost:8080/"
        }
      },
      "execution_count": null,
      "outputs": [
        {
          "output_type": "stream",
          "name": "stdout",
          "text": [
            "Drive already mounted at /content/drive; to attempt to forcibly remount, call drive.mount(\"/content/drive\", force_remount=True).\n"
          ]
        }
      ]
    },
    {
      "cell_type": "code",
      "source": [
        "# Function to extract images from google earth engine\n",
        "\n",
        "\"\"\"\n",
        "Inputs:\n",
        "- extent = (lonmin, lonmax, latmin, latmax)\n",
        "- start_date and end_date = 'YYY-MM-DD'\n",
        "- band_name = 'B2', 'B3', 'B4' or 'B8'\n",
        "- folder_name = 'folder_name' is where the tiff file is stored\n",
        "Output: tiff file saved in folder_name\n",
        "\"\"\"\n",
        "\n",
        "def gee_images(extent, start_date, end_date, band_name, folder_name):\n",
        "\n",
        "    # Define the extent\n",
        "    lonmin, lonmax, latmin, latmax = extent\n",
        "\n",
        "    region = ee.Geometry.Polygon(\n",
        "        [[\n",
        "            [lonmin, latmin],\n",
        "            [lonmax, latmin],\n",
        "            [lonmax, latmax],\n",
        "            [lonmin, latmax]\n",
        "        ]])\n",
        "\n",
        "    # Create an image collection for Sentinel-2A\n",
        "    collection = ee.ImageCollection('COPERNICUS/S2') \\\n",
        "        .filterDate(start_date, end_date) \\\n",
        "        .filterBounds(region)\n",
        "\n",
        "    # Select the band using the band_name parameter\n",
        "    band = collection.select(band_name)\n",
        "\n",
        "    # Reduce the collection to a single image using median (or other reducers)\n",
        "    median_image = band.median()\n",
        "\n",
        "    # Create a region of interest mask\n",
        "    roi_image = ee.Image().paint(region, 1, 1)\n",
        "\n",
        "    # Mask the median image with the ROI\n",
        "    band_masked = median_image.updateMask(roi_image)\n",
        "\n",
        "    # Print the resulting image (for debugging purposes)\n",
        "    print(\"Band image:\", band_masked)\n",
        "\n",
        "    task = ee.batch.Export.image.toDrive(\n",
        "        image=band_masked,\n",
        "        description=f'{band_name}_Image',\n",
        "        folder=folder_name,\n",
        "        scale=10,\n",
        "        maxPixels=1e13\n",
        "    )\n",
        "\n",
        "    # Start the export task\n",
        "    task.start()\n"
      ],
      "metadata": {
        "id": "RWjopGV8Qtmn"
      },
      "execution_count": 40,
      "outputs": []
    },
    {
      "cell_type": "code",
      "source": [
        "\n",
        "gee_images((-8.793267, -8.7410763, 37.4473346, 37.553255), '2022-07-01', '2022-07-31', 'B2', 'Estufas')"
      ],
      "metadata": {
        "id": "E3z5JqiPQ2gl"
      },
      "execution_count": null,
      "outputs": []
    },
    {
      "cell_type": "code",
      "source": [
        "# Define the ROI polygon\n",
        "lonmin = -8.796344\n",
        "lonmax = -8.741399\n",
        "latmin = 37.440509\n",
        "latmax = 37.559064\n",
        "\n",
        "regiao = ee.Geometry.Polygon(\n",
        "    [[[lonmin, latmin],\n",
        "      [lonmax, latmin],\n",
        "      [lonmax, latmax],\n",
        "      [lonmin, latmax]]])\n",
        "\n",
        "# Define the date range\n",
        "start_date = '2022-07-01'\n",
        "end_date = '2022-07-31'\n",
        "\n",
        "# Create an image collection for Sentinel-2A\n",
        "collection = ee.ImageCollection('COPERNICUS/S2') \\\n",
        "    .filterDate(start_date, end_date) \\\n",
        "    .filterBounds(regiao)\n",
        "\n",
        "# Select the B2 (blue) band\n",
        "blue_band = collection.select('B2')\n",
        "\n",
        "# Reduce the collection to a single image using median (or other reducers)\n",
        "median_image = blue_band.median()\n",
        "\n",
        "# Create a region of interest mask\n",
        "roi_image = ee.Image().paint(regiao, 1, 1)\n",
        "\n",
        "# Mask the median image with the ROI\n",
        "blue_band_masked = median_image.updateMask(roi_image)\n",
        "\n",
        "# Print the resulting image\n",
        "print(\"Blue band image:\", blue_band_masked)\n",
        "\n",
        "task = ee.batch.Export.image.toDrive(image=blue_band_masked,\n",
        "                                    description='B2_Image_t',\n",
        "                                    folder='Estufas',\n",
        "                                    scale=10,\n",
        "                                    maxPixels=1e13)\n",
        "\n",
        "# Start the export task\n",
        "task.start()\n"
      ],
      "metadata": {
        "id": "_yuc6tULAu8q"
      },
      "execution_count": null,
      "outputs": []
    }
  ]
}