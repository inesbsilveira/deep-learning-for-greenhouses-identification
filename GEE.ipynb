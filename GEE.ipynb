{
  "nbformat": 4,
  "nbformat_minor": 0,
  "metadata": {
    "colab": {
      "provenance": [],
      "authorship_tag": "ABX9TyMmujk6Ki/yfsT4NByU6vdB",
      "include_colab_link": true
    },
    "kernelspec": {
      "name": "python3",
      "display_name": "Python 3"
    },
    "language_info": {
      "name": "python"
    }
  },
  "cells": [
    {
      "cell_type": "markdown",
      "metadata": {
        "id": "view-in-github",
        "colab_type": "text"
      },
      "source": [
        "<a href=\"https://colab.research.google.com/github/inesbsilveira/estufas/blob/main/GEE.ipynb\" target=\"_parent\"><img src=\"https://colab.research.google.com/assets/colab-badge.svg\" alt=\"Open In Colab\"/></a>"
      ]
    },
    {
      "cell_type": "code",
      "execution_count": 1,
      "metadata": {
        "colab": {
          "base_uri": "https://localhost:8080/"
        },
        "id": "DRZQokWavt3d",
        "outputId": "324eefa8-cc79-483e-eb1e-8d728d703941"
      },
      "outputs": [
        {
          "output_type": "stream",
          "name": "stdout",
          "text": [
            "To authorize access needed by Earth Engine, open the following URL in a web browser and follow the instructions. If the web browser does not start automatically, please manually browse the URL below.\n",
            "\n",
            "    https://code.earthengine.google.com/client-auth?scopes=https%3A//www.googleapis.com/auth/earthengine%20https%3A//www.googleapis.com/auth/devstorage.full_control&request_id=0mOo_Ws721Fv2WHm08WmzTEFtKWPkP25sd1gu3wJJxM&tc=x0CphMzHsAsoDgsUy8orspd8HDr0wX_K0WThL2_Pv4Y&cc=IMMx9j0XMTCSDn2oPWQzCGMn0j1p_dgFG13-srhQSnQ\n",
            "\n",
            "The authorization workflow will generate a code, which you should paste in the box below.\n",
            "Enter verification code: 4/1AfJohXnkXLXw3_u3kv3b6OFQ8ew-R_cHbnklR0HFNRFcpjif3h4F5HQ3kBM\n",
            "\n",
            "Successfully saved authorization token.\n"
          ]
        }
      ],
      "source": [
        "import ee\n",
        "\n",
        "# Trigger the authentication flow.\n",
        "ee.Authenticate()\n",
        "\n",
        "# Initialize the library.\n",
        "ee.Initialize()"
      ]
    },
    {
      "cell_type": "code",
      "source": [
        "import datetime\n"
      ],
      "metadata": {
        "id": "CijEzu1dwzuC"
      },
      "execution_count": 8,
      "outputs": []
    },
    {
      "cell_type": "code",
      "source": [
        "# Define the region polygon\n",
        "lonmin = -8.63548\n",
        "lonmax = -8.34998\n",
        "latmin = 37.18145\n",
        "latmax = 37.41591\n",
        "region = ee.Geometry.Polygon(\n",
        "    [[lonmin, latmin],\n",
        "     [lonmax, latmin],\n",
        "     [lonmax, latmax],\n",
        "     [lonmin, latmax]])\n",
        "\n",
        "# Define the Sentinel-2 image collection and filter it by date and region\n",
        "sentinel2 = ee.ImageCollection('COPERNICUS/S2') \\\n",
        "    .filterBounds(region) \\\n",
        "    .filterDate('2021-01-01', '2021-12-31')  # Change the date range as needed\n",
        "\n",
        "# Define a function to mask clouds using the QA60 band\n",
        "def maskClouds(image):\n",
        "    cloudBitMask = 1 << 10\n",
        "    cirrusBitMask = 1 << 11\n",
        "    qa60 = image.select(['QA60'])\n",
        "    cloudMask = qa60.bitwiseAnd(cloudBitMask).eq(0) \\\n",
        "        .And(qa60.bitwiseAnd(cirrusBitMask).eq(0))\n",
        "    return image.updateMask(cloudMask)\n",
        "\n",
        "# Map the maskClouds function over the image collection\n",
        "sentinel2 = sentinel2.map(maskClouds)\n",
        "\n",
        "# Define a function to add a band containing the date of the image\n",
        "def addDate(image):\n",
        "    return image.addBands(image.metadata('system:time_start'))\n",
        "\n",
        "# Map the addDate function over the image collection\n",
        "sentinel2 = sentinel2.map(addDate)\n",
        "\n",
        "# Export each image to Google Drive\n",
        "image_list = sentinel2.toList(sentinel2.size())\n",
        "for i in range(0, sentinel2.size().getInfo()):\n",
        "    image = ee.Image(image_list.get(i))\n",
        "    date = ee.Date(image.get('system:time_start')).format('YYYY-MM-dd')\n",
        "    task = ee.batch.Export.image.toDrive(\n",
        "        image=image.select(['B2', 'B3', 'B4', 'B8']),  # Select the bands you want to export\n",
        "        description='Sentinel2_' + date.getInfo(),\n",
        "        folder='Sentinel2_Images',\n",
        "        region=region,\n",
        "        scale=10  # Change the scale as needed\n",
        "    )\n",
        "    task.start()\n"
      ],
      "metadata": {
        "id": "T4cI3KI20FoX"
      },
      "execution_count": 21,
      "outputs": []
    }
  ]
}