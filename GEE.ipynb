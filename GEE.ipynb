{
  "nbformat": 4,
  "nbformat_minor": 0,
  "metadata": {
    "colab": {
      "provenance": [],
      "mount_file_id": "https://github.com/inesbsilveira/estufas/blob/main/GEE.ipynb",
      "authorship_tag": "ABX9TyMItkW4OghsmPbm4yWX83PV",
      "include_colab_link": true
    },
    "kernelspec": {
      "name": "python3",
      "display_name": "Python 3"
    },
    "language_info": {
      "name": "python"
    }
  },
  "cells": [
    {
      "cell_type": "markdown",
      "metadata": {
        "id": "view-in-github",
        "colab_type": "text"
      },
      "source": [
        "<a href=\"https://colab.research.google.com/github/inesbsilveira/estufas/blob/main/GEE.ipynb\" target=\"_parent\"><img src=\"https://colab.research.google.com/assets/colab-badge.svg\" alt=\"Open In Colab\"/></a>"
      ]
    },
    {
      "cell_type": "code",
      "execution_count": null,
      "metadata": {
        "id": "DRZQokWavt3d"
      },
      "outputs": [],
      "source": [
        "import ee\n",
        "\n",
        "# Trigger the authentication flow.\n",
        "ee.Authenticate()\n",
        "\n",
        "# Initialize the library.\n",
        "ee.Initialize()"
      ]
    },
    {
      "cell_type": "code",
      "source": [
        "import datetime\n",
        "import folium"
      ],
      "metadata": {
        "id": "CijEzu1dwzuC"
      },
      "execution_count": 8,
      "outputs": []
    },
    {
      "cell_type": "code",
      "source": [
        "from google.colab import drive\n",
        "drive.mount('/content/drive')"
      ],
      "metadata": {
        "id": "e5r2QLQFCrXr",
        "outputId": "b8f02d8c-ba9c-43e4-b2f7-2de954ef7255",
        "colab": {
          "base_uri": "https://localhost:8080/"
        }
      },
      "execution_count": 26,
      "outputs": [
        {
          "output_type": "stream",
          "name": "stdout",
          "text": [
            "Drive already mounted at /content/drive; to attempt to forcibly remount, call drive.mount(\"/content/drive\", force_remount=True).\n"
          ]
        }
      ]
    },
    {
      "cell_type": "code",
      "source": [
        "def gee_images(extent, start_date, end_date, band_name, folder_name):\n",
        "    lonmin, lonmax, latmin, latmax = extent\n",
        "\n",
        "    region = ee.Geometry.Polygon(\n",
        "        [[\n",
        "            [lonmin, latmin],\n",
        "            [lonmax, latmin],\n",
        "            [lonmax, latmax],\n",
        "            [lonmin, latmax]\n",
        "        ]])\n",
        "\n",
        "    # Create an image collection for Sentinel-2A\n",
        "    collection = ee.ImageCollection('COPERNICUS/S2') \\\n",
        "        .filterDate(start_date, end_date) \\\n",
        "        .filterBounds(region)\n",
        "\n",
        "    # Select the band using the band_name parameter\n",
        "    band = collection.select(band_name)\n",
        "\n",
        "    # Reduce the collection to a single image using median (or other reducers)\n",
        "    median_image = band.median()\n",
        "\n",
        "    # Create a region of interest mask\n",
        "    roi_image = ee.Image().paint(region, 1, 1)\n",
        "\n",
        "    # Mask the median image with the ROI\n",
        "    band_masked = median_image.updateMask(roi_image)\n",
        "\n",
        "    # Print the resulting image (for debugging purposes)\n",
        "    print(\"Band image:\", band_masked)\n",
        "\n",
        "    task = ee.batch.Export.image.toDrive(\n",
        "        image=band_masked,  # Corrected the variable name\n",
        "        description=f'{band_name}_Image',  # Used f-string for dynamic description\n",
        "        folder=folder_name,\n",
        "        scale=10,\n",
        "        maxPixels=1e13\n",
        "    )\n",
        "\n",
        "    # Start the export task\n",
        "    task.start()\n"
      ],
      "metadata": {
        "id": "RWjopGV8Qtmn"
      },
      "execution_count": null,
      "outputs": []
    },
    {
      "cell_type": "code",
      "source": [
        "# Example usage\n",
        "gee_images((-8.796344, -8.741399, 37.440509, 37.559064), '2022-07-01', '2022-07-31', 'B2', 'Estufas')"
      ],
      "metadata": {
        "id": "E3z5JqiPQ2gl"
      },
      "execution_count": null,
      "outputs": []
    },
    {
      "cell_type": "code",
      "source": [
        "# Define the ROI polygon\n",
        "lonmin = -8.796344\n",
        "lonmax = -8.741399\n",
        "latmin = 37.440509\n",
        "latmax = 37.559064\n",
        "\n",
        "regiao = ee.Geometry.Polygon(\n",
        "    [[[lonmin, latmin],\n",
        "      [lonmax, latmin],\n",
        "      [lonmax, latmax],\n",
        "      [lonmin, latmax]]])\n",
        "\n",
        "# Define the date range\n",
        "start_date = '2022-07-01'\n",
        "end_date = '2022-07-31'\n",
        "\n",
        "# Create an image collection for Sentinel-2A\n",
        "collection = ee.ImageCollection('COPERNICUS/S2') \\\n",
        "    .filterDate(start_date, end_date) \\\n",
        "    .filterBounds(regiao)\n",
        "\n",
        "# Select the B2 (blue) band\n",
        "blue_band = collection.select('B2')\n",
        "\n",
        "# Reduce the collection to a single image using median (or other reducers)\n",
        "median_image = blue_band.median()\n",
        "\n",
        "# Create a region of interest mask\n",
        "roi_image = ee.Image().paint(regiao, 1, 1)\n",
        "\n",
        "# Mask the median image with the ROI\n",
        "blue_band_masked = median_image.updateMask(roi_image)\n",
        "\n",
        "# Print the resulting image\n",
        "print(\"Blue band image:\", blue_band_masked)\n",
        "\n",
        "task = ee.batch.Export.image.toDrive(image=blue_band_masked,\n",
        "                                    description='B2_Image_t',\n",
        "                                    folder='Estufas',\n",
        "                                    scale=10,\n",
        "                                    maxPixels=1e13)\n",
        "\n",
        "# Start the export task\n",
        "task.start()\n"
      ],
      "metadata": {
        "id": "_yuc6tULAu8q"
      },
      "execution_count": null,
      "outputs": []
    }
  ]
}