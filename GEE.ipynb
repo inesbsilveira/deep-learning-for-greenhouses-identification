{
  "nbformat": 4,
  "nbformat_minor": 0,
  "metadata": {
    "colab": {
      "provenance": [],
      "mount_file_id": "https://github.com/inesbsilveira/estufas/blob/main/GEE.ipynb",
      "authorship_tag": "ABX9TyMYkG5nuYTRA34GJiaCuUAq",
      "include_colab_link": true
    },
    "kernelspec": {
      "name": "python3",
      "display_name": "Python 3"
    },
    "language_info": {
      "name": "python"
    }
  },
  "cells": [
    {
      "cell_type": "markdown",
      "metadata": {
        "id": "view-in-github",
        "colab_type": "text"
      },
      "source": [
        "<a href=\"https://colab.research.google.com/github/inesbsilveira/estufas/blob/main/GEE.ipynb\" target=\"_parent\"><img src=\"https://colab.research.google.com/assets/colab-badge.svg\" alt=\"Open In Colab\"/></a>"
      ]
    },
    {
      "cell_type": "code",
      "execution_count": 2,
      "metadata": {
        "id": "DRZQokWavt3d",
        "outputId": "7e0a4532-7c08-42ef-e19d-2706c15d5ed6",
        "colab": {
          "base_uri": "https://localhost:8080/"
        }
      },
      "outputs": [
        {
          "output_type": "stream",
          "name": "stdout",
          "text": [
            "To authorize access needed by Earth Engine, open the following URL in a web browser and follow the instructions. If the web browser does not start automatically, please manually browse the URL below.\n",
            "\n",
            "    https://code.earthengine.google.com/client-auth?scopes=https%3A//www.googleapis.com/auth/earthengine%20https%3A//www.googleapis.com/auth/devstorage.full_control&request_id=mwslWFSOgusRBeD7vQQbdiWedGb7OirG8t1fxhJh8Z0&tc=NpCUat59KJ1JgfZkqWYgVNOi0_3BNTKaPq5l1FqgJY4&cc=Ee9myK6IR_gTjic5hqxczrLP_ST3bAqUWPOUKTWx8wc\n",
            "\n",
            "The authorization workflow will generate a code, which you should paste in the box below.\n",
            "Enter verification code: 4/1AfJohXlPamcze1_fBir-z31zPuOBhRJLMEZKfKZ57EtTJglZJRG8UVWrLcg\n",
            "\n",
            "Successfully saved authorization token.\n"
          ]
        }
      ],
      "source": [
        "import ee\n",
        "\n",
        "# Trigger the authentication flow.\n",
        "ee.Authenticate()\n",
        "\n",
        "# Initialize the library.\n",
        "ee.Initialize()\n",
        "\n",
        "# isto deveria estar dentro da função??"
      ]
    },
    {
      "cell_type": "code",
      "source": [
        "from google.colab import drive\n",
        "drive.mount('/content/drive')"
      ],
      "metadata": {
        "id": "e5r2QLQFCrXr",
        "outputId": "e7dcbc93-b4c4-4352-d618-181b9d87205c",
        "colab": {
          "base_uri": "https://localhost:8080/"
        }
      },
      "execution_count": 3,
      "outputs": [
        {
          "output_type": "stream",
          "name": "stdout",
          "text": [
            "Drive already mounted at /content/drive; to attempt to forcibly remount, call drive.mount(\"/content/drive\", force_remount=True).\n"
          ]
        }
      ]
    },
    {
      "cell_type": "code",
      "source": [
        "# Function to extract images from google earth engine\n",
        "\n",
        "\"\"\"\n",
        "Inputs:\n",
        "- extent = (lonmin, lonmax, latmin, latmax)\n",
        "- start_date and end_date = 'YYY-MM-DD'\n",
        "- band_name = 'B2', 'B3', 'B4' or 'B8'\n",
        "- folder_name = 'folder_name' is where the tiff file is stored\n",
        "Output: tiff file saved in folder_name\n",
        "\"\"\"\n",
        "\n",
        "def gee_images (extent, start_date, end_date, band_name, folder_name):\n",
        "    # Define the extent\n",
        "    lonmin, lonmax, latmin, latmax = extent\n",
        "\n",
        "    region = ee.Geometry.Polygon(\n",
        "        [[\n",
        "            [lonmin, latmin],\n",
        "            [lonmax, latmin],\n",
        "            [lonmax, latmax],\n",
        "            [lonmin, latmax]\n",
        "        ]])\n",
        "\n",
        "    # Define the Sentinel-2 image collection and filter it by date and region\n",
        "    sentinel2 = ee.ImageCollection('COPERNICUS/S2') \\\n",
        "        .filterBounds(region) \\\n",
        "        .filterDate(start_date, end_date)  # Change the date range as needed\n",
        "\n",
        "    # Define a function to mask clouds using the QA60 band\n",
        "    def maskClouds(image):\n",
        "        cloudBitMask = 1 << 10\n",
        "        cirrusBitMask = 1 << 11\n",
        "        qa60 = image.select(['QA60'])\n",
        "        cloudMask = qa60.bitwiseAnd(cloudBitMask).eq(0) \\\n",
        "            .And(qa60.bitwiseAnd(cirrusBitMask).eq(0))\n",
        "        return image.updateMask(cloudMask)\n",
        "\n",
        "    # Map the maskClouds function over the image collection\n",
        "    sentinel2 = sentinel2.map(maskClouds)\n",
        "\n",
        "    # Define a function to add a band containing the date of the image\n",
        "    def addDate(image):\n",
        "        return image.addBands(image.metadata('system:time_start'))\n",
        "\n",
        "    # Map the addDate function over the image collection\n",
        "    sentinel2 = sentinel2.map(addDate)\n",
        "\n",
        "    # Export each image to Google Drive\n",
        "    image_list = sentinel2.toList(sentinel2.size())\n",
        "    for i in range(0, sentinel2.size().getInfo()):\n",
        "        image = ee.Image(image_list.get(i))\n",
        "        date = ee.Date(image.get('system:time_start')).format('YYYY-MM-dd')\n",
        "        task = ee.batch.Export.image.toDrive(\n",
        "            image=image.select([band_name]),\n",
        "            #image=image.select(['B2', 'B3', 'B4', 'B8']),# Select the bands you want to export\n",
        "            description='Sentinel2_' + band_name + '_' + date.getInfo(),\n",
        "            folder= folder_name,\n",
        "            region=region,\n",
        "            scale=10  # Change the scale as needed\n",
        "        )\n",
        "        task.start()"
      ],
      "metadata": {
        "id": "E4iuf1lZlKLA"
      },
      "execution_count": 8,
      "outputs": []
    },
    {
      "cell_type": "code",
      "source": [
        "gee_images((-8.793267, -8.7410763, 37.4473346, 37.553255), '2022-07-20', '2022-07-25', 'B2', 'Estufas')"
      ],
      "metadata": {
        "id": "ZT6MQSvrl_7p"
      },
      "execution_count": 9,
      "outputs": []
    }
  ]
}